{
 "cells": [
  {
   "cell_type": "code",
   "execution_count": 72,
   "id": "2783b712-422b-43c7-9c3f-33e83d8511e9",
   "metadata": {},
   "outputs": [
    {
     "ename": "ModuleNotFoundError",
     "evalue": "No module named 'spacy'",
     "output_type": "error",
     "traceback": [
      "\u001b[1;31m---------------------------------------------------------------------------\u001b[0m",
      "\u001b[1;31mModuleNotFoundError\u001b[0m                       Traceback (most recent call last)",
      "\u001b[1;32mc:\\Users\\hugol\\Documents\\Fac\\2023_2024\\Projet\\Tache SemEval\\LegalEval_baseline_feature_based.ipynb Cell 1\u001b[0m line \u001b[0;36m9\n\u001b[0;32m      <a href='vscode-notebook-cell:/c%3A/Users/hugol/Documents/Fac/2023_2024/Projet/Tache%20SemEval/LegalEval_baseline_feature_based.ipynb#W0sZmlsZQ%3D%3D?line=6'>7</a>\u001b[0m \u001b[39mimport\u001b[39;00m \u001b[39mpandas\u001b[39;00m \u001b[39mas\u001b[39;00m \u001b[39mpd\u001b[39;00m\n\u001b[0;32m      <a href='vscode-notebook-cell:/c%3A/Users/hugol/Documents/Fac/2023_2024/Projet/Tache%20SemEval/LegalEval_baseline_feature_based.ipynb#W0sZmlsZQ%3D%3D?line=7'>8</a>\u001b[0m \u001b[39mimport\u001b[39;00m \u001b[39mnumpy\u001b[39;00m \u001b[39mas\u001b[39;00m \u001b[39mnp\u001b[39;00m\n\u001b[1;32m----> <a href='vscode-notebook-cell:/c%3A/Users/hugol/Documents/Fac/2023_2024/Projet/Tache%20SemEval/LegalEval_baseline_feature_based.ipynb#W0sZmlsZQ%3D%3D?line=8'>9</a>\u001b[0m \u001b[39mimport\u001b[39;00m \u001b[39mspacy\u001b[39;00m\n",
      "\u001b[1;31mModuleNotFoundError\u001b[0m: No module named 'spacy'"
     ]
    }
   ],
   "source": [
    "from sklearn.compose import ColumnTransformer\n",
    "from sklearn.preprocessing import FunctionTransformer\n",
    "from sklearn.pipeline import make_pipeline\n",
    "from sklearn.linear_model import LogisticRegression\n",
    "from sklearn.feature_extraction.text import CountVectorizer\n",
    "from sklearn.feature_extraction.text import TfidfVectorizer\n",
    "import pandas as pd\n",
    "import numpy as np\n",
    "import spacy"
   ]
  },
  {
   "cell_type": "markdown",
   "id": "979a4ae3-919e-455a-827d-769c709bd74e",
   "metadata": {},
   "source": [
    "## Chargement des données"
   ]
  },
  {
   "cell_type": "code",
   "execution_count": 2,
   "id": "4b2f7e9e-3d9b-4033-be4f-17c59001bc42",
   "metadata": {},
   "outputs": [],
   "source": [
    "train = pd.read_csv('BUILD/train.csv')\n",
    "dev = pd.read_csv('BUILD/dev.csv')"
   ]
  },
  {
   "cell_type": "markdown",
   "id": "adff3a15-4b23-4aff-a26a-81502588afe0",
   "metadata": {},
   "source": [
    "## Extraction des descripteurs"
   ]
  },
  {
   "cell_type": "markdown",
   "id": "09c32d1e-47df-48d8-955c-48178de7769c",
   "metadata": {},
   "source": [
    "Le ColumnTransformer permet de calculer des descripteurs simplement à partir d'un dataframe.\n",
    "Il s'agit d'une liste de 3 élements:\n",
    "    - le nom du descripteur (str)\n",
    "    - une fonction ou un objet scikit-learn qui implémente `fit` et ou `transform`\n",
    "    - la colonne à utiliser\n",
    "\n",
    "Par exemple pour le descripteur `sentence_position`, on va utiliser la colonne `sentence_percent` directement (`passthrough`) (il faut utiliser des crochets pour que la taille du vecteur soit correcte)."
   ]
  },
  {
   "cell_type": "code",
   "execution_count": 3,
   "id": "f258c0c1-3048-4683-b46d-263e0810b6f4",
   "metadata": {},
   "outputs": [],
   "source": [
    "# Cette fonction reçoit les colonnes choisies pour tout les exemples\n",
    "# et renvoie un array numpy avec de taille (nb_exemple, nb_features)\n",
    "def sentence_position(df):\n",
    "    # print(df.shape, df.columns)\n",
    "    \n",
    "    # calcule le nombre de phrase par document dans un dictionnaire\n",
    "    doc2nbsent = df.groupby('doc_id')['sentence_index'].max().to_dict()\n",
    "    # crée une colonne qui associe à chaque document_id le nombre de phrase du document\n",
    "    df['nb_sent'] = df['doc_id'].map(doc2nbsent.get)\n",
    "    # calcul le rapport entre l'indice de la phrase et le nombre total de phrases\n",
    "    position = df['sentence_index'] / df['nb_sent']\n",
    "\n",
    "    # Converti la colonne pandas (pd.Series) en array numpy (np.ndarray) puis lui\n",
    "    # donne la taille (n_samples, n_features_new), -1 représente le nombre d'élément\n",
    "    # original et 1 la nouvelle feature que l'on a créée\n",
    "    return position.values.reshape(-1, 1)"
   ]
  },
  {
   "cell_type": "code",
   "execution_count": 4,
   "id": "1a526175-92b9-4c29-a40d-d731e4bec04f",
   "metadata": {},
   "outputs": [],
   "source": [
    "def contains_ldots(sentence):\n",
    "    return 1 if '...' in sentence else 0"
   ]
  },
  {
   "cell_type": "code",
   "execution_count": 5,
   "id": "86f13059-3037-4f21-a307-bc200f8e3ac6",
   "metadata": {},
   "outputs": [],
   "source": [
    "dev['contains_ldots'] = dev['text'].map(contains_ldots)\n",
    "train['contains_ldots'] = train['text'].map(contains_ldots)"
   ]
  },
  {
   "cell_type": "markdown",
   "id": "040394fb",
   "metadata": {},
   "source": [
    "Ajout du descripteur Sentence Length:"
   ]
  },
  {
   "cell_type": "code",
   "execution_count": 20,
   "id": "ef005d98",
   "metadata": {},
   "outputs": [],
   "source": [
    "# Fonction pour extraire la longueur de chaque phrase en nombre de mots\n",
    "def sentence_length(df):\n",
    "    # Utilisez la fonction str.split() pour diviser chaque phrase en mots et compter leur nombre\n",
    "    lengths = df['text'].apply(lambda x: len(x.split()))\n",
    "    # Convertissez la colonne pandas en array numpy et redimensionnez-la\n",
    "    return lengths.values.reshape(-1, 1)\n"
   ]
  },
  {
   "cell_type": "code",
   "execution_count": 60,
   "id": "10cc1730-c5d3-4471-b2e9-865db82ded17",
   "metadata": {},
   "outputs": [],
   "source": [
    "# Il y a plusieurs manières de combiner les descripteurs:\n",
    "# - utiliser des objets de SkLearn (comme le CountVectorizer)\n",
    "# - utiliser un FunctionTransformer qui prend en entrée une fonction qui va créer le descripteur à la volée\n",
    "# - utiliser le mot-clé \"passthrough\" pour les descripteurs précaculés\n",
    "column_trans = ColumnTransformer(\n",
    "    [\n",
    "        (\n",
    "            \"count_vectorizer\",\n",
    "            CountVectorizer(stop_words='english',ngram_range=(1,3), min_df=10),\n",
    "            \"text\",\n",
    "        ),\n",
    "        (\n",
    "            \"single_values\",\n",
    "            'passthrough', # passthrough permet de passer les colonnes sans les transformer\n",
    "            [\"contains_ldots\"],  # ajoutez d'autre noms de colonnes\n",
    "        ),\n",
    "        (\n",
    "            'sentence_position', # nom du descripteur\n",
    "            FunctionTransformer(sentence_position),\n",
    "            ['doc_id', 'sentence_index'],  # les colonnes à transmettre à la fonction sentence_position\n",
    "        ),\n",
    "        (\n",
    "            \"Tfidf Vectorizer\",\n",
    "            TfidfVectorizer(stop_words='english', ngram_range=(1, 3), min_df=10),\n",
    "            \"text\",\n",
    "        ),\n",
    "        #(\n",
    "        #    'Sentence Length', # descripteur de longueur de phrase \n",
    "        #    FunctionTransformer(sentence_length),\n",
    "        #    ['text'],  # Colonnes de texte pour lesquelles vous voulez calculer la longueur\n",
    "        #),\n",
    "\n",
    "    ],\n",
    "    remainder=\"drop\",\n",
    ")\n",
    "\n",
    "# Ici on crée un pipeline qui va extraire les descripteurs puis entraîner ou prédire\n",
    "classifier = make_pipeline(\n",
    "    column_trans,\n",
    "    LogisticRegression(multi_class=\"multinomial\")\n",
    ")"
   ]
  },
  {
   "cell_type": "markdown",
   "id": "4c228838-b817-4a64-8fd4-21c0f01f0f4f",
   "metadata": {},
   "source": [
    "## Entraînement"
   ]
  },
  {
   "cell_type": "code",
   "execution_count": 61,
   "id": "85527abe-b1dc-4feb-9488-4cecd0140049",
   "metadata": {},
   "outputs": [
    {
     "name": "stderr",
     "output_type": "stream",
     "text": [
      "C:\\Users\\hugol\\AppData\\Roaming\\Python\\Python38\\site-packages\\sklearn\\linear_model\\_logistic.py:458: ConvergenceWarning: lbfgs failed to converge (status=1):\n",
      "STOP: TOTAL NO. of ITERATIONS REACHED LIMIT.\n",
      "\n",
      "Increase the number of iterations (max_iter) or scale the data as shown in:\n",
      "    https://scikit-learn.org/stable/modules/preprocessing.html\n",
      "Please also refer to the documentation for alternative solver options:\n",
      "    https://scikit-learn.org/stable/modules/linear_model.html#logistic-regression\n",
      "  n_iter_i = _check_optimize_result(\n"
     ]
    },
    {
     "data": {
      "text/html": [
       "<style>#sk-container-id-5 {color: black;background-color: white;}#sk-container-id-5 pre{padding: 0;}#sk-container-id-5 div.sk-toggleable {background-color: white;}#sk-container-id-5 label.sk-toggleable__label {cursor: pointer;display: block;width: 100%;margin-bottom: 0;padding: 0.3em;box-sizing: border-box;text-align: center;}#sk-container-id-5 label.sk-toggleable__label-arrow:before {content: \"▸\";float: left;margin-right: 0.25em;color: #696969;}#sk-container-id-5 label.sk-toggleable__label-arrow:hover:before {color: black;}#sk-container-id-5 div.sk-estimator:hover label.sk-toggleable__label-arrow:before {color: black;}#sk-container-id-5 div.sk-toggleable__content {max-height: 0;max-width: 0;overflow: hidden;text-align: left;background-color: #f0f8ff;}#sk-container-id-5 div.sk-toggleable__content pre {margin: 0.2em;color: black;border-radius: 0.25em;background-color: #f0f8ff;}#sk-container-id-5 input.sk-toggleable__control:checked~div.sk-toggleable__content {max-height: 200px;max-width: 100%;overflow: auto;}#sk-container-id-5 input.sk-toggleable__control:checked~label.sk-toggleable__label-arrow:before {content: \"▾\";}#sk-container-id-5 div.sk-estimator input.sk-toggleable__control:checked~label.sk-toggleable__label {background-color: #d4ebff;}#sk-container-id-5 div.sk-label input.sk-toggleable__control:checked~label.sk-toggleable__label {background-color: #d4ebff;}#sk-container-id-5 input.sk-hidden--visually {border: 0;clip: rect(1px 1px 1px 1px);clip: rect(1px, 1px, 1px, 1px);height: 1px;margin: -1px;overflow: hidden;padding: 0;position: absolute;width: 1px;}#sk-container-id-5 div.sk-estimator {font-family: monospace;background-color: #f0f8ff;border: 1px dotted black;border-radius: 0.25em;box-sizing: border-box;margin-bottom: 0.5em;}#sk-container-id-5 div.sk-estimator:hover {background-color: #d4ebff;}#sk-container-id-5 div.sk-parallel-item::after {content: \"\";width: 100%;border-bottom: 1px solid gray;flex-grow: 1;}#sk-container-id-5 div.sk-label:hover label.sk-toggleable__label {background-color: #d4ebff;}#sk-container-id-5 div.sk-serial::before {content: \"\";position: absolute;border-left: 1px solid gray;box-sizing: border-box;top: 0;bottom: 0;left: 50%;z-index: 0;}#sk-container-id-5 div.sk-serial {display: flex;flex-direction: column;align-items: center;background-color: white;padding-right: 0.2em;padding-left: 0.2em;position: relative;}#sk-container-id-5 div.sk-item {position: relative;z-index: 1;}#sk-container-id-5 div.sk-parallel {display: flex;align-items: stretch;justify-content: center;background-color: white;position: relative;}#sk-container-id-5 div.sk-item::before, #sk-container-id-5 div.sk-parallel-item::before {content: \"\";position: absolute;border-left: 1px solid gray;box-sizing: border-box;top: 0;bottom: 0;left: 50%;z-index: -1;}#sk-container-id-5 div.sk-parallel-item {display: flex;flex-direction: column;z-index: 1;position: relative;background-color: white;}#sk-container-id-5 div.sk-parallel-item:first-child::after {align-self: flex-end;width: 50%;}#sk-container-id-5 div.sk-parallel-item:last-child::after {align-self: flex-start;width: 50%;}#sk-container-id-5 div.sk-parallel-item:only-child::after {width: 0;}#sk-container-id-5 div.sk-dashed-wrapped {border: 1px dashed gray;margin: 0 0.4em 0.5em 0.4em;box-sizing: border-box;padding-bottom: 0.4em;background-color: white;}#sk-container-id-5 div.sk-label label {font-family: monospace;font-weight: bold;display: inline-block;line-height: 1.2em;}#sk-container-id-5 div.sk-label-container {text-align: center;}#sk-container-id-5 div.sk-container {/* jupyter's `normalize.less` sets `[hidden] { display: none; }` but bootstrap.min.css set `[hidden] { display: none !important; }` so we also need the `!important` here to be able to override the default hidden behavior on the sphinx rendered scikit-learn.org. See: https://github.com/scikit-learn/scikit-learn/issues/21755 */display: inline-block !important;position: relative;}#sk-container-id-5 div.sk-text-repr-fallback {display: none;}</style><div id=\"sk-container-id-5\" class=\"sk-top-container\"><div class=\"sk-text-repr-fallback\"><pre>Pipeline(steps=[(&#x27;columntransformer&#x27;,\n",
       "                 ColumnTransformer(transformers=[(&#x27;count_vectorizer&#x27;,\n",
       "                                                  CountVectorizer(min_df=10,\n",
       "                                                                  ngram_range=(1,\n",
       "                                                                               3),\n",
       "                                                                  stop_words=&#x27;english&#x27;),\n",
       "                                                  &#x27;text&#x27;),\n",
       "                                                 (&#x27;single_values&#x27;,\n",
       "                                                  &#x27;passthrough&#x27;,\n",
       "                                                  [&#x27;contains_ldots&#x27;]),\n",
       "                                                 (&#x27;sentence_position&#x27;,\n",
       "                                                  FunctionTransformer(func=&lt;function sentence_position at 0x0000019A8C6F40D0&gt;),\n",
       "                                                  [&#x27;doc_id&#x27;, &#x27;sentence_index&#x27;]),\n",
       "                                                 (&#x27;Tfidf Vectorizer&#x27;,\n",
       "                                                  TfidfVectorizer(min_df=10,\n",
       "                                                                  ngram_range=(1,\n",
       "                                                                               3),\n",
       "                                                                  stop_words=&#x27;english&#x27;),\n",
       "                                                  &#x27;text&#x27;)])),\n",
       "                (&#x27;logisticregression&#x27;,\n",
       "                 LogisticRegression(multi_class=&#x27;multinomial&#x27;))])</pre><b>In a Jupyter environment, please rerun this cell to show the HTML representation or trust the notebook. <br />On GitHub, the HTML representation is unable to render, please try loading this page with nbviewer.org.</b></div><div class=\"sk-container\" hidden><div class=\"sk-item sk-dashed-wrapped\"><div class=\"sk-label-container\"><div class=\"sk-label sk-toggleable\"><input class=\"sk-toggleable__control sk-hidden--visually\" id=\"sk-estimator-id-37\" type=\"checkbox\" ><label for=\"sk-estimator-id-37\" class=\"sk-toggleable__label sk-toggleable__label-arrow\">Pipeline</label><div class=\"sk-toggleable__content\"><pre>Pipeline(steps=[(&#x27;columntransformer&#x27;,\n",
       "                 ColumnTransformer(transformers=[(&#x27;count_vectorizer&#x27;,\n",
       "                                                  CountVectorizer(min_df=10,\n",
       "                                                                  ngram_range=(1,\n",
       "                                                                               3),\n",
       "                                                                  stop_words=&#x27;english&#x27;),\n",
       "                                                  &#x27;text&#x27;),\n",
       "                                                 (&#x27;single_values&#x27;,\n",
       "                                                  &#x27;passthrough&#x27;,\n",
       "                                                  [&#x27;contains_ldots&#x27;]),\n",
       "                                                 (&#x27;sentence_position&#x27;,\n",
       "                                                  FunctionTransformer(func=&lt;function sentence_position at 0x0000019A8C6F40D0&gt;),\n",
       "                                                  [&#x27;doc_id&#x27;, &#x27;sentence_index&#x27;]),\n",
       "                                                 (&#x27;Tfidf Vectorizer&#x27;,\n",
       "                                                  TfidfVectorizer(min_df=10,\n",
       "                                                                  ngram_range=(1,\n",
       "                                                                               3),\n",
       "                                                                  stop_words=&#x27;english&#x27;),\n",
       "                                                  &#x27;text&#x27;)])),\n",
       "                (&#x27;logisticregression&#x27;,\n",
       "                 LogisticRegression(multi_class=&#x27;multinomial&#x27;))])</pre></div></div></div><div class=\"sk-serial\"><div class=\"sk-item sk-dashed-wrapped\"><div class=\"sk-label-container\"><div class=\"sk-label sk-toggleable\"><input class=\"sk-toggleable__control sk-hidden--visually\" id=\"sk-estimator-id-38\" type=\"checkbox\" ><label for=\"sk-estimator-id-38\" class=\"sk-toggleable__label sk-toggleable__label-arrow\">columntransformer: ColumnTransformer</label><div class=\"sk-toggleable__content\"><pre>ColumnTransformer(transformers=[(&#x27;count_vectorizer&#x27;,\n",
       "                                 CountVectorizer(min_df=10, ngram_range=(1, 3),\n",
       "                                                 stop_words=&#x27;english&#x27;),\n",
       "                                 &#x27;text&#x27;),\n",
       "                                (&#x27;single_values&#x27;, &#x27;passthrough&#x27;,\n",
       "                                 [&#x27;contains_ldots&#x27;]),\n",
       "                                (&#x27;sentence_position&#x27;,\n",
       "                                 FunctionTransformer(func=&lt;function sentence_position at 0x0000019A8C6F40D0&gt;),\n",
       "                                 [&#x27;doc_id&#x27;, &#x27;sentence_index&#x27;]),\n",
       "                                (&#x27;Tfidf Vectorizer&#x27;,\n",
       "                                 TfidfVectorizer(min_df=10, ngram_range=(1, 3),\n",
       "                                                 stop_words=&#x27;english&#x27;),\n",
       "                                 &#x27;text&#x27;)])</pre></div></div></div><div class=\"sk-parallel\"><div class=\"sk-parallel-item\"><div class=\"sk-item\"><div class=\"sk-label-container\"><div class=\"sk-label sk-toggleable\"><input class=\"sk-toggleable__control sk-hidden--visually\" id=\"sk-estimator-id-39\" type=\"checkbox\" ><label for=\"sk-estimator-id-39\" class=\"sk-toggleable__label sk-toggleable__label-arrow\">count_vectorizer</label><div class=\"sk-toggleable__content\"><pre>text</pre></div></div></div><div class=\"sk-serial\"><div class=\"sk-item\"><div class=\"sk-estimator sk-toggleable\"><input class=\"sk-toggleable__control sk-hidden--visually\" id=\"sk-estimator-id-40\" type=\"checkbox\" ><label for=\"sk-estimator-id-40\" class=\"sk-toggleable__label sk-toggleable__label-arrow\">CountVectorizer</label><div class=\"sk-toggleable__content\"><pre>CountVectorizer(min_df=10, ngram_range=(1, 3), stop_words=&#x27;english&#x27;)</pre></div></div></div></div></div></div><div class=\"sk-parallel-item\"><div class=\"sk-item\"><div class=\"sk-label-container\"><div class=\"sk-label sk-toggleable\"><input class=\"sk-toggleable__control sk-hidden--visually\" id=\"sk-estimator-id-41\" type=\"checkbox\" ><label for=\"sk-estimator-id-41\" class=\"sk-toggleable__label sk-toggleable__label-arrow\">single_values</label><div class=\"sk-toggleable__content\"><pre>[&#x27;contains_ldots&#x27;]</pre></div></div></div><div class=\"sk-serial\"><div class=\"sk-item\"><div class=\"sk-estimator sk-toggleable\"><input class=\"sk-toggleable__control sk-hidden--visually\" id=\"sk-estimator-id-42\" type=\"checkbox\" ><label for=\"sk-estimator-id-42\" class=\"sk-toggleable__label sk-toggleable__label-arrow\">passthrough</label><div class=\"sk-toggleable__content\"><pre>passthrough</pre></div></div></div></div></div></div><div class=\"sk-parallel-item\"><div class=\"sk-item\"><div class=\"sk-label-container\"><div class=\"sk-label sk-toggleable\"><input class=\"sk-toggleable__control sk-hidden--visually\" id=\"sk-estimator-id-43\" type=\"checkbox\" ><label for=\"sk-estimator-id-43\" class=\"sk-toggleable__label sk-toggleable__label-arrow\">sentence_position</label><div class=\"sk-toggleable__content\"><pre>[&#x27;doc_id&#x27;, &#x27;sentence_index&#x27;]</pre></div></div></div><div class=\"sk-serial\"><div class=\"sk-item\"><div class=\"sk-estimator sk-toggleable\"><input class=\"sk-toggleable__control sk-hidden--visually\" id=\"sk-estimator-id-44\" type=\"checkbox\" ><label for=\"sk-estimator-id-44\" class=\"sk-toggleable__label sk-toggleable__label-arrow\">FunctionTransformer</label><div class=\"sk-toggleable__content\"><pre>FunctionTransformer(func=&lt;function sentence_position at 0x0000019A8C6F40D0&gt;)</pre></div></div></div></div></div></div><div class=\"sk-parallel-item\"><div class=\"sk-item\"><div class=\"sk-label-container\"><div class=\"sk-label sk-toggleable\"><input class=\"sk-toggleable__control sk-hidden--visually\" id=\"sk-estimator-id-45\" type=\"checkbox\" ><label for=\"sk-estimator-id-45\" class=\"sk-toggleable__label sk-toggleable__label-arrow\">Tfidf Vectorizer</label><div class=\"sk-toggleable__content\"><pre>text</pre></div></div></div><div class=\"sk-serial\"><div class=\"sk-item\"><div class=\"sk-estimator sk-toggleable\"><input class=\"sk-toggleable__control sk-hidden--visually\" id=\"sk-estimator-id-46\" type=\"checkbox\" ><label for=\"sk-estimator-id-46\" class=\"sk-toggleable__label sk-toggleable__label-arrow\">TfidfVectorizer</label><div class=\"sk-toggleable__content\"><pre>TfidfVectorizer(min_df=10, ngram_range=(1, 3), stop_words=&#x27;english&#x27;)</pre></div></div></div></div></div></div></div></div><div class=\"sk-item\"><div class=\"sk-estimator sk-toggleable\"><input class=\"sk-toggleable__control sk-hidden--visually\" id=\"sk-estimator-id-47\" type=\"checkbox\" ><label for=\"sk-estimator-id-47\" class=\"sk-toggleable__label sk-toggleable__label-arrow\">LogisticRegression</label><div class=\"sk-toggleable__content\"><pre>LogisticRegression(multi_class=&#x27;multinomial&#x27;)</pre></div></div></div></div></div></div></div>"
      ],
      "text/plain": [
       "Pipeline(steps=[('columntransformer',\n",
       "                 ColumnTransformer(transformers=[('count_vectorizer',\n",
       "                                                  CountVectorizer(min_df=10,\n",
       "                                                                  ngram_range=(1,\n",
       "                                                                               3),\n",
       "                                                                  stop_words='english'),\n",
       "                                                  'text'),\n",
       "                                                 ('single_values',\n",
       "                                                  'passthrough',\n",
       "                                                  ['contains_ldots']),\n",
       "                                                 ('sentence_position',\n",
       "                                                  FunctionTransformer(func=<function sentence_position at 0x0000019A8C6F40D0>),\n",
       "                                                  ['doc_id', 'sentence_index']),\n",
       "                                                 ('Tfidf Vectorizer',\n",
       "                                                  TfidfVectorizer(min_df=10,\n",
       "                                                                  ngram_range=(1,\n",
       "                                                                               3),\n",
       "                                                                  stop_words='english'),\n",
       "                                                  'text')])),\n",
       "                ('logisticregression',\n",
       "                 LogisticRegression(multi_class='multinomial'))])"
      ]
     },
     "execution_count": 61,
     "metadata": {},
     "output_type": "execute_result"
    }
   ],
   "source": [
    "# On entraîne le modèle sur les 100 premiers exemples.\n",
    "classifier.fit(train, train['labels'])"
   ]
  },
  {
   "cell_type": "markdown",
   "id": "80370160-4093-458a-ac11-0fc2f29cae89",
   "metadata": {},
   "source": [
    "## Prédiction"
   ]
  },
  {
   "cell_type": "code",
   "execution_count": 62,
   "id": "51a23dbf-e639-462c-bf45-dbba06be5c59",
   "metadata": {},
   "outputs": [],
   "source": [
    "# Prédit puis choisis l'étiquette qui a la plus haut probabilité\n",
    "dev['pred'] = classifier.predict(dev)\n",
    "train['pred'] = classifier.predict(train)"
   ]
  },
  {
   "cell_type": "code",
   "execution_count": 63,
   "id": "8c9faa92-524e-45c0-9c26-32b5d0187db2",
   "metadata": {},
   "outputs": [
    {
     "name": "stdout",
     "output_type": "stream",
     "text": [
      "['ANALYSIS', 'ANALYSIS', 'RPC', 'RPC', 'RPC', 'NONE', 'PREAMBLE', 'FAC', 'NONE', 'ANALYSIS']\n",
      "['ANALYSIS', 'ANALYSIS', 'RPC', 'RPC', 'RPC', 'NONE', 'PREAMBLE', 'FAC', 'NONE', 'ANALYSIS']\n"
     ]
    }
   ],
   "source": [
    "# Pour obtenir le nom des étiquettes prédites\n",
    "# On récupère le nom et l'ordre des étiquettes\n",
    "index2label = classifier.named_steps['logisticregression'].classes_\n",
    "\n",
    "\n",
    "# Retourne la probabilité pour chacune des étiquettes\n",
    "predictions_prob = classifier.predict_proba(dev.iloc[:10])\n",
    "# On choisis l'étiquette avec la plus haute probabilité\n",
    "index_max_predictions = predictions_prob.argmax(axis=1).tolist()\n",
    "\n",
    "# Ces deux liste devraient être les mêmes\n",
    "print([index2label[l] for l in index_max_predictions])\n",
    "print(classifier.predict(dev.iloc[:10]).tolist())"
   ]
  },
  {
   "cell_type": "markdown",
   "id": "5fd3bd76-c5f6-4bf5-b269-f19429c91730",
   "metadata": {},
   "source": [
    "## Evaluation"
   ]
  },
  {
   "cell_type": "code",
   "execution_count": 64,
   "id": "e7ec1009-6d78-435b-888e-faf4ab335034",
   "metadata": {},
   "outputs": [],
   "source": [
    "from sklearn.metrics import precision_recall_fscore_support"
   ]
  },
  {
   "cell_type": "markdown",
   "id": "57aca284-4c7c-4fdf-89dd-5f4b2c520e8c",
   "metadata": {},
   "source": [
    "### Erreur d'entraînement"
   ]
  },
  {
   "cell_type": "code",
   "execution_count": 65,
   "id": "49e90ab6-d408-4143-9eec-972e648c8d22",
   "metadata": {},
   "outputs": [],
   "source": [
    "ground_truth_labels = train['labels']\n",
    "submission_labels = train['pred']"
   ]
  },
  {
   "cell_type": "code",
   "execution_count": 66,
   "id": "055409d5-e59f-45ab-b8bf-fddaf265fc67",
   "metadata": {},
   "outputs": [],
   "source": [
    "precision, recall, f1, _ = precision_recall_fscore_support(\n",
    "    ground_truth_labels, submission_labels, average='weighted'\n",
    ")"
   ]
  },
  {
   "cell_type": "code",
   "execution_count": 67,
   "id": "6536f64a-23b1-4a5d-8b39-9a140d3be58c",
   "metadata": {},
   "outputs": [
    {
     "name": "stdout",
     "output_type": "stream",
     "text": [
      "0.93, 0.92, 0.92\n"
     ]
    }
   ],
   "source": [
    "# https://pyformat.info/#number\n",
    "print(f'{precision:.2f}, {recall:.2f}, {f1:.2f}')"
   ]
  },
  {
   "cell_type": "markdown",
   "id": "de33fab1-93d8-4f47-8d1e-f11eb5548c7b",
   "metadata": {},
   "source": [
    "### Erreur de validation"
   ]
  },
  {
   "cell_type": "code",
   "execution_count": 69,
   "id": "ce8d31c0-4603-4580-96a5-b8edbabad1e2",
   "metadata": {},
   "outputs": [],
   "source": [
    "ground_truth_labels = dev['labels']\n",
    "submission_labels = dev['pred']"
   ]
  },
  {
   "cell_type": "code",
   "execution_count": 70,
   "id": "0a1bbfba-868f-4741-8c9d-54a41597d182",
   "metadata": {},
   "outputs": [],
   "source": [
    "precision, recall, f1, _ = precision_recall_fscore_support(\n",
    "    ground_truth_labels, submission_labels, average='weighted'\n",
    ")"
   ]
  },
  {
   "cell_type": "code",
   "execution_count": 71,
   "id": "7eac2f30-1afb-4768-91f0-0a73f610ce7c",
   "metadata": {},
   "outputs": [
    {
     "name": "stdout",
     "output_type": "stream",
     "text": [
      "0.64, 0.64, 0.62\n"
     ]
    }
   ],
   "source": [
    "# https://pyformat.info/#number\n",
    "print(f'{precision:.2f}, {recall:.2f}, {f1:.2f}')"
   ]
  },
  {
   "cell_type": "code",
   "execution_count": 68,
   "id": "4a09a9dd-6848-40b9-8d23-d2d761c268b8",
   "metadata": {},
   "outputs": [],
   "source": [
    "# Comment évoluent les scores lorsqu'on enlève un descripteur ? lorsqu'on change les paramètres du CountVectorizer ?\n",
    "# Score avec les descripteurs fournies \n",
    "# Score erreur d'entrainement : 0.91, 0.91, 0.91\n",
    "# Score erreur de validation : 0.63, 0.64, 0.62\n",
    "\n",
    "# Score en retirant sentence_position\n",
    "# Score erreur d'entrainement : 0.84, 0.83, 0.83\n",
    "# Score erreur de validation : 0.54, 0.54, 0.52\n",
    "\n",
    "# lorsqu'on ajoute un TfIdfVectorizer ?\n",
    "# Score en ajoutant un TfIdfVectorizer\n",
    "# Score erreur d'entrainement : 0.93, 0.92, 0.92\n",
    "# Score erreur de validation : 0.64, 0.64, 0.62"
   ]
  },
  {
   "cell_type": "markdown",
   "id": "763628bb-168d-4ae2-ab54-b2b748d90910",
   "metadata": {},
   "source": [
    "### Matrice de confusion"
   ]
  },
  {
   "cell_type": "code",
   "execution_count": null,
   "id": "ab36de46-6c9e-4cc1-ae40-dae4ae175831",
   "metadata": {},
   "outputs": [],
   "source": [
    "# https://scikit-learn.org/stable/modules/generated/sklearn.metrics.confusion_matrix.html\n",
    "# TODO"
   ]
  },
  {
   "cell_type": "code",
   "execution_count": null,
   "id": "d30d88f5-85f7-415e-8d70-ca0547beab4c",
   "metadata": {},
   "outputs": [],
   "source": []
  }
 ],
 "metadata": {
  "kernelspec": {
   "display_name": "Python 3 (ipykernel)",
   "language": "python",
   "name": "python3"
  },
  "language_info": {
   "codemirror_mode": {
    "name": "ipython",
    "version": 3
   },
   "file_extension": ".py",
   "mimetype": "text/x-python",
   "name": "python",
   "nbconvert_exporter": "python",
   "pygments_lexer": "ipython3",
   "version": "3.8.3"
  }
 },
 "nbformat": 4,
 "nbformat_minor": 5
}
