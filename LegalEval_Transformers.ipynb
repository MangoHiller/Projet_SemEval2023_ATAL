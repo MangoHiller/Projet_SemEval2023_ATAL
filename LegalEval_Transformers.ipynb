{
  "cells": [
    {
      "cell_type": "code",
      "execution_count": 1,
      "metadata": {
        "id": "jgOU34sLuV41"
      },
      "outputs": [],
      "source": [
        "# local\n",
        "#import os\n",
        "#ROOT = os.path.abspath('')"
      ]
    },
    {
      "cell_type": "code",
      "source": [
        "# Colab Drive\n",
        "from google.colab import drive\n",
        "drive.mount('/content/drive')\n",
        "ROOT = '/content/drive/MyDrive/Colab Notebooks/Tache SemEval/Projet_SemEval2023_ATAL/'"
      ],
      "metadata": {
        "colab": {
          "base_uri": "https://localhost:8080/"
        },
        "id": "NxZuw56Gubq1",
        "outputId": "9d0d1429-a954-4316-8c21-02f394afa0cc"
      },
      "execution_count": 2,
      "outputs": [
        {
          "output_type": "stream",
          "name": "stdout",
          "text": [
            "Mounted at /content/drive\n"
          ]
        }
      ]
    },
    {
      "cell_type": "code",
      "source": [
        "%pip install transformers accelerate datasets"
      ],
      "metadata": {
        "id": "eOQbLiKvvUzr",
        "colab": {
          "base_uri": "https://localhost:8080/"
        },
        "outputId": "698e5161-67cb-493e-c2af-828b5e29ed2b"
      },
      "execution_count": 3,
      "outputs": [
        {
          "output_type": "stream",
          "name": "stdout",
          "text": [
            "Requirement already satisfied: transformers in /usr/local/lib/python3.10/dist-packages (4.35.2)\n",
            "Collecting accelerate\n",
            "  Downloading accelerate-0.26.1-py3-none-any.whl (270 kB)\n",
            "\u001b[2K     \u001b[90m━━━━━━━━━━━━━━━━━━━━━━━━━━━━━━━━━━━━━━━━\u001b[0m \u001b[32m270.9/270.9 kB\u001b[0m \u001b[31m2.0 MB/s\u001b[0m eta \u001b[36m0:00:00\u001b[0m\n",
            "\u001b[?25hCollecting datasets\n",
            "  Downloading datasets-2.16.1-py3-none-any.whl (507 kB)\n",
            "\u001b[2K     \u001b[90m━━━━━━━━━━━━━━━━━━━━━━━━━━━━━━━━━━━━━━━━\u001b[0m \u001b[32m507.1/507.1 kB\u001b[0m \u001b[31m11.4 MB/s\u001b[0m eta \u001b[36m0:00:00\u001b[0m\n",
            "\u001b[?25hRequirement already satisfied: filelock in /usr/local/lib/python3.10/dist-packages (from transformers) (3.13.1)\n",
            "Requirement already satisfied: huggingface-hub<1.0,>=0.16.4 in /usr/local/lib/python3.10/dist-packages (from transformers) (0.20.2)\n",
            "Requirement already satisfied: numpy>=1.17 in /usr/local/lib/python3.10/dist-packages (from transformers) (1.23.5)\n",
            "Requirement already satisfied: packaging>=20.0 in /usr/local/lib/python3.10/dist-packages (from transformers) (23.2)\n",
            "Requirement already satisfied: pyyaml>=5.1 in /usr/local/lib/python3.10/dist-packages (from transformers) (6.0.1)\n",
            "Requirement already satisfied: regex!=2019.12.17 in /usr/local/lib/python3.10/dist-packages (from transformers) (2023.6.3)\n",
            "Requirement already satisfied: requests in /usr/local/lib/python3.10/dist-packages (from transformers) (2.31.0)\n",
            "Requirement already satisfied: tokenizers<0.19,>=0.14 in /usr/local/lib/python3.10/dist-packages (from transformers) (0.15.0)\n",
            "Requirement already satisfied: safetensors>=0.3.1 in /usr/local/lib/python3.10/dist-packages (from transformers) (0.4.1)\n",
            "Requirement already satisfied: tqdm>=4.27 in /usr/local/lib/python3.10/dist-packages (from transformers) (4.66.1)\n",
            "Requirement already satisfied: psutil in /usr/local/lib/python3.10/dist-packages (from accelerate) (5.9.5)\n",
            "Requirement already satisfied: torch>=1.10.0 in /usr/local/lib/python3.10/dist-packages (from accelerate) (2.1.0+cu121)\n",
            "Requirement already satisfied: pyarrow>=8.0.0 in /usr/local/lib/python3.10/dist-packages (from datasets) (10.0.1)\n",
            "Requirement already satisfied: pyarrow-hotfix in /usr/local/lib/python3.10/dist-packages (from datasets) (0.6)\n",
            "Collecting dill<0.3.8,>=0.3.0 (from datasets)\n",
            "  Downloading dill-0.3.7-py3-none-any.whl (115 kB)\n",
            "\u001b[2K     \u001b[90m━━━━━━━━━━━━━━━━━━━━━━━━━━━━━━━━━━━━━━━━\u001b[0m \u001b[32m115.3/115.3 kB\u001b[0m \u001b[31m10.6 MB/s\u001b[0m eta \u001b[36m0:00:00\u001b[0m\n",
            "\u001b[?25hRequirement already satisfied: pandas in /usr/local/lib/python3.10/dist-packages (from datasets) (1.5.3)\n",
            "Requirement already satisfied: xxhash in /usr/local/lib/python3.10/dist-packages (from datasets) (3.4.1)\n",
            "Collecting multiprocess (from datasets)\n",
            "  Downloading multiprocess-0.70.15-py310-none-any.whl (134 kB)\n",
            "\u001b[2K     \u001b[90m━━━━━━━━━━━━━━━━━━━━━━━━━━━━━━━━━━━━━━━━\u001b[0m \u001b[32m134.8/134.8 kB\u001b[0m \u001b[31m17.1 MB/s\u001b[0m eta \u001b[36m0:00:00\u001b[0m\n",
            "\u001b[?25hRequirement already satisfied: fsspec[http]<=2023.10.0,>=2023.1.0 in /usr/local/lib/python3.10/dist-packages (from datasets) (2023.6.0)\n",
            "Requirement already satisfied: aiohttp in /usr/local/lib/python3.10/dist-packages (from datasets) (3.9.1)\n",
            "Requirement already satisfied: attrs>=17.3.0 in /usr/local/lib/python3.10/dist-packages (from aiohttp->datasets) (23.2.0)\n",
            "Requirement already satisfied: multidict<7.0,>=4.5 in /usr/local/lib/python3.10/dist-packages (from aiohttp->datasets) (6.0.4)\n",
            "Requirement already satisfied: yarl<2.0,>=1.0 in /usr/local/lib/python3.10/dist-packages (from aiohttp->datasets) (1.9.4)\n",
            "Requirement already satisfied: frozenlist>=1.1.1 in /usr/local/lib/python3.10/dist-packages (from aiohttp->datasets) (1.4.1)\n",
            "Requirement already satisfied: aiosignal>=1.1.2 in /usr/local/lib/python3.10/dist-packages (from aiohttp->datasets) (1.3.1)\n",
            "Requirement already satisfied: async-timeout<5.0,>=4.0 in /usr/local/lib/python3.10/dist-packages (from aiohttp->datasets) (4.0.3)\n",
            "Requirement already satisfied: typing-extensions>=3.7.4.3 in /usr/local/lib/python3.10/dist-packages (from huggingface-hub<1.0,>=0.16.4->transformers) (4.5.0)\n",
            "Requirement already satisfied: charset-normalizer<4,>=2 in /usr/local/lib/python3.10/dist-packages (from requests->transformers) (3.3.2)\n",
            "Requirement already satisfied: idna<4,>=2.5 in /usr/local/lib/python3.10/dist-packages (from requests->transformers) (3.6)\n",
            "Requirement already satisfied: urllib3<3,>=1.21.1 in /usr/local/lib/python3.10/dist-packages (from requests->transformers) (2.0.7)\n",
            "Requirement already satisfied: certifi>=2017.4.17 in /usr/local/lib/python3.10/dist-packages (from requests->transformers) (2023.11.17)\n",
            "Requirement already satisfied: sympy in /usr/local/lib/python3.10/dist-packages (from torch>=1.10.0->accelerate) (1.12)\n",
            "Requirement already satisfied: networkx in /usr/local/lib/python3.10/dist-packages (from torch>=1.10.0->accelerate) (3.2.1)\n",
            "Requirement already satisfied: jinja2 in /usr/local/lib/python3.10/dist-packages (from torch>=1.10.0->accelerate) (3.1.3)\n",
            "Requirement already satisfied: triton==2.1.0 in /usr/local/lib/python3.10/dist-packages (from torch>=1.10.0->accelerate) (2.1.0)\n",
            "Requirement already satisfied: python-dateutil>=2.8.1 in /usr/local/lib/python3.10/dist-packages (from pandas->datasets) (2.8.2)\n",
            "Requirement already satisfied: pytz>=2020.1 in /usr/local/lib/python3.10/dist-packages (from pandas->datasets) (2023.3.post1)\n",
            "Requirement already satisfied: six>=1.5 in /usr/local/lib/python3.10/dist-packages (from python-dateutil>=2.8.1->pandas->datasets) (1.16.0)\n",
            "Requirement already satisfied: MarkupSafe>=2.0 in /usr/local/lib/python3.10/dist-packages (from jinja2->torch>=1.10.0->accelerate) (2.1.3)\n",
            "Requirement already satisfied: mpmath>=0.19 in /usr/local/lib/python3.10/dist-packages (from sympy->torch>=1.10.0->accelerate) (1.3.0)\n",
            "Installing collected packages: dill, multiprocess, accelerate, datasets\n",
            "Successfully installed accelerate-0.26.1 datasets-2.16.1 dill-0.3.7 multiprocess-0.70.15\n"
          ]
        }
      ]
    },
    {
      "cell_type": "code",
      "execution_count": 4,
      "metadata": {
        "id": "6cfzQ_W0uV44"
      },
      "outputs": [],
      "source": [
        "import torch, os\n",
        "import pandas as pd\n",
        "import matplotlib.pyplot as plt\n",
        "from transformers import AutoTokenizer, AutoModelForSequenceClassification, RobertaForSequenceClassification, RobertaTokenizer, DistilBertForSequenceClassification\n",
        "from transformers import Trainer, TrainingArguments, DataCollatorWithPadding\n",
        "\n",
        "\n",
        "import spacy\n",
        "import re\n",
        "import json\n",
        "\n",
        "import numpy as np\n",
        "from sklearn.metrics import precision_recall_fscore_support, accuracy_score\n",
        "from sklearn.utils import resample, shuffle\n",
        "from transformers import EvalPrediction"
      ]
    },
    {
      "cell_type": "code",
      "execution_count": 5,
      "metadata": {
        "id": "3zyVdZHNuV44",
        "colab": {
          "base_uri": "https://localhost:8080/"
        },
        "outputId": "5f5b1f69-f8e9-45df-8e3e-49ce280082f0"
      },
      "outputs": [
        {
          "output_type": "stream",
          "name": "stdout",
          "text": [
            "cuda\n"
          ]
        }
      ],
      "source": [
        "device = 'cuda' if torch.cuda.is_available() else 'cpu'\n",
        "print(device)"
      ]
    },
    {
      "cell_type": "markdown",
      "metadata": {
        "id": "5APGEGqPuV45"
      },
      "source": [
        "Chargement Data:"
      ]
    },
    {
      "cell_type": "code",
      "execution_count": 6,
      "metadata": {
        "id": "o7bKbGy9uV46",
        "colab": {
          "base_uri": "https://localhost:8080/"
        },
        "outputId": "3c4613fd-a78b-4dc7-95be-3ed2e2609ead"
      },
      "outputs": [
        {
          "output_type": "stream",
          "name": "stderr",
          "text": [
            "<ipython-input-6-95120531d619>:4: DtypeWarning: Columns (3,5) have mixed types. Specify dtype option on import or set low_memory=False.\n",
            "  extended_train_df = pd.read_csv(os.path.join(ROOT, 'BUILD/extended_train_dataset.csv'))\n"
          ]
        }
      ],
      "source": [
        "train_df = pd.read_csv(os.path.join(ROOT, 'BUILD/train.csv'))\n",
        "valid_df = pd.read_csv(os.path.join(ROOT, 'BUILD/dev.csv'))\n",
        "test_df = pd.read_csv(os.path.join(ROOT, 'BUILD/test.csv'))\n",
        "extended_train_df = pd.read_csv(os.path.join(ROOT, 'BUILD/extended_train_dataset.csv'))"
      ]
    },
    {
      "cell_type": "code",
      "execution_count": null,
      "metadata": {
        "id": "LVOsK0kxuV46",
        "colab": {
          "base_uri": "https://localhost:8080/"
        },
        "outputId": "78fe7cd7-e3bd-43be-c6a6-a34a063db3d4"
      },
      "outputs": [
        {
          "output_type": "execute_result",
          "data": {
            "text/plain": [
              "(200020, 9)"
            ]
          },
          "metadata": {},
          "execution_count": 41
        }
      ],
      "source": [
        "#extended_train_df.shape\n"
      ]
    },
    {
      "cell_type": "code",
      "source": [
        "#train_df.shape"
      ],
      "metadata": {
        "colab": {
          "base_uri": "https://localhost:8080/"
        },
        "id": "yZLuH0eeMVk2",
        "outputId": "ba2b4420-1de7-43bb-fce4-ad33ef7c5ca2"
      },
      "execution_count": null,
      "outputs": [
        {
          "output_type": "execute_result",
          "data": {
            "text/plain": [
              "(26087, 9)"
            ]
          },
          "metadata": {},
          "execution_count": 42
        }
      ]
    },
    {
      "cell_type": "markdown",
      "source": [
        "#### Dataset augmenté"
      ],
      "metadata": {
        "id": "c5QfZy9mg5y3"
      }
    },
    {
      "cell_type": "code",
      "source": [
        "extended_train_df[\"labels\"].value_counts().plot(kind='bar')\n",
        "plt.title('Distribution des labels dans le train set')\n",
        "plt.show()\n"
      ],
      "metadata": {
        "colab": {
          "base_uri": "https://localhost:8080/",
          "height": 570
        },
        "id": "UKVgVQmZSd1h",
        "outputId": "046ba37b-46bf-4ad2-9e25-2dcef90a378a"
      },
      "execution_count": null,
      "outputs": [
        {
          "output_type": "display_data",
          "data": {
            "text/plain": [
              "<Figure size 640x480 with 1 Axes>"
            ],
            "image/png": "[encoded data removed]"
          },
          "metadata": {}
        }
      ]
    },
    {
      "cell_type": "code",
      "source": [
        "#compter la distribution des labels dans le test set\n",
        "extended_train_df[\"labels\"].value_counts()"
      ],
      "metadata": {
        "colab": {
          "base_uri": "https://localhost:8080/"
        },
        "id": "EX3DgiNAQu9Y",
        "outputId": "8ca30833-bfd5-4571-fe2f-152b57d284c3"
      },
      "execution_count": null,
      "outputs": [
        {
          "output_type": "execute_result",
          "data": {
            "text/plain": [
              "ANALYSIS          76077\n",
              "FAC               40626\n",
              "PREAMBLE          26977\n",
              "PRE_RELIED        11184\n",
              "RPC                9862\n",
              "NONE               8453\n",
              "ARG_PETITIONER     8385\n",
              "ARG_RESPONDENT     4849\n",
              "RATIO              3919\n",
              "STA                3734\n",
              "RLC                3589\n",
              "ISSUE              1811\n",
              "PRE_NOT_RELIED      554\n",
              "Name: labels, dtype: int64"
            ]
          },
          "metadata": {},
          "execution_count": 8
        }
      ]
    },
    {
      "cell_type": "markdown",
      "metadata": {
        "id": "fXZ9rz47uV46"
      },
      "source": [
        "Mapage des labels:"
      ]
    },
    {
      "cell_type": "code",
      "execution_count": 7,
      "metadata": {
        "id": "42LkIx_7uV47",
        "colab": {
          "base_uri": "https://localhost:8080/"
        },
        "outputId": "7ac70174-ea1c-4ccb-80a0-155768a8b947"
      },
      "outputs": [
        {
          "output_type": "stream",
          "name": "stdout",
          "text": [
            "{'PREAMBLE': 0, 'FAC': 1, 'RLC': 2, 'ISSUE': 3, 'ARG_PETITIONER': 4, 'ARG_RESPONDENT': 5, 'ANALYSIS': 6, 'STA': 7, 'PRE_RELIED': 8, 'PRE_NOT_RELIED': 9, 'RATIO': 10, 'RPC': 11, 'NONE': 12}\n"
          ]
        }
      ],
      "source": [
        "rr_labels = [\n",
        "    'PREAMBLE',\n",
        "    'FAC',\n",
        "    'RLC',\n",
        "    'ISSUE',\n",
        "    'ARG_PETITIONER',\n",
        "    'ARG_RESPONDENT',\n",
        "    'ANALYSIS',\n",
        "    'STA',\n",
        "    'PRE_RELIED',\n",
        "    'PRE_NOT_RELIED',\n",
        "    'RATIO',\n",
        "    'RPC',\n",
        "    'NONE'\n",
        "]\n",
        "MAP_LABEL = {k: i for i, k in enumerate(rr_labels)}\n",
        "print(MAP_LABEL)"
      ]
    },
    {
      "cell_type": "code",
      "execution_count": 8,
      "metadata": {
        "id": "ikalqQ9WuV48"
      },
      "outputs": [],
      "source": [
        "train_df[\"labels_class\"] = train_df['labels'].apply(lambda x: MAP_LABEL[x])\n",
        "valid_df[\"labels_class\"] = valid_df['labels'].apply(lambda x: MAP_LABEL[x])\n"
      ]
    },
    {
      "cell_type": "markdown",
      "metadata": {
        "id": "BEHydIP6uV48"
      },
      "source": [
        "Distribution des classes:"
      ]
    },
    {
      "cell_type": "code",
      "execution_count": null,
      "metadata": {
        "id": "WvyaSjiQuV49",
        "colab": {
          "base_uri": "https://localhost:8080/",
          "height": 570
        },
        "outputId": "198c8fd6-c460-478f-f33e-500a5813ceeb"
      },
      "outputs": [
        {
          "output_type": "display_data",
          "data": {
            "text/plain": [
              "<Figure size 640x480 with 1 Axes>"
            ],
            "image/png": "[encoded data removed]"
          },
          "metadata": {}
        }
      ],
      "source": [
        "train_df[\"labels\"].value_counts().plot(kind='bar')\n",
        "plt.title('Distribution des labels dans le train set')\n",
        "plt.show()"
      ]
    },
    {
      "cell_type": "code",
      "execution_count": null,
      "metadata": {
        "id": "3jOOJLExuV4-",
        "colab": {
          "base_uri": "https://localhost:8080/"
        },
        "outputId": "375877be-5666-4a37-e020-54db4a0be00c"
      },
      "outputs": [
        {
          "output_type": "execute_result",
          "data": {
            "text/plain": [
              "ANALYSIS          9765\n",
              "FAC               5070\n",
              "PREAMBLE          3778\n",
              "NONE              1286\n",
              "PRE_RELIED        1221\n",
              "ARG_PETITIONER    1120\n",
              "RPC                954\n",
              "RLC                711\n",
              "ARG_RESPONDENT     620\n",
              "RATIO              619\n",
              "STA                443\n",
              "ISSUE              344\n",
              "PRE_NOT_RELIED     156\n",
              "Name: labels, dtype: int64"
            ]
          },
          "metadata": {},
          "execution_count": 12
        }
      ],
      "source": [
        "#compter la distribution des labels dans le test set\n",
        "train_df[\"labels\"].value_counts()"
      ]
    },
    {
      "cell_type": "markdown",
      "source": [
        "### Création d'un dataset avec du random over-sampling de la classe minoritaire:"
      ],
      "metadata": {
        "id": "7WxaE5obu8Qb"
      }
    },
    {
      "cell_type": "code",
      "source": [
        "from imblearn.over_sampling import RandomOverSampler\n",
        "\n",
        "# Initialiser l'échantillonneur aléatoire\n",
        "ros = RandomOverSampler(random_state=42)\n",
        "\n",
        "# Données sous forme de X (features) et y (labels) pour RandomOverSampler.\n",
        "# Dans ce cas, X pourrait être juste un ensemble de numéros de ligne, car nous n'utilisons pas vraiment les données pour le suréchantillonnage.\n",
        "X = train_df.index.values.reshape(-1, 1)\n",
        "y = train_df[\"labels\"].values\n",
        "\n",
        "X_resampled, y_resampled = ros.fit_resample(X, y)\n",
        "\n",
        "# Créer un nouveau DataFrame à partir des indices suréchantillonnés\n",
        "Random_Over_Sample_train_df = train_df.loc[X_resampled.flatten()]\n",
        "\n",
        "# Vérifiez le nouvel équilibre des classes\n",
        "print(Random_Over_Sample_train_df[\"labels\"].value_counts())\n"
      ],
      "metadata": {
        "colab": {
          "base_uri": "https://localhost:8080/"
        },
        "id": "k77-ZOQ1vFzm",
        "outputId": "7fae0a43-6e8e-424a-ee55-6ebc76299293"
      },
      "execution_count": null,
      "outputs": [
        {
          "output_type": "stream",
          "name": "stdout",
          "text": [
            "PREAMBLE          9765\n",
            "NONE              9765\n",
            "FAC               9765\n",
            "ARG_RESPONDENT    9765\n",
            "RLC               9765\n",
            "ARG_PETITIONER    9765\n",
            "ANALYSIS          9765\n",
            "PRE_RELIED        9765\n",
            "RATIO             9765\n",
            "RPC               9765\n",
            "ISSUE             9765\n",
            "STA               9765\n",
            "PRE_NOT_RELIED    9765\n",
            "Name: labels, dtype: int64\n"
          ]
        }
      ]
    },
    {
      "cell_type": "markdown",
      "source": [
        "#### Sample du ROS train set"
      ],
      "metadata": {
        "id": "HueyKp7bhCGu"
      }
    },
    {
      "cell_type": "code",
      "source": [
        "Random_Over_Sample_train_df_Sample = Random_Over_Sample_train_df.sample(frac=0.2, random_state=42) #0.2 = 25389"
      ],
      "metadata": {
        "id": "ck-ef1HOwyBy"
      },
      "execution_count": null,
      "outputs": []
    },
    {
      "cell_type": "code",
      "source": [
        "print(Random_Over_Sample_train_df_Sample[\"labels\"].value_counts())"
      ],
      "metadata": {
        "id": "TAc_z-4dvnMN",
        "outputId": "e5387881-df51-4e3e-c08f-06751ded702e",
        "colab": {
          "base_uri": "https://localhost:8080/"
        }
      },
      "execution_count": null,
      "outputs": [
        {
          "output_type": "stream",
          "name": "stdout",
          "text": [
            "ARG_RESPONDENT    2014\n",
            "ARG_PETITIONER    2006\n",
            "NONE              1997\n",
            "RATIO             1983\n",
            "RPC               1965\n",
            "PREAMBLE          1963\n",
            "PRE_NOT_RELIED    1961\n",
            "ISSUE             1954\n",
            "ANALYSIS          1940\n",
            "FAC               1940\n",
            "STA               1931\n",
            "PRE_RELIED        1869\n",
            "RLC               1866\n",
            "Name: labels, dtype: int64\n"
          ]
        }
      ]
    },
    {
      "cell_type": "code",
      "execution_count": null,
      "metadata": {
        "id": "G1jcxNT-uV4-",
        "colab": {
          "base_uri": "https://localhost:8080/",
          "height": 578
        },
        "outputId": "5c3eb589-c83c-41a4-a8fb-b4c200854109"
      },
      "outputs": [
        {
          "output_type": "display_data",
          "data": {
            "text/plain": [
              "<Figure size 2000x600 with 1 Axes>"
            ],
            "image/png": "[encoded data removed]"
          },
          "metadata": {}
        }
      ],
      "source": [
        "#estimation de la longueur des textes\n",
        "train_df['mots_par_texte'] = train_df['text'].apply(lambda x: len(x.split()))\n",
        "train_df.boxplot(column='mots_par_texte', by='labels', figsize=(20, 6), showfliers=False)\n",
        "plt.title('Distribution du nombre de mots par texte dans le jeu entrainement')\n",
        "plt.show()"
      ]
    },
    {
      "cell_type": "markdown",
      "source": [
        "## Balanced Train Dataset sur le dataset étendu"
      ],
      "metadata": {
        "id": "I5hpnNLhYHWJ"
      }
    },
    {
      "cell_type": "code",
      "source": [
        "# Créez un nouveau DataFrame pour le dataset équilibré.\n",
        "balanced_train_df = pd.DataFrame()\n",
        "\n",
        "# Utilisez la classe minoritaire (hors PRE_NOT_RELIED) comme référence pour le rééchantillonnage.\n",
        "target_count = extended_train_df['labels'].value_counts().drop('PRE_NOT_RELIED').min()\n",
        "\n",
        "for label in extended_train_df['labels'].unique():\n",
        "    if label == 'PRE_NOT_RELIED':\n",
        "        label_df = extended_train_df[extended_train_df['labels'] == label]\n",
        "    else:\n",
        "        # Rééchantillonnez chaque classe pour atteindre 'target_count'.\n",
        "        label_df = resample(\n",
        "            extended_train_df[extended_train_df['labels'] == label],\n",
        "            replace=True,  # Avec remplacement.\n",
        "            n_samples=target_count,  # Pour atteindre l'équilibre.\n",
        "            random_state=42  # Pour la reproductibilité.\n",
        "        )\n",
        "    balanced_train_df = pd.concat([balanced_train_df, label_df])\n",
        "\n",
        "# Mélangez le dataset équilibré.\n",
        "balanced_train_df = shuffle(balanced_train_df, random_state=42)\n",
        "\n",
        "# Enregistrez le dataset équilibré.\n",
        "balanced_train_df.to_csv(os.path.join(ROOT, 'BUILD/balanced_train_dataset.csv'), index=False)\n"
      ],
      "metadata": {
        "id": "L-B75uHJYQ24"
      },
      "execution_count": null,
      "outputs": []
    },
    {
      "cell_type": "code",
      "source": [
        "print(balanced_train_df[\"labels\"].value_counts())"
      ],
      "metadata": {
        "colab": {
          "base_uri": "https://localhost:8080/"
        },
        "id": "m3xzihnWZ6NS",
        "outputId": "56e91f0f-b68e-40a0-f062-86baf8a5e615"
      },
      "execution_count": null,
      "outputs": [
        {
          "output_type": "stream",
          "name": "stdout",
          "text": [
            "ARG_RESPONDENT    1811\n",
            "STA               1811\n",
            "ARG_PETITIONER    1811\n",
            "PRE_RELIED        1811\n",
            "RLC               1811\n",
            "NONE              1811\n",
            "FAC               1811\n",
            "RPC               1811\n",
            "PREAMBLE          1811\n",
            "RATIO             1811\n",
            "ISSUE             1811\n",
            "ANALYSIS          1811\n",
            "PRE_NOT_RELIED     554\n",
            "Name: labels, dtype: int64\n"
          ]
        }
      ]
    },
    {
      "cell_type": "markdown",
      "metadata": {
        "id": "Teb7OSLhuV4_"
      },
      "source": [
        "## Transformers"
      ]
    },
    {
      "cell_type": "code",
      "execution_count": 9,
      "metadata": {
        "id": "R35zRVD2uV4_"
      },
      "outputs": [],
      "source": [
        "# Charger le modèle\n",
        "\n",
        "def load_model(path, device, **kwargs):\n",
        "    model = AutoModelForSequenceClassification.from_pretrained(path, **kwargs)\n",
        "    model = model.to(device)\n",
        "    return model\n",
        "\n",
        "def load_tokenizer(path):\n",
        "    tokenizer = AutoTokenizer.from_pretrained(path)\n",
        "    return tokenizer"
      ]
    },
    {
      "cell_type": "code",
      "source": [
        "# Charger le modèle anglais de spaCy si besoin de preprocessing des textes\n",
        "nlp = spacy.load('en_core_web_sm')"
      ],
      "metadata": {
        "id": "ICUKzH6QUb_9"
      },
      "execution_count": null,
      "outputs": []
    },
    {
      "cell_type": "code",
      "source": [
        "# Pretraitement des donnees\n",
        "def _preprocess(text: str) -> str:\n",
        "    # To clean the text, replace tokens, ...\n",
        "\n",
        "    # Supprimer les caractères spéciaux et les espaces superflus\n",
        "    text = re.sub(r'\\s+', ' ', text.replace('\\n', ' '))\n",
        "\n",
        "    # Convertir le texte en minuscules\n",
        "    text = text.lower()\n",
        "\n",
        "    # Traitement avec spaCy\n",
        "    doc = nlp(text)\n",
        "\n",
        "    # Supprimer les stop words et faire de la lemmatisation\n",
        "    cleaned_text = ' '.join(token.lemma_ for token in doc if not token.is_stop)\n",
        "\n",
        "    # Retourner le texte nettoyé\n",
        "    return cleaned_text"
      ],
      "metadata": {
        "id": "eT6Ilby5UepK"
      },
      "execution_count": 10,
      "outputs": []
    },
    {
      "cell_type": "code",
      "source": [
        "class BUILDDataset(torch.utils.data.Dataset):\n",
        "    def __init__(self, df, tokenizer, device, include_labels=True):\n",
        "        self.ids = df.index.tolist()\n",
        "        self.encodings = tokenizer(\n",
        "            df['text'].tolist(),\n",
        "            truncation=True,\n",
        "            padding=False,\n",
        "            max_length=512\n",
        "        )\n",
        "        self.include_labels = include_labels\n",
        "        if include_labels and 'labels_class' in df:\n",
        "            self.labels = df['labels_class'].tolist()\n",
        "        else:\n",
        "            self.labels = [0] * len(df)  # Utilisez une étiquette par défaut, par ex. 0\n",
        "\n",
        "    def __getitem__(self, idx):\n",
        "        item = {key: val[idx] for key, val in self.encodings.items()}\n",
        "        if self.include_labels:\n",
        "            item['labels'] = self.labels[idx]\n",
        "        return item\n",
        "\n",
        "    def __len__(self):\n",
        "        return len(self.encodings['input_ids'])\n"
      ],
      "metadata": {
        "id": "2XcRZjagNTt6"
      },
      "execution_count": 11,
      "outputs": []
    },
    {
      "cell_type": "markdown",
      "source": [
        "Evaluation:"
      ],
      "metadata": {
        "id": "trv57BMt3Kzs"
      }
    },
    {
      "cell_type": "code",
      "source": [
        "def compute_metrics(p: EvalPrediction):\n",
        "    preds = np.argmax(p.predictions, axis=1)\n",
        "    labels = p.label_ids\n",
        "    precision, recall, f1, _ = precision_recall_fscore_support(labels, preds, average='weighted')\n",
        "    acc = accuracy_score(labels, preds)\n",
        "    return {\n",
        "        'accuracy': acc,\n",
        "        'f1': f1,\n",
        "        'precision': precision,\n",
        "        'recall': recall\n",
        "    }"
      ],
      "metadata": {
        "id": "GwwUOOFu3JwY"
      },
      "execution_count": 12,
      "outputs": []
    },
    {
      "cell_type": "markdown",
      "metadata": {
        "id": "etmKGIiPuV4_"
      },
      "source": [
        "Tokenization:"
      ]
    },
    {
      "cell_type": "code",
      "source": [
        "#tokenizer = load_tokenizer(\"nlpaueb/legal-bert-small-uncased\")\n",
        "#model = load_model(\"nlpaueb/legal-bert-small-uncased\", device, num_labels=len(rr_labels))"
      ],
      "metadata": {
        "id": "SSeO9wey9OXY",
        "colab": {
          "base_uri": "https://localhost:8080/",
          "height": 284,
          "referenced_widgets": [
            "7c940a27334f49f8a907106c7a3ffce3",
            "39ca49c8e82e44c89fd96c92463e5cbc",
            "1481a2346be74a7695a42789ccd308f9",
            "0dbbb0807cd248318d5367881d09feb9",
            "87276e77ef7f4159ae4c4898ddf7a389",
            "8a6a906df6234d1596e87a7aaf16f1f7",
            "d1ee84ca44344844af156556e5b40b70",
            "48958030ba6b46f6a4edc49a06f92bce",
            "86b9a22e23154fa588725652bb223405",
            "dd9fd27589c747fc80b27d6090768c67",
            "16f9ec85fad946ab8d87205e180a8be4",
            "65d93f0af6bf4028b1cef11cebd61027",
            "e62de29be0ac42ba9b43954ebf6bc387",
            "0d9e7adb383049539bdf3236aaef10b0",
            "2ae7ce02f40147b99bef18cb33cf3527",
            "88f4346b632c488cb52c95bd37b6fa5b",
            "3dd4eca3dafd4eafb741154c7d60356d",
            "82c6ffd1f22244aca9be8c5802a46a33",
            "72843a8f6fba4e1a863b80c09fdce634",
            "56b684e7a73e4a11892d7f9dccc2d6bb",
            "9b10f90227644f1fb807a270d571f03a",
            "c72282d7b8fe4457b1a46382014eef65",
            "b81e206f65724c60b73a6aef131bf840",
            "6230efa4626a4699813d62c71f211732",
            "0fd246d960404173b533b2ef5e59ddd7",
            "707f00aefd6f400eaf5ea070c1d479f8",
            "dd9d8b5e399740c39cdee74a825d9971",
            "07c7a4ba935b4bf68770ad689fb51152",
            "23df48353ca44a9a805828872fb72d1e",
            "5a0afed8de464413934f623b58e88d8c",
            "7ec03435ec5d4dd1acc0f16739dd8f30",
            "650ca2081a9542c5acc0a4f755a201bd",
            "4e56d385f01541b3b46d89c672115df3",
            "a029af0d17ee42fe9f8f7660704c8cf2",
            "72389709f73b44d2a0e02427abd12134",
            "d23429ebb0f34e2ea507ff8d9daf6abd",
            "ed2b2d1ca7e541668d2f6edae5a12c75",
            "b3cd65f4187747fb9f5fc881fd7545ca",
            "5e080b250167435baad4fd643c8a5911",
            "819108ec7ab1405b96b33b6a7680a718",
            "515ee4f5d35b4eaaa69a8c5f66d357fd",
            "644d8eaaf52a4be4b8070eb4091221e1",
            "ffdb4bc839e14d90a62f1d655ff53e40",
            "3167c73d3a544392866491c9b5255c6c"
          ]
        },
        "outputId": "65832360-1d80-40b6-df43-4af9f5066738"
      },
      "execution_count": null,
      "outputs": [
        {
          "output_type": "stream",
          "name": "stderr",
          "text": [
            "/usr/local/lib/python3.10/dist-packages/huggingface_hub/utils/_token.py:88: UserWarning: \n",
            "The secret `HF_TOKEN` does not exist in your Colab secrets.\n",
            "To authenticate with the Hugging Face Hub, create a token in your settings tab (https://huggingface.co/settings/tokens), set it as secret in your Google Colab and restart your session.\n",
            "You will be able to reuse this secret in all of your notebooks.\n",
            "Please note that authentication is recommended but still optional to access public models or datasets.\n",
            "  warnings.warn(\n"
          ]
        },
        {
          "output_type": "display_data",
          "data": {
            "text/plain": [
              "tokenizer_config.json:   0%|          | 0.00/48.0 [00:00<?, ?B/s]"
            ],
            "application/vnd.jupyter.widget-view+json": {
              "version_major": 2,
              "version_minor": 0,
              "model_id": "7c940a27334f49f8a907106c7a3ffce3"
            }
          },
          "metadata": {}
        },
        {
          "output_type": "display_data",
          "data": {
            "text/plain": [
              "config.json:   0%|          | 0.00/989 [00:00<?, ?B/s]"
            ],
            "application/vnd.jupyter.widget-view+json": {
              "version_major": 2,
              "version_minor": 0,
              "model_id": "65d93f0af6bf4028b1cef11cebd61027"
            }
          },
          "metadata": {}
        },
        {
          "output_type": "display_data",
          "data": {
            "text/plain": [
              "vocab.txt:   0%|          | 0.00/222k [00:00<?, ?B/s]"
            ],
            "application/vnd.jupyter.widget-view+json": {
              "version_major": 2,
              "version_minor": 0,
              "model_id": "b81e206f65724c60b73a6aef131bf840"
            }
          },
          "metadata": {}
        },
        {
          "output_type": "display_data",
          "data": {
            "text/plain": [
              "pytorch_model.bin:   0%|          | 0.00/141M [00:00<?, ?B/s]"
            ],
            "application/vnd.jupyter.widget-view+json": {
              "version_major": 2,
              "version_minor": 0,
              "model_id": "a029af0d17ee42fe9f8f7660704c8cf2"
            }
          },
          "metadata": {}
        },
        {
          "output_type": "stream",
          "name": "stderr",
          "text": [
            "Some weights of BertForSequenceClassification were not initialized from the model checkpoint at nlpaueb/legal-bert-small-uncased and are newly initialized: ['classifier.weight', 'classifier.bias']\n",
            "You should probably TRAIN this model on a down-stream task to be able to use it for predictions and inference.\n"
          ]
        }
      ]
    },
    {
      "cell_type": "code",
      "source": [
        "#model = RobertaForSequenceClassification.from_pretrained('roberta-base', num_labels=len(rr_labels))\n",
        "#tokenizer = RobertaTokenizer.from_pretrained('roberta-base')"
      ],
      "metadata": {
        "id": "BzzEy21K9PXk"
      },
      "execution_count": null,
      "outputs": []
    },
    {
      "cell_type": "code",
      "execution_count": null,
      "metadata": {
        "id": "Z7vs0xfKuV4_",
        "colab": {
          "base_uri": "https://localhost:8080/",
          "height": 232,
          "referenced_widgets": [
            "0b582c752f504556a7d73ea6a965873f",
            "398c494a95b14e079aa542026368065c",
            "6875073baada448ab290bebb46d84217",
            "09d9a3050d32400fa425960fde92912d",
            "c7caa6628184430e90848e3ce7f5d37c",
            "3da0cf65f81d4eb99eca118650a015ac",
            "24a893b448ee4da2b9a67a235a7b8033",
            "3ed345d8ed814055b6ac220953ba831a",
            "98bbf2b1be144e3e8de73c2242191ee8",
            "7deb751c917c443fb7e2c87d75bbfd1c",
            "bba7d26a403146f7aff953a3d070e1f9",
            "3ef85d00e12d46df841aea035fede6d0",
            "af8636d3e7d64df5ad1a08b76d7d0c65",
            "98bf7d83a9514039a31c05d3c8de14b2",
            "87c28a78f36e4839b579c91a9875fa7e",
            "db15e6ab185d46d0966eab99ec439a0a",
            "a3ad12acb3474dd78106b84d366aaef7",
            "40f7d9f4cee448bba6c69012ad08efad",
            "06c2c8ffdf664a7e99b3c5c6821b7296",
            "9fe2092b43c24dc183a0953bf38450bf",
            "00b77d8850b546a18bc8b7414fa7fa33",
            "93ad88eb228d4a65837fbaf73435eca2",
            "66406339579a47e7ac30713e8d46c19e",
            "5de75900609f47608f0d1192ef4ce13e",
            "46e1b630e1634e19a55b85eb34a66d54",
            "e7bac3d794994c53b22277e10edb75ea",
            "ae6e8db463d14c54bb045f722f9f92ee",
            "b475692efab94025bf92470d528bcba8",
            "cd145ec3d7194ed1bb0b4602fd99aa0b",
            "5328b84b1d3a4ad496c30b7435c8cf38",
            "9991e1cfe1184367ac6d7ae20db16bdb",
            "aaf9e569f05f43fd9619e085dbd38cd8",
            "04ef06305074457d97da6e41d266963d",
            "50453440d5e84db581db792acecd3a7e",
            "6984764a9749439984d1190e7cd63de0",
            "96077a856abf481585bb8af5550327ea",
            "28d6b68018c5440ea43f9310f216c6f1",
            "15e045bb441d477181018870934f42f3",
            "814a3bbfc3814c96a1e9d2d976f4e520",
            "879abfa95ada446988e4ece3797ec581",
            "978fdf963ab44c189b59e70b196eb159",
            "9475714d9a0c49f18b1b761191ffe752",
            "051e20e3e01946bfbfcee1123ae43fb6",
            "f698c076f8a1499480391aaaa1897919",
            "3745adc0188e40578319d10d8423ec5b",
            "63db5b9f6e2d4770ac587bad551a35fc",
            "44f670c7de064df78da1486f14d25579",
            "a7ef3972841d4b7ab2b1f92fc0811d01",
            "e535c51c6b434376afba7a83740db2a9",
            "1454d40db4c0480eb06cd752bce1161e",
            "072d367eb771400e9d792da970b1b33d",
            "59eb85080a4a4109a1e84275e380be86",
            "7d2d4a718ab240b087a205be0de623f9",
            "43180e0a838d4ad9a8e9df1d593b2cdf",
            "11d836e5967f49e1b93cebfe54236909"
          ]
        },
        "outputId": "1560c469-f1c5-4228-a350-a3e1fb0dd310"
      },
      "outputs": [
        {
          "output_type": "display_data",
          "data": {
            "text/plain": [
              "tokenizer_config.json:   0%|          | 0.00/28.0 [00:00<?, ?B/s]"
            ],
            "application/vnd.jupyter.widget-view+json": {
              "version_major": 2,
              "version_minor": 0,
              "model_id": "0b582c752f504556a7d73ea6a965873f"
            }
          },
          "metadata": {}
        },
        {
          "output_type": "display_data",
          "data": {
            "text/plain": [
              "config.json:   0%|          | 0.00/483 [00:00<?, ?B/s]"
            ],
            "application/vnd.jupyter.widget-view+json": {
              "version_major": 2,
              "version_minor": 0,
              "model_id": "3ef85d00e12d46df841aea035fede6d0"
            }
          },
          "metadata": {}
        },
        {
          "output_type": "display_data",
          "data": {
            "text/plain": [
              "vocab.txt:   0%|          | 0.00/232k [00:00<?, ?B/s]"
            ],
            "application/vnd.jupyter.widget-view+json": {
              "version_major": 2,
              "version_minor": 0,
              "model_id": "66406339579a47e7ac30713e8d46c19e"
            }
          },
          "metadata": {}
        },
        {
          "output_type": "display_data",
          "data": {
            "text/plain": [
              "tokenizer.json:   0%|          | 0.00/466k [00:00<?, ?B/s]"
            ],
            "application/vnd.jupyter.widget-view+json": {
              "version_major": 2,
              "version_minor": 0,
              "model_id": "50453440d5e84db581db792acecd3a7e"
            }
          },
          "metadata": {}
        },
        {
          "output_type": "display_data",
          "data": {
            "text/plain": [
              "model.safetensors:   0%|          | 0.00/268M [00:00<?, ?B/s]"
            ],
            "application/vnd.jupyter.widget-view+json": {
              "version_major": 2,
              "version_minor": 0,
              "model_id": "3745adc0188e40578319d10d8423ec5b"
            }
          },
          "metadata": {}
        },
        {
          "output_type": "stream",
          "name": "stderr",
          "text": [
            "Some weights of DistilBertForSequenceClassification were not initialized from the model checkpoint at distilbert-base-uncased and are newly initialized: ['classifier.bias', 'classifier.weight', 'pre_classifier.weight', 'pre_classifier.bias']\n",
            "You should probably TRAIN this model on a down-stream task to be able to use it for predictions and inference.\n"
          ]
        }
      ],
      "source": [
        "tokenizer = AutoTokenizer.from_pretrained(\"distilbert-base-uncased\")\n",
        "model = DistilBertForSequenceClassification.from_pretrained(\"distilbert-base-uncased\", num_labels=len(rr_labels))"
      ]
    },
    {
      "cell_type": "markdown",
      "source": [
        "#### Padding Dynamique"
      ],
      "metadata": {
        "id": "EmOzWWXN1hty"
      }
    },
    {
      "cell_type": "code",
      "source": [
        "# Créer une instance de DataCollatorWithPadding\n",
        "data_collator = DataCollatorWithPadding(tokenizer=tokenizer, return_tensors=\"pt\")"
      ],
      "metadata": {
        "id": "lbyIWHWs1hCI"
      },
      "execution_count": null,
      "outputs": []
    },
    {
      "cell_type": "markdown",
      "source": [
        "#### Création des datasets"
      ],
      "metadata": {
        "id": "n527msMB1lW5"
      }
    },
    {
      "cell_type": "code",
      "execution_count": null,
      "metadata": {
        "id": "1WYTrMNHuV4_"
      },
      "outputs": [],
      "source": [
        "#train_dataset = BUILDDataset(train_df, tokenizer, device)\n",
        "valid_dataset = BUILDDataset(valid_df, tokenizer, device)"
      ]
    },
    {
      "cell_type": "code",
      "source": [
        "ROS_train_dataset = BUILDDataset(Random_Over_Sample_train_df, tokenizer, device)"
      ],
      "metadata": {
        "id": "D6lP23TAwP0N"
      },
      "execution_count": null,
      "outputs": []
    },
    {
      "cell_type": "code",
      "source": [
        "extended_train_dataset = BUILDDataset(extended_train_df, tokenizer, device)"
      ],
      "metadata": {
        "id": "ZxAf2qREaxHk"
      },
      "execution_count": null,
      "outputs": []
    },
    {
      "cell_type": "code",
      "execution_count": null,
      "metadata": {
        "id": "sIETJ2EeuV5A"
      },
      "outputs": [],
      "source": [
        "#train_dataset.__getitem__(0)"
      ]
    },
    {
      "cell_type": "markdown",
      "metadata": {
        "id": "8Io7NB4euV5A"
      },
      "source": [
        "Configuration du modèle:"
      ]
    },
    {
      "cell_type": "code",
      "execution_count": null,
      "metadata": {
        "id": "z4JVcs1kuV5A"
      },
      "outputs": [],
      "source": [
        "training_args = TrainingArguments(\n",
        "    output_dir='./results',          # output directory\n",
        "    num_train_epochs=5,             # total number of training epochs\n",
        "    #max_steps=500,                    # trains for 10 batches\n",
        "    per_device_train_batch_size=32,  # batch size per device during training\n",
        "    per_device_eval_batch_size=32,   # batch size for evaluation\n",
        "    warmup_steps=500,                # number of warmup steps for learning rate scheduler\n",
        "    weight_decay=0.01,               # strength of weight decay\n",
        "    logging_dir='./logs',            # directory for storing logs\n",
        "    logging_steps=100,\n",
        "    evaluation_strategy='epoch', # evaluer à chaque epoch\n",
        "    save_strategy='epoch', # sauvegarder à chaque epoch\n",
        "    #report_to=\"tensorboard\",  # Ajoutez cette ligne pour utiliser TensorBoard\n",
        "    learning_rate=1e-4, # taux d'apprentissage 5e-4, 1e-4(legal bert training)\n",
        ")\n",
        "\n",
        "trainer = Trainer(\n",
        "    model=model.to(device),                         # the instantiated 🤗 Transformers model to be trained\n",
        "    args=training_args,                  # training arguments, defined above\n",
        "    train_dataset=extended_train_dataset,         # training dataset\n",
        "    eval_dataset=valid_dataset,             # evaluation dataset\n",
        "    data_collator=data_collator,\n",
        "    compute_metrics=compute_metrics,\n",
        ")"
      ]
    },
    {
      "cell_type": "code",
      "source": [
        "#torch.cuda.empty_cache()"
      ],
      "metadata": {
        "id": "RXWdN46D8PiQ"
      },
      "execution_count": null,
      "outputs": []
    },
    {
      "cell_type": "code",
      "execution_count": null,
      "metadata": {
        "id": "vYq1EOEHuV5A",
        "colab": {
          "base_uri": "https://localhost:8080/",
          "height": 93
        },
        "outputId": "42aa5047-25b5-4021-e12a-e916944147e1"
      },
      "outputs": [
        {
          "output_type": "stream",
          "name": "stderr",
          "text": [
            "You're using a DistilBertTokenizerFast tokenizer. Please note that with a fast tokenizer, using the `__call__` method is faster than using a method to encode the text followed by a call to the `pad` method to get a padded encoding.\n"
          ]
        },
        {
          "output_type": "display_data",
          "data": {
            "text/plain": [
              "<IPython.core.display.HTML object>"
            ],
            "text/html": [
              "\n",
              "    <div>\n",
              "      \n",
              "      <progress value='3296' max='31255' style='width:300px; height:20px; vertical-align: middle;'></progress>\n",
              "      [ 3296/31255 24:58 < 3:32:00, 2.20 it/s, Epoch 0.53/5]\n",
              "    </div>\n",
              "    <table border=\"1\" class=\"dataframe\">\n",
              "  <thead>\n",
              " <tr style=\"text-align: left;\">\n",
              "      <th>Epoch</th>\n",
              "      <th>Training Loss</th>\n",
              "      <th>Validation Loss</th>\n",
              "    </tr>\n",
              "  </thead>\n",
              "  <tbody>\n",
              "  </tbody>\n",
              "</table><p>"
            ]
          },
          "metadata": {}
        }
      ],
      "source": [
        "trainer.train()"
      ]
    },
    {
      "cell_type": "markdown",
      "source": [
        "Inférence et évaluation:"
      ],
      "metadata": {
        "id": "OO4pDqsR9ZCW"
      }
    },
    {
      "cell_type": "code",
      "execution_count": 21,
      "metadata": {
        "id": "_ufeiZiTuV5A"
      },
      "outputs": [],
      "source": [
        "from sklearn.metrics import classification_report, confusion_matrix\n",
        "import seaborn as sns"
      ]
    },
    {
      "cell_type": "code",
      "execution_count": null,
      "metadata": {
        "id": "YgxgymDmuV5A",
        "colab": {
          "base_uri": "https://localhost:8080/",
          "height": 17
        },
        "outputId": "ce3c01da-ee2b-4306-b89d-a77cc3f09d78"
      },
      "outputs": [
        {
          "output_type": "display_data",
          "data": {
            "text/plain": [
              "<IPython.core.display.HTML object>"
            ],
            "text/html": []
          },
          "metadata": {}
        }
      ],
      "source": [
        "# Faites les prédictions sur les données de validation\n",
        "predictions = trainer.predict(valid_dataset)"
      ]
    },
    {
      "cell_type": "code",
      "execution_count": null,
      "metadata": {
        "id": "q9mzUc9VuV5A"
      },
      "outputs": [],
      "source": [
        "# Obtenez les étiquettes prédites et les vraies étiquettes\n",
        "predicted_labels = predictions.predictions.argmax(axis=1)\n",
        "true_labels = valid_dataset.labels\n"
      ]
    },
    {
      "cell_type": "code",
      "execution_count": null,
      "metadata": {
        "id": "AdpP1tUxuV5B"
      },
      "outputs": [],
      "source": [
        "# Calculez les scores de précision, de rappel et de f-mesure\n",
        "report = classification_report(true_labels, predicted_labels, target_names=rr_labels, output_dict=True)"
      ]
    },
    {
      "cell_type": "code",
      "execution_count": null,
      "metadata": {
        "id": "XjCt-5f8uV5B",
        "colab": {
          "base_uri": "https://localhost:8080/",
          "height": 551
        },
        "outputId": "28175f54-abf7-48bd-9fd2-decc740b513f"
      },
      "outputs": [
        {
          "output_type": "execute_result",
          "data": {
            "text/plain": [
              "                precision    recall  f1-score     support\n",
              "PREAMBLE         0.895604  0.838046  0.865870   389.00000\n",
              "FAC              0.624467  0.651335  0.637618   674.00000\n",
              "RLC              0.369863  0.658537  0.473684    41.00000\n",
              "ISSUE            0.689655  0.869565  0.769231    23.00000\n",
              "ARG_PETITIONER   0.637931  0.379487  0.475884   195.00000\n",
              "ARG_RESPONDENT   0.545455  0.384615  0.451128    78.00000\n",
              "ANALYSIS         0.608944  0.688172  0.646138   930.00000\n",
              "STA              0.674419  0.763158  0.716049    38.00000\n",
              "PRE_RELIED       0.600000  0.314286  0.412500   210.00000\n",
              "PRE_NOT_RELIED   0.040000  0.500000  0.074074     2.00000\n",
              "RATIO            0.288462  0.272727  0.280374    55.00000\n",
              "RPC              0.795276  0.795276  0.795276   127.00000\n",
              "NONE             0.715232  0.788321  0.750000   137.00000\n",
              "accuracy         0.647120  0.647120  0.647120     0.64712\n",
              "macro avg        0.575793  0.607964  0.565217  2899.00000\n",
              "weighted avg     0.655442  0.647120  0.643580  2899.00000"
            ],
            "text/html": [
              "\n",
              "  <div id=\"df-8c984978-2326-4335-969b-dea493ddc272\" class=\"colab-df-container\">\n",
              "    <div>\n",
              "<style scoped>\n",
              "    .dataframe tbody tr th:only-of-type {\n",
              "        vertical-align: middle;\n",
              "    }\n",
              "\n",
              "    .dataframe tbody tr th {\n",
              "        vertical-align: top;\n",
              "    }\n",
              "\n",
              "    .dataframe thead th {\n",
              "        text-align: right;\n",
              "    }\n",
              "</style>\n",
              "<table border=\"1\" class=\"dataframe\">\n",
              "  <thead>\n",
              "    <tr style=\"text-align: right;\">\n",
              "      <th></th>\n",
              "      <th>precision</th>\n",
              "      <th>recall</th>\n",
              "      <th>f1-score</th>\n",
              "      <th>support</th>\n",
              "    </tr>\n",
              "  </thead>\n",
              "  <tbody>\n",
              "    <tr>\n",
              "      <th>PREAMBLE</th>\n",
              "      <td>0.895604</td>\n",
              "      <td>0.838046</td>\n",
              "      <td>0.865870</td>\n",
              "      <td>389.00000</td>\n",
              "    </tr>\n",
              "    <tr>\n",
              "      <th>FAC</th>\n",
              "      <td>0.624467</td>\n",
              "      <td>0.651335</td>\n",
              "      <td>0.637618</td>\n",
              "      <td>674.00000</td>\n",
              "    </tr>\n",
              "    <tr>\n",
              "      <th>RLC</th>\n",
              "      <td>0.369863</td>\n",
              "      <td>0.658537</td>\n",
              "      <td>0.473684</td>\n",
              "      <td>41.00000</td>\n",
              "    </tr>\n",
              "    <tr>\n",
              "      <th>ISSUE</th>\n",
              "      <td>0.689655</td>\n",
              "      <td>0.869565</td>\n",
              "      <td>0.769231</td>\n",
              "      <td>23.00000</td>\n",
              "    </tr>\n",
              "    <tr>\n",
              "      <th>ARG_PETITIONER</th>\n",
              "      <td>0.637931</td>\n",
              "      <td>0.379487</td>\n",
              "      <td>0.475884</td>\n",
              "      <td>195.00000</td>\n",
              "    </tr>\n",
              "    <tr>\n",
              "      <th>ARG_RESPONDENT</th>\n",
              "      <td>0.545455</td>\n",
              "      <td>0.384615</td>\n",
              "      <td>0.451128</td>\n",
              "      <td>78.00000</td>\n",
              "    </tr>\n",
              "    <tr>\n",
              "      <th>ANALYSIS</th>\n",
              "      <td>0.608944</td>\n",
              "      <td>0.688172</td>\n",
              "      <td>0.646138</td>\n",
              "      <td>930.00000</td>\n",
              "    </tr>\n",
              "    <tr>\n",
              "      <th>STA</th>\n",
              "      <td>0.674419</td>\n",
              "      <td>0.763158</td>\n",
              "      <td>0.716049</td>\n",
              "      <td>38.00000</td>\n",
              "    </tr>\n",
              "    <tr>\n",
              "      <th>PRE_RELIED</th>\n",
              "      <td>0.600000</td>\n",
              "      <td>0.314286</td>\n",
              "      <td>0.412500</td>\n",
              "      <td>210.00000</td>\n",
              "    </tr>\n",
              "    <tr>\n",
              "      <th>PRE_NOT_RELIED</th>\n",
              "      <td>0.040000</td>\n",
              "      <td>0.500000</td>\n",
              "      <td>0.074074</td>\n",
              "      <td>2.00000</td>\n",
              "    </tr>\n",
              "    <tr>\n",
              "      <th>RATIO</th>\n",
              "      <td>0.288462</td>\n",
              "      <td>0.272727</td>\n",
              "      <td>0.280374</td>\n",
              "      <td>55.00000</td>\n",
              "    </tr>\n",
              "    <tr>\n",
              "      <th>RPC</th>\n",
              "      <td>0.795276</td>\n",
              "      <td>0.795276</td>\n",
              "      <td>0.795276</td>\n",
              "      <td>127.00000</td>\n",
              "    </tr>\n",
              "    <tr>\n",
              "      <th>NONE</th>\n",
              "      <td>0.715232</td>\n",
              "      <td>0.788321</td>\n",
              "      <td>0.750000</td>\n",
              "      <td>137.00000</td>\n",
              "    </tr>\n",
              "    <tr>\n",
              "      <th>accuracy</th>\n",
              "      <td>0.647120</td>\n",
              "      <td>0.647120</td>\n",
              "      <td>0.647120</td>\n",
              "      <td>0.64712</td>\n",
              "    </tr>\n",
              "    <tr>\n",
              "      <th>macro avg</th>\n",
              "      <td>0.575793</td>\n",
              "      <td>0.607964</td>\n",
              "      <td>0.565217</td>\n",
              "      <td>2899.00000</td>\n",
              "    </tr>\n",
              "    <tr>\n",
              "      <th>weighted avg</th>\n",
              "      <td>0.655442</td>\n",
              "      <td>0.647120</td>\n",
              "      <td>0.643580</td>\n",
              "      <td>2899.00000</td>\n",
              "    </tr>\n",
              "  </tbody>\n",
              "</table>\n",
              "</div>\n",
              "    <div class=\"colab-df-buttons\">\n",
              "\n",
              "  <div class=\"colab-df-container\">\n",
              "    <button class=\"colab-df-convert\" onclick=\"convertToInteractive('df-8c984978-2326-4335-969b-dea493ddc272')\"\n",
              "            title=\"Convert this dataframe to an interactive table.\"\n",
              "            style=\"display:none;\">\n",
              "\n",
              "  <svg xmlns=\"http://www.w3.org/2000/svg\" height=\"24px\" viewBox=\"0 -960 960 960\">\n",
              "    <path d=\"M120-120v-720h720v720H120Zm60-500h600v-160H180v160Zm220 220h160v-160H400v160Zm0 220h160v-160H400v160ZM180-400h160v-160H180v160Zm440 0h160v-160H620v160ZM180-180h160v-160H180v160Zm440 0h160v-160H620v160Z\"/>\n",
              "  </svg>\n",
              "    </button>\n",
              "\n",
              "  <style>\n",
              "    .colab-df-container {\n",
              "      display:flex;\n",
              "      gap: 12px;\n",
              "    }\n",
              "\n",
              "    .colab-df-convert {\n",
              "      background-color: #E8F0FE;\n",
              "      border: none;\n",
              "      border-radius: 50%;\n",
              "      cursor: pointer;\n",
              "      display: none;\n",
              "      fill: #1967D2;\n",
              "      height: 32px;\n",
              "      padding: 0 0 0 0;\n",
              "      width: 32px;\n",
              "    }\n",
              "\n",
              "    .colab-df-convert:hover {\n",
              "      background-color: #E2EBFA;\n",
              "      box-shadow: 0px 1px 2px rgba(60, 64, 67, 0.3), 0px 1px 3px 1px rgba(60, 64, 67, 0.15);\n",
              "      fill: #174EA6;\n",
              "    }\n",
              "\n",
              "    .colab-df-buttons div {\n",
              "      margin-bottom: 4px;\n",
              "    }\n",
              "\n",
              "    [theme=dark] .colab-df-convert {\n",
              "      background-color: #3B4455;\n",
              "      fill: #D2E3FC;\n",
              "    }\n",
              "\n",
              "    [theme=dark] .colab-df-convert:hover {\n",
              "      background-color: #434B5C;\n",
              "      box-shadow: 0px 1px 3px 1px rgba(0, 0, 0, 0.15);\n",
              "      filter: drop-shadow(0px 1px 2px rgba(0, 0, 0, 0.3));\n",
              "      fill: #FFFFFF;\n",
              "    }\n",
              "  </style>\n",
              "\n",
              "    <script>\n",
              "      const buttonEl =\n",
              "        document.querySelector('#df-8c984978-2326-4335-969b-dea493ddc272 button.colab-df-convert');\n",
              "      buttonEl.style.display =\n",
              "        google.colab.kernel.accessAllowed ? 'block' : 'none';\n",
              "\n",
              "      async function convertToInteractive(key) {\n",
              "        const element = document.querySelector('#df-8c984978-2326-4335-969b-dea493ddc272');\n",
              "        const dataTable =\n",
              "          await google.colab.kernel.invokeFunction('convertToInteractive',\n",
              "                                                    [key], {});\n",
              "        if (!dataTable) return;\n",
              "\n",
              "        const docLinkHtml = 'Like what you see? Visit the ' +\n",
              "          '<a target=\"_blank\" href=https://colab.research.google.com/notebooks/data_table.ipynb>data table notebook</a>'\n",
              "          + ' to learn more about interactive tables.';\n",
              "        element.innerHTML = '';\n",
              "        dataTable['output_type'] = 'display_data';\n",
              "        await google.colab.output.renderOutput(dataTable, element);\n",
              "        const docLink = document.createElement('div');\n",
              "        docLink.innerHTML = docLinkHtml;\n",
              "        element.appendChild(docLink);\n",
              "      }\n",
              "    </script>\n",
              "  </div>\n",
              "\n",
              "\n",
              "<div id=\"df-9b51f95e-4d60-4a59-a5f8-b3c8eea3e63b\">\n",
              "  <button class=\"colab-df-quickchart\" onclick=\"quickchart('df-9b51f95e-4d60-4a59-a5f8-b3c8eea3e63b')\"\n",
              "            title=\"Suggest charts\"\n",
              "            style=\"display:none;\">\n",
              "\n",
              "<svg xmlns=\"http://www.w3.org/2000/svg\" height=\"24px\"viewBox=\"0 0 24 24\"\n",
              "     width=\"24px\">\n",
              "    <g>\n",
              "        <path d=\"M19 3H5c-1.1 0-2 .9-2 2v14c0 1.1.9 2 2 2h14c1.1 0 2-.9 2-2V5c0-1.1-.9-2-2-2zM9 17H7v-7h2v7zm4 0h-2V7h2v10zm4 0h-2v-4h2v4z\"/>\n",
              "    </g>\n",
              "</svg>\n",
              "  </button>\n",
              "\n",
              "<style>\n",
              "  .colab-df-quickchart {\n",
              "      --bg-color: #E8F0FE;\n",
              "      --fill-color: #1967D2;\n",
              "      --hover-bg-color: #E2EBFA;\n",
              "      --hover-fill-color: #174EA6;\n",
              "      --disabled-fill-color: #AAA;\n",
              "      --disabled-bg-color: #DDD;\n",
              "  }\n",
              "\n",
              "  [theme=dark] .colab-df-quickchart {\n",
              "      --bg-color: #3B4455;\n",
              "      --fill-color: #D2E3FC;\n",
              "      --hover-bg-color: #434B5C;\n",
              "      --hover-fill-color: #FFFFFF;\n",
              "      --disabled-bg-color: #3B4455;\n",
              "      --disabled-fill-color: #666;\n",
              "  }\n",
              "\n",
              "  .colab-df-quickchart {\n",
              "    background-color: var(--bg-color);\n",
              "    border: none;\n",
              "    border-radius: 50%;\n",
              "    cursor: pointer;\n",
              "    display: none;\n",
              "    fill: var(--fill-color);\n",
              "    height: 32px;\n",
              "    padding: 0;\n",
              "    width: 32px;\n",
              "  }\n",
              "\n",
              "  .colab-df-quickchart:hover {\n",
              "    background-color: var(--hover-bg-color);\n",
              "    box-shadow: 0 1px 2px rgba(60, 64, 67, 0.3), 0 1px 3px 1px rgba(60, 64, 67, 0.15);\n",
              "    fill: var(--button-hover-fill-color);\n",
              "  }\n",
              "\n",
              "  .colab-df-quickchart-complete:disabled,\n",
              "  .colab-df-quickchart-complete:disabled:hover {\n",
              "    background-color: var(--disabled-bg-color);\n",
              "    fill: var(--disabled-fill-color);\n",
              "    box-shadow: none;\n",
              "  }\n",
              "\n",
              "  .colab-df-spinner {\n",
              "    border: 2px solid var(--fill-color);\n",
              "    border-color: transparent;\n",
              "    border-bottom-color: var(--fill-color);\n",
              "    animation:\n",
              "      spin 1s steps(1) infinite;\n",
              "  }\n",
              "\n",
              "  @keyframes spin {\n",
              "    0% {\n",
              "      border-color: transparent;\n",
              "      border-bottom-color: var(--fill-color);\n",
              "      border-left-color: var(--fill-color);\n",
              "    }\n",
              "    20% {\n",
              "      border-color: transparent;\n",
              "      border-left-color: var(--fill-color);\n",
              "      border-top-color: var(--fill-color);\n",
              "    }\n",
              "    30% {\n",
              "      border-color: transparent;\n",
              "      border-left-color: var(--fill-color);\n",
              "      border-top-color: var(--fill-color);\n",
              "      border-right-color: var(--fill-color);\n",
              "    }\n",
              "    40% {\n",
              "      border-color: transparent;\n",
              "      border-right-color: var(--fill-color);\n",
              "      border-top-color: var(--fill-color);\n",
              "    }\n",
              "    60% {\n",
              "      border-color: transparent;\n",
              "      border-right-color: var(--fill-color);\n",
              "    }\n",
              "    80% {\n",
              "      border-color: transparent;\n",
              "      border-right-color: var(--fill-color);\n",
              "      border-bottom-color: var(--fill-color);\n",
              "    }\n",
              "    90% {\n",
              "      border-color: transparent;\n",
              "      border-bottom-color: var(--fill-color);\n",
              "    }\n",
              "  }\n",
              "</style>\n",
              "\n",
              "  <script>\n",
              "    async function quickchart(key) {\n",
              "      const quickchartButtonEl =\n",
              "        document.querySelector('#' + key + ' button');\n",
              "      quickchartButtonEl.disabled = true;  // To prevent multiple clicks.\n",
              "      quickchartButtonEl.classList.add('colab-df-spinner');\n",
              "      try {\n",
              "        const charts = await google.colab.kernel.invokeFunction(\n",
              "            'suggestCharts', [key], {});\n",
              "      } catch (error) {\n",
              "        console.error('Error during call to suggestCharts:', error);\n",
              "      }\n",
              "      quickchartButtonEl.classList.remove('colab-df-spinner');\n",
              "      quickchartButtonEl.classList.add('colab-df-quickchart-complete');\n",
              "    }\n",
              "    (() => {\n",
              "      let quickchartButtonEl =\n",
              "        document.querySelector('#df-9b51f95e-4d60-4a59-a5f8-b3c8eea3e63b button');\n",
              "      quickchartButtonEl.style.display =\n",
              "        google.colab.kernel.accessAllowed ? 'block' : 'none';\n",
              "    })();\n",
              "  </script>\n",
              "</div>\n",
              "    </div>\n",
              "  </div>\n"
            ]
          },
          "metadata": {},
          "execution_count": 23
        }
      ],
      "source": [
        "# Afficher le rapport dans un DataFrame\n",
        "df_report = pd.DataFrame(report).transpose()\n",
        "df_report"
      ]
    },
    {
      "cell_type": "code",
      "source": [
        "# Sauvegarder le modèle\n",
        "model_save_path = os.path.join(ROOT, 'Model/Distilbert')\n",
        "model.save_pretrained(model_save_path)\n",
        "\n",
        "# Sauvegarder le tokenizer\n",
        "tokenizer_save_path = os.path.join(ROOT, 'Model/Distilbert_Tokenizer')\n",
        "tokenizer.save_pretrained(tokenizer_save_path)\n"
      ],
      "metadata": {
        "colab": {
          "base_uri": "https://localhost:8080/"
        },
        "id": "PqJ4KGXZ13jp",
        "outputId": "bc1715f3-733a-4d14-a362-08a602258498"
      },
      "execution_count": null,
      "outputs": [
        {
          "output_type": "execute_result",
          "data": {
            "text/plain": [
              "('/content/drive/MyDrive/Colab Notebooks/Tache SemEval/Projet_SemEval2023_ATAL/Model/Tokenizer/tokenizer_config.json',\n",
              " '/content/drive/MyDrive/Colab Notebooks/Tache SemEval/Projet_SemEval2023_ATAL/Model/Tokenizer/special_tokens_map.json',\n",
              " '/content/drive/MyDrive/Colab Notebooks/Tache SemEval/Projet_SemEval2023_ATAL/Model/Tokenizer/vocab.txt',\n",
              " '/content/drive/MyDrive/Colab Notebooks/Tache SemEval/Projet_SemEval2023_ATAL/Model/Tokenizer/added_tokens.json',\n",
              " '/content/drive/MyDrive/Colab Notebooks/Tache SemEval/Projet_SemEval2023_ATAL/Model/Tokenizer/tokenizer.json')"
            ]
          },
          "metadata": {},
          "execution_count": 24
        }
      ]
    },
    {
      "cell_type": "markdown",
      "metadata": {
        "id": "4GKCMc_RuV5B"
      },
      "source": [
        "Matrice de confusion:"
      ]
    },
    {
      "cell_type": "code",
      "execution_count": null,
      "metadata": {
        "id": "CV3bxQ7ouV5B"
      },
      "outputs": [],
      "source": [
        "# Calculer la matrice de confusion\n",
        "confusion = confusion_matrix(true_labels, predicted_labels)"
      ]
    },
    {
      "cell_type": "code",
      "execution_count": null,
      "metadata": {
        "id": "YZuVlFgTuV5B",
        "colab": {
          "base_uri": "https://localhost:8080/",
          "height": 836
        },
        "outputId": "d1c98202-8c5d-4ab5-9742-d4ba87be4a5f"
      },
      "outputs": [
        {
          "output_type": "display_data",
          "data": {
            "text/plain": [
              "<Figure size 1000x800 with 2 Axes>"
            ],
            "image/png": "[encoded data removed]"
          },
          "metadata": {}
        }
      ],
      "source": [
        "# Afficher la matrice de confusion sous forme de heatmap\n",
        "plt.figure(figsize=(10, 8))\n",
        "sns.heatmap(confusion, annot=True, fmt='d', cmap='Blues', xticklabels=rr_labels, yticklabels=rr_labels)\n",
        "plt.xlabel('Prédit')\n",
        "plt.ylabel('Vrai')\n",
        "plt.title('Matrice de Confusion')\n",
        "plt.show()"
      ]
    },
    {
      "cell_type": "code",
      "execution_count": null,
      "metadata": {
        "id": "nbB3dwOiuV5B"
      },
      "outputs": [],
      "source": [
        "#afficher dans un dataframe pandas la matrice de confusion\n",
        "df_confusion = pd.DataFrame(confusion, index=rr_labels, columns=rr_labels)"
      ]
    },
    {
      "cell_type": "markdown",
      "source": [
        "### Analyse d'erreur"
      ],
      "metadata": {
        "id": "SUtl9xi67ih6"
      }
    },
    {
      "cell_type": "code",
      "source": [
        "# Faire des prédictions sur les données de validation\n",
        "predictions = trainer.predict(valid_dataset)\n",
        "preds = np.argmax(predictions.predictions, axis=1)\n",
        "\n",
        "# Obtenir les vraies étiquettes\n",
        "true_labels = [valid_dataset[i]['labels'] for i in range(len(valid_dataset))]\n",
        "\n",
        "# Trouver les indices des erreurs de classification\n",
        "mismatched_indices = np.where(preds != true_labels)[0]\n",
        "\n",
        "# Récupérer les exemples mal classifiés\n",
        "misclassified_examples = [valid_dataset[i] for i in mismatched_indices]\n",
        "\n",
        "# Fonction pour décodifier les tokens en texte\n",
        "def decode_tokens(token_ids):\n",
        "    return tokenizer.decode(token_ids, skip_special_tokens=True)\n",
        "\n",
        "# Afficher les exemples mal classifiés avec leurs prédictions et les vrais labels\n",
        "for i in mismatched_indices[:5]:  # Limitez le nombre d'exemples à afficher\n",
        "    text = decode_tokens(valid_dataset[i]['input_ids'])\n",
        "    print(f\"Text: {text}\")\n",
        "    print(f\"Predicted label: {rr_labels[preds[i]]}\")\n",
        "    print(f\"True label: {rr_labels[true_labels[i]]}\")\n",
        "    print(\"\\n\")\n"
      ],
      "metadata": {
        "id": "5rBsMBLU7keE",
        "colab": {
          "base_uri": "https://localhost:8080/",
          "height": 471
        },
        "outputId": "e2eb2d59-5a82-4805-9765-cedc1a87d59f"
      },
      "execution_count": null,
      "outputs": [
        {
          "output_type": "display_data",
          "data": {
            "text/plain": [
              "<IPython.core.display.HTML object>"
            ],
            "text/html": []
          },
          "metadata": {}
        },
        {
          "output_type": "stream",
          "name": "stdout",
          "text": [
            "Text: the appellate tribunal has referred to this decision in its impugned order.\n",
            "Predicted label: RLC\n",
            "True label: RATIO\n",
            "\n",
            "\n",
            "Text: similarly, in view of the orders of the assistant commissioner, division c, bangalore, which has remained unchallenged as regards the quantum of refund of unutilized cenvat credit, there cannot be any lis even as regards the quantum.\n",
            "Predicted label: ANALYSIS\n",
            "True label: RATIO\n",
            "\n",
            "\n",
            "Text: % 03. 05. 2017\n",
            "Predicted label: PREAMBLE\n",
            "True label: NONE\n",
            "\n",
            "\n",
            "Text: questions of law 2.\n",
            "Predicted label: NONE\n",
            "True label: ISSUE\n",
            "\n",
            "\n",
            "Text: its activities are administered by the board of directors ( bod ) comprising of seven officers of the directorate of education in an ex - officio capacity and two members nominated by the lieutenant governor of delhi.\n",
            "Predicted label: ANALYSIS\n",
            "True label: FAC\n",
            "\n",
            "\n"
          ]
        }
      ]
    },
    {
      "cell_type": "markdown",
      "source": [
        "### Extraction erreur LegalBert et DistilBert"
      ],
      "metadata": {
        "id": "56ymHGNMxvK5"
      }
    },
    {
      "cell_type": "code",
      "source": [
        "# Charger le modèle LegalBert sauvegardé\n",
        "LegalBert_best_model = load_model( os.path.join(ROOT, 'Model/LegalBert'), device)\n",
        "# Charger le tokenizer LegalBert sauvegardé\n",
        "LegalBert_best_tokenizer = load_tokenizer( os.path.join(ROOT, 'Model/LegalBert_Tokenizer'))\n",
        "\n",
        "# Charger le modèle DistilBert sauvegardé\n",
        "DistilBert_best_model = load_model( os.path.join(ROOT, 'Model/DistilBert'), device)\n",
        "# Charger le tokenizer DistilBertsauvegardé\n",
        "DistilBert_best_tokenizer = load_tokenizer( os.path.join(ROOT, 'Model/DistilBert_Tokenizer'))\n"
      ],
      "metadata": {
        "id": "13k7lE0oxt5o"
      },
      "execution_count": 12,
      "outputs": []
    },
    {
      "cell_type": "code",
      "source": [
        "# Utiliser la classe BUILDDataset pour préparer les données de validation.\n",
        "valid_dataset_LegalBert = BUILDDataset(valid_df, LegalBert_best_tokenizer, device, include_labels=True)\n"
      ],
      "metadata": {
        "id": "kJKZwcmK1vR1"
      },
      "execution_count": 13,
      "outputs": []
    },
    {
      "cell_type": "code",
      "source": [
        "# Utiliser la classe BUILDDataset pour préparer les données de validation.\n",
        "valid_dataset_distilbert = BUILDDataset(valid_df, DistilBert_best_tokenizer, device, include_labels=True)\n"
      ],
      "metadata": {
        "id": "EDevOGJ63E2-"
      },
      "execution_count": 14,
      "outputs": []
    },
    {
      "cell_type": "code",
      "source": [
        "# Créer une instance de DataCollatorWithPadding\n",
        "data_collator = DataCollatorWithPadding(tokenizer=LegalBert_best_tokenizer, return_tensors=\"pt\")"
      ],
      "metadata": {
        "id": "KfDojIad3D1h"
      },
      "execution_count": 15,
      "outputs": []
    },
    {
      "cell_type": "code",
      "source": [
        "# Créer une instance de Trainer pour le modèle LegalBert\n",
        "legalbert_trainer = Trainer(model=LegalBert_best_model,data_collator=data_collator)\n",
        "\n",
        "# Faire des prédictions sur le dataset de validation\n",
        "legalbert_predictions = legalbert_trainer.predict(valid_dataset_LegalBert)\n",
        "legalbert_preds = np.argmax(legalbert_predictions.predictions, axis=1)\n",
        "\n",
        "# Identifier où les prédictions diffèrent des vraies étiquettes\n",
        "legalbert_mismatches = np.where(legalbert_preds != valid_dataset_LegalBert.labels)[0]\n"
      ],
      "metadata": {
        "colab": {
          "base_uri": "https://localhost:8080/",
          "height": 34
        },
        "id": "zJKlkOwG0_19",
        "outputId": "8f0e3379-c4f0-419f-9791-056f2c1eb1a1"
      },
      "execution_count": 16,
      "outputs": [
        {
          "output_type": "stream",
          "name": "stderr",
          "text": [
            "You're using a BertTokenizerFast tokenizer. Please note that with a fast tokenizer, using the `__call__` method is faster than using a method to encode the text followed by a call to the `pad` method to get a padded encoding.\n"
          ]
        },
        {
          "output_type": "display_data",
          "data": {
            "text/plain": [
              "<IPython.core.display.HTML object>"
            ],
            "text/html": []
          },
          "metadata": {}
        }
      ]
    },
    {
      "cell_type": "code",
      "source": [
        "# Créer une instance de Trainer pour le modèle DistilBERT\n",
        "distilbert_trainer = Trainer(model=DistilBert_best_model,data_collator=data_collator)\n",
        "\n",
        "# Faire des prédictions sur le dataset de validation préparé pour DistilBERT\n",
        "distilbert_predictions = distilbert_trainer.predict(valid_dataset_distilbert )\n",
        "distilbert_preds = np.argmax(distilbert_predictions.predictions, axis=1)\n",
        "\n",
        "# Identifier où les prédictions diffèrent des vraies étiquettes\n",
        "distilbert_mismatches = np.where(distilbert_preds != valid_dataset_distilbert .labels)[0]\n"
      ],
      "metadata": {
        "colab": {
          "base_uri": "https://localhost:8080/",
          "height": 17
        },
        "id": "4g6KdIqCxlxR",
        "outputId": "cd0bce48-d1a3-4c1d-af84-8800a246eb3e"
      },
      "execution_count": 17,
      "outputs": [
        {
          "output_type": "display_data",
          "data": {
            "text/plain": [
              "<IPython.core.display.HTML object>"
            ],
            "text/html": []
          },
          "metadata": {}
        }
      ]
    },
    {
      "cell_type": "code",
      "source": [
        "# Trouvez les erreurs communes entre les deux modèles\n",
        "common_mismatches = np.intersect1d(legalbert_mismatches, distilbert_mismatches)\n",
        "\n",
        "# Affichez quelques exemples d'erreurs communes\n",
        "for idx in common_mismatches[:10]:  # Affichez les 10 premiers exemples\n",
        "    text = valid_df.iloc[idx]['text']  # Utilisez le DataFrame de validation original pour obtenir le texte\n",
        "    real_label = rr_labels[valid_df.iloc[idx]['labels_class']]\n",
        "    print(f\"Phrase: {text}\")\n",
        "    print(f\"Label réel: {real_label}\")\n",
        "    print(f\"Prédiction LegalBERT: {rr_labels[legalbert_preds[idx]]}\")\n",
        "    print(f\"Prédiction DistilBERT: {rr_labels[distilbert_preds[idx]]}\\n\")\n"
      ],
      "metadata": {
        "colab": {
          "base_uri": "https://localhost:8080/"
        },
        "id": "rHL324H8yteL",
        "outputId": "d9af4839-fd4c-472f-f4af-2d62bbb8a76a"
      },
      "execution_count": 18,
      "outputs": [
        {
          "output_type": "stream",
          "name": "stdout",
          "text": [
            "Phrase: The Appellate Tribunal has referred to this decision in its impugned order.\n",
            "Label réel: RATIO\n",
            "Prédiction LegalBERT: RLC\n",
            "Prédiction DistilBERT: FAC\n",
            "\n",
            "Phrase: \n",
            " Similarly, in view of the orders of the Assistant Commissioner, Division  C, Bangalore, which has remained unchallenged as regards the quantum of refund of unutilized CENVAT credit, there cannot be any lis even as regards the quantum.\n",
            "Label réel: RATIO\n",
            "Prédiction LegalBERT: ANALYSIS\n",
            "Prédiction DistilBERT: ANALYSIS\n",
            "\n",
            "Phrase: \n",
            " Questions of law 2.\n",
            "Label réel: ISSUE\n",
            "Prédiction LegalBERT: NONE\n",
            "Prédiction DistilBERT: NONE\n",
            "\n",
            "Phrase: The books are provided at subsidized rates by the Assessee.\n",
            "Label réel: FAC\n",
            "Prédiction LegalBERT: ANALYSIS\n",
            "Prédiction DistilBERT: ARG_RESPONDENT\n",
            "\n",
            "Phrase: There is nominal profit to school students and wholesale dealers.\n",
            "Label réel: FAC\n",
            "Prédiction LegalBERT: ANALYSIS\n",
            "Prédiction DistilBERT: ANALYSIS\n",
            "\n",
            "Phrase: Past tax history 8.\n",
            "Label réel: FAC\n",
            "Prédiction LegalBERT: ANALYSIS\n",
            "Prédiction DistilBERT: ANALYSIS\n",
            "\n",
            "Phrase: Those orders of the ITAT for AYs 1975-76 and 1976-77 attained finality.\n",
            "Label réel: FAC\n",
            "Prédiction LegalBERT: ANALYSIS\n",
            "Prédiction DistilBERT: ANALYSIS\n",
            "\n",
            "Phrase: \n",
            " Order of the AO for the AYs in question 9.\n",
            "Label réel: FAC\n",
            "Prédiction LegalBERT: NONE\n",
            "Prédiction DistilBERT: NONE\n",
            "\n",
            "Phrase: Secondly, the Assessee was asked whether it was maintaining books of accounts as mandated by Section 11 (4A) of the Act.\n",
            "Label réel: FAC\n",
            "Prédiction LegalBERT: ANALYSIS\n",
            "Prédiction DistilBERT: ANALYSIS\n",
            "\n",
            "Phrase: Referring to the decision of the Supreme Court in Sole Trustee Loka Shikshana Trust v. Commissioner of Income Tax (1975) 101 ITR 234 (SC), the AO observed that since the Assessee was earning huge profit margins of about 35.15%, the activity of publication and sale of books could not be said to be a „charitable activity‟.\n",
            "Label réel: FAC\n",
            "Prédiction LegalBERT: PRE_RELIED\n",
            "Prédiction DistilBERT: ANALYSIS\n",
            "\n"
          ]
        }
      ]
    },
    {
      "cell_type": "code",
      "source": [
        "# Créer une liste pour stocker les erreurs\n",
        "errors_data = []\n",
        "\n",
        "# Collecter les données d'erreur\n",
        "for idx in common_mismatches:\n",
        "    text = valid_df.iloc[idx]['text']  # Le texte de l'exemple\n",
        "    real_label = rr_labels[valid_df.iloc[idx]['labels_class']]  # L'étiquette réelle\n",
        "    legalbert_pred = rr_labels[legalbert_preds[idx]]  # La prédiction de LegalBERT\n",
        "    distilbert_pred = rr_labels[distilbert_preds[idx]]  # La prédiction de DistilBERT\n",
        "\n",
        "    # Ajouter au tableau d'erreurs\n",
        "    errors_data.append({\n",
        "        'text': text,\n",
        "        'Label réel': real_label,\n",
        "        'Prédiction LegalBERT': legalbert_pred,\n",
        "        'Prédiction DistilBERT': distilbert_pred\n",
        "    })\n",
        "\n",
        "# Convertir la liste en DataFrame\n",
        "errors_df = pd.DataFrame(errors_data)\n",
        "\n",
        "# Enregistrer le DataFrame dans un fichier CSV\n",
        "errors_csv_path = os.path.join(ROOT, 'errors_comparison.csv')\n",
        "errors_df.to_csv(errors_csv_path, index=False)\n"
      ],
      "metadata": {
        "id": "pk06UNoBYMku"
      },
      "execution_count": 21,
      "outputs": []
    },
    {
      "cell_type": "markdown",
      "source": [
        "## Analyse d'erreur"
      ],
      "metadata": {
        "id": "0J_uhbwnZ914"
      }
    },
    {
      "cell_type": "code",
      "source": [
        "# lire le fichier sauvegardé\n",
        "errors_df_path = os.path.join(ROOT, 'errors_comparison.csv')\n",
        "errors_df = pd.read_csv(errors_df_path)"
      ],
      "metadata": {
        "id": "aalIlo-0a7nE"
      },
      "execution_count": 13,
      "outputs": []
    },
    {
      "cell_type": "code",
      "source": [
        "# Calculer les erreurs communes\n",
        "errors_df['Même Erreur'] = errors_df['Prédiction LegalBERT'] == errors_df['Prédiction DistilBERT']\n",
        "common_errors_count = errors_df['Même Erreur'].sum()\n",
        "total_errors = len(errors_df)\n",
        "print(f\"Nombre d'erreurs communes: {common_errors_count}\")\n",
        "print(f\"Nombre total d'erreurs: {total_errors}\")\n",
        "print(f\"Proportion d'erreurs communes: {common_errors_count / total_errors:.2f}\")"
      ],
      "metadata": {
        "colab": {
          "base_uri": "https://localhost:8080/"
        },
        "id": "J3ieKqO2aH0b",
        "outputId": "7505956e-8d67-44ab-abb6-fa7928691521"
      },
      "execution_count": 14,
      "outputs": [
        {
          "output_type": "stream",
          "name": "stdout",
          "text": [
            "Nombre d'erreurs communes: 607\n",
            "Nombre total d'erreurs: 782\n",
            "Proportion d'erreurs communes: 0.78\n"
          ]
        }
      ]
    },
    {
      "cell_type": "code",
      "source": [
        "# Exemple d'analyse des termes juridiques spécifiques\n",
        "from collections import Counter\n",
        "import nltk\n",
        "\n",
        "nltk.download('punkt')\n",
        "nltk.download('stopwords')\n",
        "from nltk.tokenize import word_tokenize\n",
        "from nltk.corpus import stopwords\n",
        "\n",
        "# Tokenisation et comptage des mots\n",
        "words = word_tokenize(' '.join(errors_df['text'].values))\n",
        "words = [word for word in words if word.isalpha() and word not in stopwords.words('english')]\n",
        "word_freq = Counter(words)\n",
        "\n",
        "# Afficher les mots les plus communs dans les erreurs\n",
        "print(\"Mots communs dans les erreurs de classification :\")\n",
        "print(word_freq.most_common(15))\n"
      ],
      "metadata": {
        "colab": {
          "base_uri": "https://localhost:8080/"
        },
        "id": "9Asp_SgwaS3P",
        "outputId": "64d2efab-0f8d-405c-af2e-68b74675bac3"
      },
      "execution_count": 15,
      "outputs": [
        {
          "output_type": "stream",
          "name": "stderr",
          "text": [
            "[nltk_data] Downloading package punkt to /root/nltk_data...\n",
            "[nltk_data]   Unzipping tokenizers/punkt.zip.\n",
            "[nltk_data] Downloading package stopwords to /root/nltk_data...\n",
            "[nltk_data]   Unzipping corpora/stopwords.zip.\n"
          ]
        },
        {
          "output_type": "stream",
          "name": "stdout",
          "text": [
            "Mots communs dans les erreurs de classification :\n",
            "[('The', 162), ('Court', 114), ('accused', 82), ('It', 64), ('power', 61), ('also', 59), ('case', 58), ('Section', 57), ('evidence', 56), ('Act', 54), ('tax', 48), ('said', 48), ('List', 37), ('deceased', 36), ('stated', 36)]\n"
          ]
        }
      ]
    },
    {
      "cell_type": "code",
      "source": [
        "# Calculer le nombre de mots par texte dans errors_df\n",
        "errors_df['mots_par_texte'] = errors_df['text'].apply(lambda x: len(x.split()))\n",
        "\n",
        "# Afficher les premières lignes pour vérifier\n",
        "print(errors_df[['text', 'mots_par_texte']].head())\n"
      ],
      "metadata": {
        "colab": {
          "base_uri": "https://localhost:8080/"
        },
        "id": "W6AGQF1Wo3Qg",
        "outputId": "5832ee92-232f-4e4a-a8af-c60b51d8e142"
      },
      "execution_count": 16,
      "outputs": [
        {
          "output_type": "stream",
          "name": "stdout",
          "text": [
            "                                                text  mots_par_texte\n",
            "0  The Appellate Tribunal has referred to this de...              12\n",
            "1  \\n Similarly, in view of the orders of the Ass...              37\n",
            "2                             \\n Questions of law 2.               4\n",
            "3  The books are provided at subsidized rates by ...              10\n",
            "4  There is nominal profit to school students and...              10\n"
          ]
        }
      ]
    },
    {
      "cell_type": "code",
      "source": [
        "# Créer un boxplot pour la distribution des longueurs de texte\n",
        "errors_df.boxplot(column='mots_par_texte', by='Label réel', figsize=(20, 6), showfliers=False)\n",
        "plt.title('Distribution du nombre de mots par texte dans les erreurs de classification')\n",
        "plt.ylabel('Nombre de mots')\n",
        "plt.show()\n"
      ],
      "metadata": {
        "colab": {
          "base_uri": "https://localhost:8080/",
          "height": 578
        },
        "id": "nt2kKM9wo8re",
        "outputId": "9bf4efc0-5755-4587-da88-9c3272b8f766"
      },
      "execution_count": 17,
      "outputs": [
        {
          "output_type": "display_data",
          "data": {
            "text/plain": [
              "<Figure size 2000x600 with 1 Axes>"
            ],
            "image/png": "[encoded data removed]"
          },
          "metadata": {}
        }
      ]
    },
    {
      "cell_type": "code",
      "source": [
        "# Fonction pour compter les erreurs\n",
        "def count_errors(predictions, actual):\n",
        "    return (predictions != actual).sum()\n",
        "\n",
        "# Appliquer la fonction pour chaque classe et chaque modèle\n",
        "error_counts = errors_df.groupby('Label réel').apply(lambda df: pd.Series({\n",
        "    'Erreurs_LegalBERT': count_errors(df['Prédiction LegalBERT'], df['Label réel']),\n",
        "    'Erreurs_DistilBERT': count_errors(df['Prédiction DistilBERT'], df['Label réel'])\n",
        "})).reset_index()\n",
        "\n",
        "# Afficher le résultat\n",
        "print(error_counts)\n"
      ],
      "metadata": {
        "colab": {
          "base_uri": "https://localhost:8080/"
        },
        "id": "Q4mqmVa1pRWh",
        "outputId": "ae3088b1-835c-4eb5-ac53-0860ae69e239"
      },
      "execution_count": 19,
      "outputs": [
        {
          "output_type": "stream",
          "name": "stdout",
          "text": [
            "        Label réel  Erreurs_LegalBERT  Erreurs_DistilBERT\n",
            "0         ANALYSIS                173                 173\n",
            "1   ARG_PETITIONER                112                 112\n",
            "2   ARG_RESPONDENT                 43                  43\n",
            "3              FAC                172                 172\n",
            "4            ISSUE                  3                   3\n",
            "5             NONE                 24                  24\n",
            "6         PREAMBLE                 43                  43\n",
            "7   PRE_NOT_RELIED                  1                   1\n",
            "8       PRE_RELIED                135                 135\n",
            "9            RATIO                 37                  37\n",
            "10             RLC                 13                  13\n",
            "11             RPC                 17                  17\n",
            "12             STA                  9                   9\n"
          ]
        }
      ]
    },
    {
      "cell_type": "code",
      "source": [
        "# Créer une matrice de confusion combinée\n",
        "confusion_matrix_combined = pd.DataFrame({\n",
        "    'Label Réel': errors_df['Label réel'],\n",
        "    'LegalBERT': errors_df['Prédiction LegalBERT'],\n",
        "    'DistilBERT': errors_df['Prédiction DistilBERT']\n",
        "})\n",
        "\n",
        "# Calculer la matrice de confusion pour chaque modèle\n",
        "confusion_legalbert = pd.crosstab(confusion_matrix_combined['Label Réel'], confusion_matrix_combined['LegalBERT'])\n",
        "confusion_distilbert = pd.crosstab(confusion_matrix_combined['Label Réel'], confusion_matrix_combined['DistilBERT'])\n",
        "\n",
        "# Combiner les matrices côte à côte\n",
        "combined_matrix = pd.concat([confusion_legalbert, confusion_distilbert], axis=1, keys=['LegalBERT', 'DistilBERT'])\n",
        "\n",
        "# Afficher la heatmap\n",
        "plt.figure(figsize=(20, 10))\n",
        "sns.heatmap(combined_matrix, annot=True, fmt='d', cmap='Blues')\n",
        "plt.title('Comparaison des erreurs de classification par modèle')\n",
        "plt.ylabel('Label Réel')\n",
        "plt.xlabel('Prédictions')\n",
        "plt.show()\n"
      ],
      "metadata": {
        "colab": {
          "base_uri": "https://localhost:8080/",
          "height": 1000
        },
        "id": "OBoEF__0tV0s",
        "outputId": "2d524930-c87c-4513-9a7a-28776b53f7d0"
      },
      "execution_count": 22,
      "outputs": [
        {
          "output_type": "display_data",
          "data": {
            "text/plain": [
              "<Figure size 2000x1000 with 2 Axes>"
            ],
            "image/png": "[encoded data removed]"
          },
          "metadata": {}
        }
      ]
    },
    {
      "cell_type": "markdown",
      "source": [
        "# Amélioration de la méthode transformer\n",
        "\n",
        "Utilisation de données externes (self-learning)\n",
        "1. Récolter des documents similaires non annotés --> utilisation d'un dataset tiré de indianKanoon dispo sur Kaggle (mise en forme avec la baseline proposée par legalEval)\n",
        "2. Appliquer la prédiction d’un modèle --> utilsation du transformer pour la prediction\n",
        "3. Choisir les prédictions les plus sûres\n",
        "4. Ajouter les documents et leur annotation au corpus d’entraînement\n",
        "5. Affiner le modèle"
      ],
      "metadata": {
        "id": "kQxhtrI1pcpS"
      }
    },
    {
      "cell_type": "markdown",
      "source": [
        "#### Charger le modèle et le tokenizer sauvegardés :"
      ],
      "metadata": {
        "id": "FmTdB_0k3Wwo"
      }
    },
    {
      "cell_type": "code",
      "source": [
        "# Charger le modèle sauvegardé\n",
        "best_model = load_model( os.path.join(ROOT, 'Model/Model'), device)\n",
        "# Charger le tokenizer sauvegardé\n",
        "best_tokenizer = load_tokenizer( os.path.join(ROOT, 'Model/Tokenizer'))\n"
      ],
      "metadata": {
        "id": "twVtS2yi3VAB"
      },
      "execution_count": null,
      "outputs": []
    },
    {
      "cell_type": "markdown",
      "source": [
        "#### Préparer le dataset pour la prédiction :"
      ],
      "metadata": {
        "id": "gkd0brEK3Zu_"
      }
    },
    {
      "cell_type": "code",
      "source": [
        "# Charger les données JSON\n",
        "with open(os.path.join(ROOT, 'BUILD/case_processed_5000.json'), 'r') as file:\n",
        "    new_data_json = json.load(file)\n",
        "\n",
        "# Convertir en DataFrame\n",
        "new_data_df = pd.DataFrame(new_data_json)\n",
        "#new_data_df.rename(columns={'text': 'data'}, inplace=True)\n",
        "\n",
        "# Créer un dataset pour la prédiction\n",
        "predict_dataset = BUILDDataset(new_data_df, best_tokenizer, device, include_labels=False)"
      ],
      "metadata": {
        "id": "69vDbp_Hpilp"
      },
      "execution_count": null,
      "outputs": []
    },
    {
      "cell_type": "code",
      "source": [
        "#new_data_df.head(2)"
      ],
      "metadata": {
        "id": "8oEz5CXa5f0u"
      },
      "execution_count": null,
      "outputs": []
    },
    {
      "cell_type": "markdown",
      "source": [
        "#### Faire des prédictions :"
      ],
      "metadata": {
        "id": "0ceB9PzD3iPi"
      }
    },
    {
      "cell_type": "code",
      "source": [
        "# Créer une instance de DataCollatorWithPadding\n",
        "data_collator = DataCollatorWithPadding(tokenizer=best_tokenizer, return_tensors=\"pt\")\n",
        "\n",
        "# Préparer l'objet Trainer pour la prédiction avec le DataCollator\n",
        "predictor = Trainer(\n",
        "    model=best_model.to(device),\n",
        "    data_collator=data_collator)"
      ],
      "metadata": {
        "id": "J6dy7la0GCkF"
      },
      "execution_count": null,
      "outputs": []
    },
    {
      "cell_type": "code",
      "source": [
        "# Faire des prédictions\n",
        "new_predictions = predictor.predict(predict_dataset)\n",
        "new_preds = np.argmax(new_predictions.predictions, axis=1)"
      ],
      "metadata": {
        "id": "bufmw2Xc3jhs"
      },
      "execution_count": null,
      "outputs": []
    },
    {
      "cell_type": "markdown",
      "source": [
        "#### Sélectionner les prédictions les plus sûres et les ajouter au corpus d'entraînement :"
      ],
      "metadata": {
        "id": "yQbUuU_J3lxn"
      }
    },
    {
      "cell_type": "code",
      "source": [
        "seuil_confiance = 0.9  # Ajuster ce seuil au besoin\n",
        "high_confidence_indices = np.where(new_predictions.predictions.max(axis=1) > seuil_confiance)[0]\n",
        "high_confidence_data = new_data_df.iloc[high_confidence_indices]\n",
        "high_confidence_labels = [rr_labels[pred] for pred in new_preds[high_confidence_indices]]\n",
        "high_confidence_data['labels'] = high_confidence_labels\n",
        "\n",
        "# Concaténer avec l'ensemble d'entraînement existant\n",
        "extended_train_df = pd.concat([train_df, high_confidence_data])\n",
        "extended_train_df['labels_class'] = extended_train_df['labels'].apply(lambda x: MAP_LABEL.get(x, x))\n",
        "extended_train_dataset = BUILDDataset(extended_train_df, best_tokenizer, device)"
      ],
      "metadata": {
        "id": "Gx6Kwed-33Cf"
      },
      "execution_count": null,
      "outputs": []
    }
  ],
  "metadata": {
    "kernelspec": {
      "display_name": "Python 3",
      "name": "python3"
    },
    "language_info": {
      "codemirror_mode": {
        "name": "ipython",
        "version": 3
      },
      "file_extension": ".py",
      "mimetype": "text/x-python",
      "name": "python",
      "nbconvert_exporter": "python",
      "pygments_lexer": "ipython3",
      "version": "3.11.5"
    },
    "colab": {
      "provenance": [],
      "gpuType": "T4"
    },
    "accelerator": "GPU",
    "widgets": {
      "application/vnd.jupyter.widget-state+json": {
        "7c940a27334f49f8a907106c7a3ffce3": {
          "model_module": "@jupyter-widgets/controls",
          "model_name": "HBoxModel",
          "model_module_version": "1.5.0",
          "state": {
            "_dom_classes": [],
            "_model_module": "@jupyter-widgets/controls",
            "_model_module_version": "1.5.0",
            "_model_name": "HBoxModel",
            "_view_count": null,
            "_view_module": "@jupyter-widgets/controls",
            "_view_module_version": "1.5.0",
            "_view_name": "HBoxView",
            "box_style": "",
            "children": [
              "IPY_MODEL_39ca49c8e82e44c89fd96c92463e5cbc",
              "IPY_MODEL_1481a2346be74a7695a42789ccd308f9",
              "IPY_MODEL_0dbbb0807cd248318d5367881d09feb9"
            ],
            "layout": "IPY_MODEL_87276e77ef7f4159ae4c4898ddf7a389"
          }
        },
        "39ca49c8e82e44c89fd96c92463e5cbc": {
          "model_module": "@jupyter-widgets/controls",
          "model_name": "HTMLModel",
          "model_module_version": "1.5.0",
          "state": {
            "_dom_classes": [],
            "_model_module": "@jupyter-widgets/controls",
            "_model_module_version": "1.5.0",
            "_model_name": "HTMLModel",
            "_view_count": null,
            "_view_module": "@jupyter-widgets/controls",
            "_view_module_version": "1.5.0",
            "_view_name": "HTMLView",
            "description": "",
            "description_tooltip": null,
            "layout": "IPY_MODEL_8a6a906df6234d1596e87a7aaf16f1f7",
            "placeholder": "​",
            "style": "IPY_MODEL_d1ee84ca44344844af156556e5b40b70",
            "value": "tokenizer_config.json: 100%"
          }
        },
        "1481a2346be74a7695a42789ccd308f9": {
          "model_module": "@jupyter-widgets/controls",
          "model_name": "FloatProgressModel",
          "model_module_version": "1.5.0",
          "state": {
            "_dom_classes": [],
            "_model_module": "@jupyter-widgets/controls",
            "_model_module_version": "1.5.0",
            "_model_name": "FloatProgressModel",
            "_view_count": null,
            "_view_module": "@jupyter-widgets/controls",
            "_view_module_version": "1.5.0",
            "_view_name": "ProgressView",
            "bar_style": "success",
            "description": "",
            "description_tooltip": null,
            "layout": "IPY_MODEL_48958030ba6b46f6a4edc49a06f92bce",
            "max": 48,
            "min": 0,
            "orientation": "horizontal",
            "style": "IPY_MODEL_86b9a22e23154fa588725652bb223405",
            "value": 48
          }
        },
        "0dbbb0807cd248318d5367881d09feb9": {
          "model_module": "@jupyter-widgets/controls",
          "model_name": "HTMLModel",
          "model_module_version": "1.5.0",
          "state": {
            "_dom_classes": [],
            "_model_module": "@jupyter-widgets/controls",
            "_model_module_version": "1.5.0",
            "_model_name": "HTMLModel",
            "_view_count": null,
            "_view_module": "@jupyter-widgets/controls",
            "_view_module_version": "1.5.0",
            "_view_name": "HTMLView",
            "description": "",
            "description_tooltip": null,
            "layout": "IPY_MODEL_dd9fd27589c747fc80b27d6090768c67",
            "placeholder": "​",
            "style": "IPY_MODEL_16f9ec85fad946ab8d87205e180a8be4",
            "value": " 48.0/48.0 [00:00&lt;00:00, 796B/s]"
          }
        },
        "87276e77ef7f4159ae4c4898ddf7a389": {
          "model_module": "@jupyter-widgets/base",
          "model_name": "LayoutModel",
          "model_module_version": "1.2.0",
          "state": {
            "_model_module": "@jupyter-widgets/base",
            "_model_module_version": "1.2.0",
            "_model_name": "LayoutModel",
            "_view_count": null,
            "_view_module": "@jupyter-widgets/base",
            "_view_module_version": "1.2.0",
            "_view_name": "LayoutView",
            "align_content": null,
            "align_items": null,
            "align_self": null,
            "border": null,
            "bottom": null,
            "display": null,
            "flex": null,
            "flex_flow": null,
            "grid_area": null,
            "grid_auto_columns": null,
            "grid_auto_flow": null,
            "grid_auto_rows": null,
            "grid_column": null,
            "grid_gap": null,
            "grid_row": null,
            "grid_template_areas": null,
            "grid_template_columns": null,
            "grid_template_rows": null,
            "height": null,
            "justify_content": null,
            "justify_items": null,
            "left": null,
            "margin": null,
            "max_height": null,
            "max_width": null,
            "min_height": null,
            "min_width": null,
            "object_fit": null,
            "object_position": null,
            "order": null,
            "overflow": null,
            "overflow_x": null,
            "overflow_y": null,
            "padding": null,
            "right": null,
            "top": null,
            "visibility": null,
            "width": null
          }
        },
        "8a6a906df6234d1596e87a7aaf16f1f7": {
          "model_module": "@jupyter-widgets/base",
          "model_name": "LayoutModel",
          "model_module_version": "1.2.0",
          "state": {
            "_model_module": "@jupyter-widgets/base",
            "_model_module_version": "1.2.0",
            "_model_name": "LayoutModel",
            "_view_count": null,
            "_view_module": "@jupyter-widgets/base",
            "_view_module_version": "1.2.0",
            "_view_name": "LayoutView",
            "align_content": null,
            "align_items": null,
            "align_self": null,
            "border": null,
            "bottom": null,
            "display": null,
            "flex": null,
            "flex_flow": null,
            "grid_area": null,
            "grid_auto_columns": null,
            "grid_auto_flow": null,
            "grid_auto_rows": null,
            "grid_column": null,
            "grid_gap": null,
            "grid_row": null,
            "grid_template_areas": null,
            "grid_template_columns": null,
            "grid_template_rows": null,
            "height": null,
            "justify_content": null,
            "justify_items": null,
            "left": null,
            "margin": null,
            "max_height": null,
            "max_width": null,
            "min_height": null,
            "min_width": null,
            "object_fit": null,
            "object_position": null,
            "order": null,
            "overflow": null,
            "overflow_x": null,
            "overflow_y": null,
            "padding": null,
            "right": null,
            "top": null,
            "visibility": null,
            "width": null
          }
        },
        "d1ee84ca44344844af156556e5b40b70": {
          "model_module": "@jupyter-widgets/controls",
          "model_name": "DescriptionStyleModel",
          "model_module_version": "1.5.0",
          "state": {
            "_model_module": "@jupyter-widgets/controls",
            "_model_module_version": "1.5.0",
            "_model_name": "DescriptionStyleModel",
            "_view_count": null,
            "_view_module": "@jupyter-widgets/base",
            "_view_module_version": "1.2.0",
            "_view_name": "StyleView",
            "description_width": ""
          }
        },
        "48958030ba6b46f6a4edc49a06f92bce": {
          "model_module": "@jupyter-widgets/base",
          "model_name": "LayoutModel",
          "model_module_version": "1.2.0",
          "state": {
            "_model_module": "@jupyter-widgets/base",
            "_model_module_version": "1.2.0",
            "_model_name": "LayoutModel",
            "_view_count": null,
            "_view_module": "@jupyter-widgets/base",
            "_view_module_version": "1.2.0",
            "_view_name": "LayoutView",
            "align_content": null,
            "align_items": null,
            "align_self": null,
            "border": null,
            "bottom": null,
            "display": null,
            "flex": null,
            "flex_flow": null,
            "grid_area": null,
            "grid_auto_columns": null,
            "grid_auto_flow": null,
            "grid_auto_rows": null,
            "grid_column": null,
            "grid_gap": null,
            "grid_row": null,
            "grid_template_areas": null,
            "grid_template_columns": null,
            "grid_template_rows": null,
            "height": null,
            "justify_content": null,
            "justify_items": null,
            "left": null,
            "margin": null,
            "max_height": null,
            "max_width": null,
            "min_height": null,
            "min_width": null,
            "object_fit": null,
            "object_position": null,
            "order": null,
            "overflow": null,
            "overflow_x": null,
            "overflow_y": null,
            "padding": null,
            "right": null,
            "top": null,
            "visibility": null,
            "width": null
          }
        },
        "86b9a22e23154fa588725652bb223405": {
          "model_module": "@jupyter-widgets/controls",
          "model_name": "ProgressStyleModel",
          "model_module_version": "1.5.0",
          "state": {
            "_model_module": "@jupyter-widgets/controls",
            "_model_module_version": "1.5.0",
            "_model_name": "ProgressStyleModel",
            "_view_count": null,
            "_view_module": "@jupyter-widgets/base",
            "_view_module_version": "1.2.0",
            "_view_name": "StyleView",
            "bar_color": null,
            "description_width": ""
          }
        },
        "dd9fd27589c747fc80b27d6090768c67": {
          "model_module": "@jupyter-widgets/base",
          "model_name": "LayoutModel",
          "model_module_version": "1.2.0",
          "state": {
            "_model_module": "@jupyter-widgets/base",
            "_model_module_version": "1.2.0",
            "_model_name": "LayoutModel",
            "_view_count": null,
            "_view_module": "@jupyter-widgets/base",
            "_view_module_version": "1.2.0",
            "_view_name": "LayoutView",
            "align_content": null,
            "align_items": null,
            "align_self": null,
            "border": null,
            "bottom": null,
            "display": null,
            "flex": null,
            "flex_flow": null,
            "grid_area": null,
            "grid_auto_columns": null,
            "grid_auto_flow": null,
            "grid_auto_rows": null,
            "grid_column": null,
            "grid_gap": null,
            "grid_row": null,
            "grid_template_areas": null,
            "grid_template_columns": null,
            "grid_template_rows": null,
            "height": null,
            "justify_content": null,
            "justify_items": null,
            "left": null,
            "margin": null,
            "max_height": null,
            "max_width": null,
            "min_height": null,
            "min_width": null,
            "object_fit": null,
            "object_position": null,
            "order": null,
            "overflow": null,
            "overflow_x": null,
            "overflow_y": null,
            "padding": null,
            "right": null,
            "top": null,
            "visibility": null,
            "width": null
          }
        },
        "16f9ec85fad946ab8d87205e180a8be4": {
          "model_module": "@jupyter-widgets/controls",
          "model_name": "DescriptionStyleModel",
          "model_module_version": "1.5.0",
          "state": {
            "_model_module": "@jupyter-widgets/controls",
            "_model_module_version": "1.5.0",
            "_model_name": "DescriptionStyleModel",
            "_view_count": null,
            "_view_module": "@jupyter-widgets/base",
            "_view_module_version": "1.2.0",
            "_view_name": "StyleView",
            "description_width": ""
          }
        },
        "65d93f0af6bf4028b1cef11cebd61027": {
          "model_module": "@jupyter-widgets/controls",
          "model_name": "HBoxModel",
          "model_module_version": "1.5.0",
          "state": {
            "_dom_classes": [],
            "_model_module": "@jupyter-widgets/controls",
            "_model_module_version": "1.5.0",
            "_model_name": "HBoxModel",
            "_view_count": null,
            "_view_module": "@jupyter-widgets/controls",
            "_view_module_version": "1.5.0",
            "_view_name": "HBoxView",
            "box_style": "",
            "children": [
              "IPY_MODEL_e62de29be0ac42ba9b43954ebf6bc387",
              "IPY_MODEL_0d9e7adb383049539bdf3236aaef10b0",
              "IPY_MODEL_2ae7ce02f40147b99bef18cb33cf3527"
            ],
            "layout": "IPY_MODEL_88f4346b632c488cb52c95bd37b6fa5b"
          }
        },
        "e62de29be0ac42ba9b43954ebf6bc387": {
          "model_module": "@jupyter-widgets/controls",
          "model_name": "HTMLModel",
          "model_module_version": "1.5.0",
          "state": {
            "_dom_classes": [],
            "_model_module": "@jupyter-widgets/controls",
            "_model_module_version": "1.5.0",
            "_model_name": "HTMLModel",
            "_view_count": null,
            "_view_module": "@jupyter-widgets/controls",
            "_view_module_version": "1.5.0",
            "_view_name": "HTMLView",
            "description": "",
            "description_tooltip": null,
            "layout": "IPY_MODEL_3dd4eca3dafd4eafb741154c7d60356d",
            "placeholder": "​",
            "style": "IPY_MODEL_82c6ffd1f22244aca9be8c5802a46a33",
            "value": "config.json: 100%"
          }
        },
        "0d9e7adb383049539bdf3236aaef10b0": {
          "model_module": "@jupyter-widgets/controls",
          "model_name": "FloatProgressModel",
          "model_module_version": "1.5.0",
          "state": {
            "_dom_classes": [],
            "_model_module": "@jupyter-widgets/controls",
            "_model_module_version": "1.5.0",
            "_model_name": "FloatProgressModel",
            "_view_count": null,
            "_view_module": "@jupyter-widgets/controls",
            "_view_module_version": "1.5.0",
            "_view_name": "ProgressView",
            "bar_style": "success",
            "description": "",
            "description_tooltip": null,
            "layout": "IPY_MODEL_72843a8f6fba4e1a863b80c09fdce634",
            "max": 989,
            "min": 0,
            "orientation": "horizontal",
            "style": "IPY_MODEL_56b684e7a73e4a11892d7f9dccc2d6bb",
            "value": 989
          }
        },
        "2ae7ce02f40147b99bef18cb33cf3527": {
          "model_module": "@jupyter-widgets/controls",
          "model_name": "HTMLModel",
          "model_module_version": "1.5.0",
          "state": {
            "_dom_classes": [],
            "_model_module": "@jupyter-widgets/controls",
            "_model_module_version": "1.5.0",
            "_model_name": "HTMLModel",
            "_view_count": null,
            "_view_module": "@jupyter-widgets/controls",
            "_view_module_version": "1.5.0",
            "_view_name": "HTMLView",
            "description": "",
            "description_tooltip": null,
            "layout": "IPY_MODEL_9b10f90227644f1fb807a270d571f03a",
            "placeholder": "​",
            "style": "IPY_MODEL_c72282d7b8fe4457b1a46382014eef65",
            "value": " 989/989 [00:00&lt;00:00, 13.5kB/s]"
          }
        },
        "88f4346b632c488cb52c95bd37b6fa5b": {
          "model_module": "@jupyter-widgets/base",
          "model_name": "LayoutModel",
          "model_module_version": "1.2.0",
          "state": {
            "_model_module": "@jupyter-widgets/base",
            "_model_module_version": "1.2.0",
            "_model_name": "LayoutModel",
            "_view_count": null,
            "_view_module": "@jupyter-widgets/base",
            "_view_module_version": "1.2.0",
            "_view_name": "LayoutView",
            "align_content": null,
            "align_items": null,
            "align_self": null,
            "border": null,
            "bottom": null,
            "display": null,
            "flex": null,
            "flex_flow": null,
            "grid_area": null,
            "grid_auto_columns": null,
            "grid_auto_flow": null,
            "grid_auto_rows": null,
            "grid_column": null,
            "grid_gap": null,
            "grid_row": null,
            "grid_template_areas": null,
            "grid_template_columns": null,
            "grid_template_rows": null,
            "height": null,
            "justify_content": null,
            "justify_items": null,
            "left": null,
            "margin": null,
            "max_height": null,
            "max_width": null,
            "min_height": null,
            "min_width": null,
            "object_fit": null,
            "object_position": null,
            "order": null,
            "overflow": null,
            "overflow_x": null,
            "overflow_y": null,
            "padding": null,
            "right": null,
            "top": null,
            "visibility": null,
            "width": null
          }
        },
        "3dd4eca3dafd4eafb741154c7d60356d": {
          "model_module": "@jupyter-widgets/base",
          "model_name": "LayoutModel",
          "model_module_version": "1.2.0",
          "state": {
            "_model_module": "@jupyter-widgets/base",
            "_model_module_version": "1.2.0",
            "_model_name": "LayoutModel",
            "_view_count": null,
            "_view_module": "@jupyter-widgets/base",
            "_view_module_version": "1.2.0",
            "_view_name": "LayoutView",
            "align_content": null,
            "align_items": null,
            "align_self": null,
            "border": null,
            "bottom": null,
            "display": null,
            "flex": null,
            "flex_flow": null,
            "grid_area": null,
            "grid_auto_columns": null,
            "grid_auto_flow": null,
            "grid_auto_rows": null,
            "grid_column": null,
            "grid_gap": null,
            "grid_row": null,
            "grid_template_areas": null,
            "grid_template_columns": null,
            "grid_template_rows": null,
            "height": null,
            "justify_content": null,
            "justify_items": null,
            "left": null,
            "margin": null,
            "max_height": null,
            "max_width": null,
            "min_height": null,
            "min_width": null,
            "object_fit": null,
            "object_position": null,
            "order": null,
            "overflow": null,
            "overflow_x": null,
            "overflow_y": null,
            "padding": null,
            "right": null,
            "top": null,
            "visibility": null,
            "width": null
          }
        },
        "82c6ffd1f22244aca9be8c5802a46a33": {
          "model_module": "@jupyter-widgets/controls",
          "model_name": "DescriptionStyleModel",
          "model_module_version": "1.5.0",
          "state": {
            "_model_module": "@jupyter-widgets/controls",
            "_model_module_version": "1.5.0",
            "_model_name": "DescriptionStyleModel",
            "_view_count": null,
            "_view_module": "@jupyter-widgets/base",
            "_view_module_version": "1.2.0",
            "_view_name": "StyleView",
            "description_width": ""
          }
        },
        "72843a8f6fba4e1a863b80c09fdce634": {
          "model_module": "@jupyter-widgets/base",
          "model_name": "LayoutModel",
          "model_module_version": "1.2.0",
          "state": {
            "_model_module": "@jupyter-widgets/base",
            "_model_module_version": "1.2.0",
            "_model_name": "LayoutModel",
            "_view_count": null,
            "_view_module": "@jupyter-widgets/base",
            "_view_module_version": "1.2.0",
            "_view_name": "LayoutView",
            "align_content": null,
            "align_items": null,
            "align_self": null,
            "border": null,
            "bottom": null,
            "display": null,
            "flex": null,
            "flex_flow": null,
            "grid_area": null,
            "grid_auto_columns": null,
            "grid_auto_flow": null,
            "grid_auto_rows": null,
            "grid_column": null,
            "grid_gap": null,
            "grid_row": null,
            "grid_template_areas": null,
            "grid_template_columns": null,
            "grid_template_rows": null,
            "height": null,
            "justify_content": null,
            "justify_items": null,
            "left": null,
            "margin": null,
            "max_height": null,
            "max_width": null,
            "min_height": null,
            "min_width": null,
            "object_fit": null,
            "object_position": null,
            "order": null,
            "overflow": null,
            "overflow_x": null,
            "overflow_y": null,
            "padding": null,
            "right": null,
            "top": null,
            "visibility": null,
            "width": null
          }
        },
        "56b684e7a73e4a11892d7f9dccc2d6bb": {
          "model_module": "@jupyter-widgets/controls",
          "model_name": "ProgressStyleModel",
          "model_module_version": "1.5.0",
          "state": {
            "_model_module": "@jupyter-widgets/controls",
            "_model_module_version": "1.5.0",
            "_model_name": "ProgressStyleModel",
            "_view_count": null,
            "_view_module": "@jupyter-widgets/base",
            "_view_module_version": "1.2.0",
            "_view_name": "StyleView",
            "bar_color": null,
            "description_width": ""
          }
        },
        "9b10f90227644f1fb807a270d571f03a": {
          "model_module": "@jupyter-widgets/base",
          "model_name": "LayoutModel",
          "model_module_version": "1.2.0",
          "state": {
            "_model_module": "@jupyter-widgets/base",
            "_model_module_version": "1.2.0",
            "_model_name": "LayoutModel",
            "_view_count": null,
            "_view_module": "@jupyter-widgets/base",
            "_view_module_version": "1.2.0",
            "_view_name": "LayoutView",
            "align_content": null,
            "align_items": null,
            "align_self": null,
            "border": null,
            "bottom": null,
            "display": null,
            "flex": null,
            "flex_flow": null,
            "grid_area": null,
            "grid_auto_columns": null,
            "grid_auto_flow": null,
            "grid_auto_rows": null,
            "grid_column": null,
            "grid_gap": null,
            "grid_row": null,
            "grid_template_areas": null,
            "grid_template_columns": null,
            "grid_template_rows": null,
            "height": null,
            "justify_content": null,
            "justify_items": null,
            "left": null,
            "margin": null,
            "max_height": null,
            "max_width": null,
            "min_height": null,
            "min_width": null,
            "object_fit": null,
            "object_position": null,
            "order": null,
            "overflow": null,
            "overflow_x": null,
            "overflow_y": null,
            "padding": null,
            "right": null,
            "top": null,
            "visibility": null,
            "width": null
          }
        },
        "c72282d7b8fe4457b1a46382014eef65": {
          "model_module": "@jupyter-widgets/controls",
          "model_name": "DescriptionStyleModel",
          "model_module_version": "1.5.0",
          "state": {
            "_model_module": "@jupyter-widgets/controls",
            "_model_module_version": "1.5.0",
            "_model_name": "DescriptionStyleModel",
            "_view_count": null,
            "_view_module": "@jupyter-widgets/base",
            "_view_module_version": "1.2.0",
            "_view_name": "StyleView",
            "description_width": ""
          }
        },
        "b81e206f65724c60b73a6aef131bf840": {
          "model_module": "@jupyter-widgets/controls",
          "model_name": "HBoxModel",
          "model_module_version": "1.5.0",
          "state": {
            "_dom_classes": [],
            "_model_module": "@jupyter-widgets/controls",
            "_model_module_version": "1.5.0",
            "_model_name": "HBoxModel",
            "_view_count": null,
            "_view_module": "@jupyter-widgets/controls",
            "_view_module_version": "1.5.0",
            "_view_name": "HBoxView",
            "box_style": "",
            "children": [
              "IPY_MODEL_6230efa4626a4699813d62c71f211732",
              "IPY_MODEL_0fd246d960404173b533b2ef5e59ddd7",
              "IPY_MODEL_707f00aefd6f400eaf5ea070c1d479f8"
            ],
            "layout": "IPY_MODEL_dd9d8b5e399740c39cdee74a825d9971"
          }
        },
        "6230efa4626a4699813d62c71f211732": {
          "model_module": "@jupyter-widgets/controls",
          "model_name": "HTMLModel",
          "model_module_version": "1.5.0",
          "state": {
            "_dom_classes": [],
            "_model_module": "@jupyter-widgets/controls",
            "_model_module_version": "1.5.0",
            "_model_name": "HTMLModel",
            "_view_count": null,
            "_view_module": "@jupyter-widgets/controls",
            "_view_module_version": "1.5.0",
            "_view_name": "HTMLView",
            "description": "",
            "description_tooltip": null,
            "layout": "IPY_MODEL_07c7a4ba935b4bf68770ad689fb51152",
            "placeholder": "​",
            "style": "IPY_MODEL_23df48353ca44a9a805828872fb72d1e",
            "value": "vocab.txt: 100%"
          }
        },
        "0fd246d960404173b533b2ef5e59ddd7": {
          "model_module": "@jupyter-widgets/controls",
          "model_name": "FloatProgressModel",
          "model_module_version": "1.5.0",
          "state": {
            "_dom_classes": [],
            "_model_module": "@jupyter-widgets/controls",
            "_model_module_version": "1.5.0",
            "_model_name": "FloatProgressModel",
            "_view_count": null,
            "_view_module": "@jupyter-widgets/controls",
            "_view_module_version": "1.5.0",
            "_view_name": "ProgressView",
            "bar_style": "success",
            "description": "",
            "description_tooltip": null,
            "layout": "IPY_MODEL_5a0afed8de464413934f623b58e88d8c",
            "max": 221792,
            "min": 0,
            "orientation": "horizontal",
            "style": "IPY_MODEL_7ec03435ec5d4dd1acc0f16739dd8f30",
            "value": 221792
          }
        },
        "707f00aefd6f400eaf5ea070c1d479f8": {
          "model_module": "@jupyter-widgets/controls",
          "model_name": "HTMLModel",
          "model_module_version": "1.5.0",
          "state": {
            "_dom_classes": [],
            "_model_module": "@jupyter-widgets/controls",
            "_model_module_version": "1.5.0",
            "_model_name": "HTMLModel",
            "_view_count": null,
            "_view_module": "@jupyter-widgets/controls",
            "_view_module_version": "1.5.0",
            "_view_name": "HTMLView",
            "description": "",
            "description_tooltip": null,
            "layout": "IPY_MODEL_650ca2081a9542c5acc0a4f755a201bd",
            "placeholder": "​",
            "style": "IPY_MODEL_4e56d385f01541b3b46d89c672115df3",
            "value": " 222k/222k [00:00&lt;00:00, 1.35MB/s]"
          }
        },
        "dd9d8b5e399740c39cdee74a825d9971": {
          "model_module": "@jupyter-widgets/base",
          "model_name": "LayoutModel",
          "model_module_version": "1.2.0",
          "state": {
            "_model_module": "@jupyter-widgets/base",
            "_model_module_version": "1.2.0",
            "_model_name": "LayoutModel",
            "_view_count": null,
            "_view_module": "@jupyter-widgets/base",
            "_view_module_version": "1.2.0",
            "_view_name": "LayoutView",
            "align_content": null,
            "align_items": null,
            "align_self": null,
            "border": null,
            "bottom": null,
            "display": null,
            "flex": null,
            "flex_flow": null,
            "grid_area": null,
            "grid_auto_columns": null,
            "grid_auto_flow": null,
            "grid_auto_rows": null,
            "grid_column": null,
            "grid_gap": null,
            "grid_row": null,
            "grid_template_areas": null,
            "grid_template_columns": null,
            "grid_template_rows": null,
            "height": null,
            "justify_content": null,
            "justify_items": null,
            "left": null,
            "margin": null,
            "max_height": null,
            "max_width": null,
            "min_height": null,
            "min_width": null,
            "object_fit": null,
            "object_position": null,
            "order": null,
            "overflow": null,
            "overflow_x": null,
            "overflow_y": null,
            "padding": null,
            "right": null,
            "top": null,
            "visibility": null,
            "width": null
          }
        },
        "07c7a4ba935b4bf68770ad689fb51152": {
          "model_module": "@jupyter-widgets/base",
          "model_name": "LayoutModel",
          "model_module_version": "1.2.0",
          "state": {
            "_model_module": "@jupyter-widgets/base",
            "_model_module_version": "1.2.0",
            "_model_name": "LayoutModel",
            "_view_count": null,
            "_view_module": "@jupyter-widgets/base",
            "_view_module_version": "1.2.0",
            "_view_name": "LayoutView",
            "align_content": null,
            "align_items": null,
            "align_self": null,
            "border": null,
            "bottom": null,
            "display": null,
            "flex": null,
            "flex_flow": null,
            "grid_area": null,
            "grid_auto_columns": null,
            "grid_auto_flow": null,
            "grid_auto_rows": null,
            "grid_column": null,
            "grid_gap": null,
            "grid_row": null,
            "grid_template_areas": null,
            "grid_template_columns": null,
            "grid_template_rows": null,
            "height": null,
            "justify_content": null,
            "justify_items": null,
            "left": null,
            "margin": null,
            "max_height": null,
            "max_width": null,
            "min_height": null,
            "min_width": null,
            "object_fit": null,
            "object_position": null,
            "order": null,
            "overflow": null,
            "overflow_x": null,
            "overflow_y": null,
            "padding": null,
            "right": null,
            "top": null,
            "visibility": null,
            "width": null
          }
        },
        "23df48353ca44a9a805828872fb72d1e": {
          "model_module": "@jupyter-widgets/controls",
          "model_name": "DescriptionStyleModel",
          "model_module_version": "1.5.0",
          "state": {
            "_model_module": "@jupyter-widgets/controls",
            "_model_module_version": "1.5.0",
            "_model_name": "DescriptionStyleModel",
            "_view_count": null,
            "_view_module": "@jupyter-widgets/base",
            "_view_module_version": "1.2.0",
            "_view_name": "StyleView",
            "description_width": ""
          }
        },
        "5a0afed8de464413934f623b58e88d8c": {
          "model_module": "@jupyter-widgets/base",
          "model_name": "LayoutModel",
          "model_module_version": "1.2.0",
          "state": {
            "_model_module": "@jupyter-widgets/base",
            "_model_module_version": "1.2.0",
            "_model_name": "LayoutModel",
            "_view_count": null,
            "_view_module": "@jupyter-widgets/base",
            "_view_module_version": "1.2.0",
            "_view_name": "LayoutView",
            "align_content": null,
            "align_items": null,
            "align_self": null,
            "border": null,
            "bottom": null,
            "display": null,
            "flex": null,
            "flex_flow": null,
            "grid_area": null,
            "grid_auto_columns": null,
            "grid_auto_flow": null,
            "grid_auto_rows": null,
            "grid_column": null,
            "grid_gap": null,
            "grid_row": null,
            "grid_template_areas": null,
            "grid_template_columns": null,
            "grid_template_rows": null,
            "height": null,
            "justify_content": null,
            "justify_items": null,
            "left": null,
            "margin": null,
            "max_height": null,
            "max_width": null,
            "min_height": null,
            "min_width": null,
            "object_fit": null,
            "object_position": null,
            "order": null,
            "overflow": null,
            "overflow_x": null,
            "overflow_y": null,
            "padding": null,
            "right": null,
            "top": null,
            "visibility": null,
            "width": null
          }
        },
        "7ec03435ec5d4dd1acc0f16739dd8f30": {
          "model_module": "@jupyter-widgets/controls",
          "model_name": "ProgressStyleModel",
          "model_module_version": "1.5.0",
          "state": {
            "_model_module": "@jupyter-widgets/controls",
            "_model_module_version": "1.5.0",
            "_model_name": "ProgressStyleModel",
            "_view_count": null,
            "_view_module": "@jupyter-widgets/base",
            "_view_module_version": "1.2.0",
            "_view_name": "StyleView",
            "bar_color": null,
            "description_width": ""
          }
        },
        "650ca2081a9542c5acc0a4f755a201bd": {
          "model_module": "@jupyter-widgets/base",
          "model_name": "LayoutModel",
          "model_module_version": "1.2.0",
          "state": {
            "_model_module": "@jupyter-widgets/base",
            "_model_module_version": "1.2.0",
            "_model_name": "LayoutModel",
            "_view_count": null,
            "_view_module": "@jupyter-widgets/base",
            "_view_module_version": "1.2.0",
            "_view_name": "LayoutView",
            "align_content": null,
            "align_items": null,
            "align_self": null,
            "border": null,
            "bottom": null,
            "display": null,
            "flex": null,
            "flex_flow": null,
            "grid_area": null,
            "grid_auto_columns": null,
            "grid_auto_flow": null,
            "grid_auto_rows": null,
            "grid_column": null,
            "grid_gap": null,
            "grid_row": null,
            "grid_template_areas": null,
            "grid_template_columns": null,
            "grid_template_rows": null,
            "height": null,
            "justify_content": null,
            "justify_items": null,
            "left": null,
            "margin": null,
            "max_height": null,
            "max_width": null,
            "min_height": null,
            "min_width": null,
            "object_fit": null,
            "object_position": null,
            "order": null,
            "overflow": null,
            "overflow_x": null,
            "overflow_y": null,
            "padding": null,
            "right": null,
            "top": null,
            "visibility": null,
            "width": null
          }
        },
        "4e56d385f01541b3b46d89c672115df3": {
          "model_module": "@jupyter-widgets/controls",
          "model_name": "DescriptionStyleModel",
          "model_module_version": "1.5.0",
          "state": {
            "_model_module": "@jupyter-widgets/controls",
            "_model_module_version": "1.5.0",
            "_model_name": "DescriptionStyleModel",
            "_view_count": null,
            "_view_module": "@jupyter-widgets/base",
            "_view_module_version": "1.2.0",
            "_view_name": "StyleView",
            "description_width": ""
          }
        },
        "a029af0d17ee42fe9f8f7660704c8cf2": {
          "model_module": "@jupyter-widgets/controls",
          "model_name": "HBoxModel",
          "model_module_version": "1.5.0",
          "state": {
            "_dom_classes": [],
            "_model_module": "@jupyter-widgets/controls",
            "_model_module_version": "1.5.0",
            "_model_name": "HBoxModel",
            "_view_count": null,
            "_view_module": "@jupyter-widgets/controls",
            "_view_module_version": "1.5.0",
            "_view_name": "HBoxView",
            "box_style": "",
            "children": [
              "IPY_MODEL_72389709f73b44d2a0e02427abd12134",
              "IPY_MODEL_d23429ebb0f34e2ea507ff8d9daf6abd",
              "IPY_MODEL_ed2b2d1ca7e541668d2f6edae5a12c75"
            ],
            "layout": "IPY_MODEL_b3cd65f4187747fb9f5fc881fd7545ca"
          }
        },
        "72389709f73b44d2a0e02427abd12134": {
          "model_module": "@jupyter-widgets/controls",
          "model_name": "HTMLModel",
          "model_module_version": "1.5.0",
          "state": {
            "_dom_classes": [],
            "_model_module": "@jupyter-widgets/controls",
            "_model_module_version": "1.5.0",
            "_model_name": "HTMLModel",
            "_view_count": null,
            "_view_module": "@jupyter-widgets/controls",
            "_view_module_version": "1.5.0",
            "_view_name": "HTMLView",
            "description": "",
            "description_tooltip": null,
            "layout": "IPY_MODEL_5e080b250167435baad4fd643c8a5911",
            "placeholder": "​",
            "style": "IPY_MODEL_819108ec7ab1405b96b33b6a7680a718",
            "value": "pytorch_model.bin: 100%"
          }
        },
        "d23429ebb0f34e2ea507ff8d9daf6abd": {
          "model_module": "@jupyter-widgets/controls",
          "model_name": "FloatProgressModel",
          "model_module_version": "1.5.0",
          "state": {
            "_dom_classes": [],
            "_model_module": "@jupyter-widgets/controls",
            "_model_module_version": "1.5.0",
            "_model_name": "FloatProgressModel",
            "_view_count": null,
            "_view_module": "@jupyter-widgets/controls",
            "_view_module_version": "1.5.0",
            "_view_name": "ProgressView",
            "bar_style": "success",
            "description": "",
            "description_tooltip": null,
            "layout": "IPY_MODEL_515ee4f5d35b4eaaa69a8c5f66d357fd",
            "max": 141480422,
            "min": 0,
            "orientation": "horizontal",
            "style": "IPY_MODEL_644d8eaaf52a4be4b8070eb4091221e1",
            "value": 141480422
          }
        },
        "ed2b2d1ca7e541668d2f6edae5a12c75": {
          "model_module": "@jupyter-widgets/controls",
          "model_name": "HTMLModel",
          "model_module_version": "1.5.0",
          "state": {
            "_dom_classes": [],
            "_model_module": "@jupyter-widgets/controls",
            "_model_module_version": "1.5.0",
            "_model_name": "HTMLModel",
            "_view_count": null,
            "_view_module": "@jupyter-widgets/controls",
            "_view_module_version": "1.5.0",
            "_view_name": "HTMLView",
            "description": "",
            "description_tooltip": null,
            "layout": "IPY_MODEL_ffdb4bc839e14d90a62f1d655ff53e40",
            "placeholder": "​",
            "style": "IPY_MODEL_3167c73d3a544392866491c9b5255c6c",
            "value": " 141M/141M [00:01&lt;00:00, 119MB/s]"
          }
        },
        "b3cd65f4187747fb9f5fc881fd7545ca": {
          "model_module": "@jupyter-widgets/base",
          "model_name": "LayoutModel",
          "model_module_version": "1.2.0",
          "state": {
            "_model_module": "@jupyter-widgets/base",
            "_model_module_version": "1.2.0",
            "_model_name": "LayoutModel",
            "_view_count": null,
            "_view_module": "@jupyter-widgets/base",
            "_view_module_version": "1.2.0",
            "_view_name": "LayoutView",
            "align_content": null,
            "align_items": null,
            "align_self": null,
            "border": null,
            "bottom": null,
            "display": null,
            "flex": null,
            "flex_flow": null,
            "grid_area": null,
            "grid_auto_columns": null,
            "grid_auto_flow": null,
            "grid_auto_rows": null,
            "grid_column": null,
            "grid_gap": null,
            "grid_row": null,
            "grid_template_areas": null,
            "grid_template_columns": null,
            "grid_template_rows": null,
            "height": null,
            "justify_content": null,
            "justify_items": null,
            "left": null,
            "margin": null,
            "max_height": null,
            "max_width": null,
            "min_height": null,
            "min_width": null,
            "object_fit": null,
            "object_position": null,
            "order": null,
            "overflow": null,
            "overflow_x": null,
            "overflow_y": null,
            "padding": null,
            "right": null,
            "top": null,
            "visibility": null,
            "width": null
          }
        },
        "5e080b250167435baad4fd643c8a5911": {
          "model_module": "@jupyter-widgets/base",
          "model_name": "LayoutModel",
          "model_module_version": "1.2.0",
          "state": {
            "_model_module": "@jupyter-widgets/base",
            "_model_module_version": "1.2.0",
            "_model_name": "LayoutModel",
            "_view_count": null,
            "_view_module": "@jupyter-widgets/base",
            "_view_module_version": "1.2.0",
            "_view_name": "LayoutView",
            "align_content": null,
            "align_items": null,
            "align_self": null,
            "border": null,
            "bottom": null,
            "display": null,
            "flex": null,
            "flex_flow": null,
            "grid_area": null,
            "grid_auto_columns": null,
            "grid_auto_flow": null,
            "grid_auto_rows": null,
            "grid_column": null,
            "grid_gap": null,
            "grid_row": null,
            "grid_template_areas": null,
            "grid_template_columns": null,
            "grid_template_rows": null,
            "height": null,
            "justify_content": null,
            "justify_items": null,
            "left": null,
            "margin": null,
            "max_height": null,
            "max_width": null,
            "min_height": null,
            "min_width": null,
            "object_fit": null,
            "object_position": null,
            "order": null,
            "overflow": null,
            "overflow_x": null,
            "overflow_y": null,
            "padding": null,
            "right": null,
            "top": null,
            "visibility": null,
            "width": null
          }
        },
        "819108ec7ab1405b96b33b6a7680a718": {
          "model_module": "@jupyter-widgets/controls",
          "model_name": "DescriptionStyleModel",
          "model_module_version": "1.5.0",
          "state": {
            "_model_module": "@jupyter-widgets/controls",
            "_model_module_version": "1.5.0",
            "_model_name": "DescriptionStyleModel",
            "_view_count": null,
            "_view_module": "@jupyter-widgets/base",
            "_view_module_version": "1.2.0",
            "_view_name": "StyleView",
            "description_width": ""
          }
        },
        "515ee4f5d35b4eaaa69a8c5f66d357fd": {
          "model_module": "@jupyter-widgets/base",
          "model_name": "LayoutModel",
          "model_module_version": "1.2.0",
          "state": {
            "_model_module": "@jupyter-widgets/base",
            "_model_module_version": "1.2.0",
            "_model_name": "LayoutModel",
            "_view_count": null,
            "_view_module": "@jupyter-widgets/base",
            "_view_module_version": "1.2.0",
            "_view_name": "LayoutView",
            "align_content": null,
            "align_items": null,
            "align_self": null,
            "border": null,
            "bottom": null,
            "display": null,
            "flex": null,
            "flex_flow": null,
            "grid_area": null,
            "grid_auto_columns": null,
            "grid_auto_flow": null,
            "grid_auto_rows": null,
            "grid_column": null,
            "grid_gap": null,
            "grid_row": null,
            "grid_template_areas": null,
            "grid_template_columns": null,
            "grid_template_rows": null,
            "height": null,
            "justify_content": null,
            "justify_items": null,
            "left": null,
            "margin": null,
            "max_height": null,
            "max_width": null,
            "min_height": null,
            "min_width": null,
            "object_fit": null,
            "object_position": null,
            "order": null,
            "overflow": null,
            "overflow_x": null,
            "overflow_y": null,
            "padding": null,
            "right": null,
            "top": null,
            "visibility": null,
            "width": null
          }
        },
        "644d8eaaf52a4be4b8070eb4091221e1": {
          "model_module": "@jupyter-widgets/controls",
          "model_name": "ProgressStyleModel",
          "model_module_version": "1.5.0",
          "state": {
            "_model_module": "@jupyter-widgets/controls",
            "_model_module_version": "1.5.0",
            "_model_name": "ProgressStyleModel",
            "_view_count": null,
            "_view_module": "@jupyter-widgets/base",
            "_view_module_version": "1.2.0",
            "_view_name": "StyleView",
            "bar_color": null,
            "description_width": ""
          }
        },
        "ffdb4bc839e14d90a62f1d655ff53e40": {
          "model_module": "@jupyter-widgets/base",
          "model_name": "LayoutModel",
          "model_module_version": "1.2.0",
          "state": {
            "_model_module": "@jupyter-widgets/base",
            "_model_module_version": "1.2.0",
            "_model_name": "LayoutModel",
            "_view_count": null,
            "_view_module": "@jupyter-widgets/base",
            "_view_module_version": "1.2.0",
            "_view_name": "LayoutView",
            "align_content": null,
            "align_items": null,
            "align_self": null,
            "border": null,
            "bottom": null,
            "display": null,
            "flex": null,
            "flex_flow": null,
            "grid_area": null,
            "grid_auto_columns": null,
            "grid_auto_flow": null,
            "grid_auto_rows": null,
            "grid_column": null,
            "grid_gap": null,
            "grid_row": null,
            "grid_template_areas": null,
            "grid_template_columns": null,
            "grid_template_rows": null,
            "height": null,
            "justify_content": null,
            "justify_items": null,
            "left": null,
            "margin": null,
            "max_height": null,
            "max_width": null,
            "min_height": null,
            "min_width": null,
            "object_fit": null,
            "object_position": null,
            "order": null,
            "overflow": null,
            "overflow_x": null,
            "overflow_y": null,
            "padding": null,
            "right": null,
            "top": null,
            "visibility": null,
            "width": null
          }
        },
        "3167c73d3a544392866491c9b5255c6c": {
          "model_module": "@jupyter-widgets/controls",
          "model_name": "DescriptionStyleModel",
          "model_module_version": "1.5.0",
          "state": {
            "_model_module": "@jupyter-widgets/controls",
            "_model_module_version": "1.5.0",
            "_model_name": "DescriptionStyleModel",
            "_view_count": null,
            "_view_module": "@jupyter-widgets/base",
            "_view_module_version": "1.2.0",
            "_view_name": "StyleView",
            "description_width": ""
          }
        },
        "0b582c752f504556a7d73ea6a965873f": {
          "model_module": "@jupyter-widgets/controls",
          "model_name": "HBoxModel",
          "model_module_version": "1.5.0",
          "state": {
            "_dom_classes": [],
            "_model_module": "@jupyter-widgets/controls",
            "_model_module_version": "1.5.0",
            "_model_name": "HBoxModel",
            "_view_count": null,
            "_view_module": "@jupyter-widgets/controls",
            "_view_module_version": "1.5.0",
            "_view_name": "HBoxView",
            "box_style": "",
            "children": [
              "IPY_MODEL_398c494a95b14e079aa542026368065c",
              "IPY_MODEL_6875073baada448ab290bebb46d84217",
              "IPY_MODEL_09d9a3050d32400fa425960fde92912d"
            ],
            "layout": "IPY_MODEL_c7caa6628184430e90848e3ce7f5d37c"
          }
        },
        "398c494a95b14e079aa542026368065c": {
          "model_module": "@jupyter-widgets/controls",
          "model_name": "HTMLModel",
          "model_module_version": "1.5.0",
          "state": {
            "_dom_classes": [],
            "_model_module": "@jupyter-widgets/controls",
            "_model_module_version": "1.5.0",
            "_model_name": "HTMLModel",
            "_view_count": null,
            "_view_module": "@jupyter-widgets/controls",
            "_view_module_version": "1.5.0",
            "_view_name": "HTMLView",
            "description": "",
            "description_tooltip": null,
            "layout": "IPY_MODEL_3da0cf65f81d4eb99eca118650a015ac",
            "placeholder": "​",
            "style": "IPY_MODEL_24a893b448ee4da2b9a67a235a7b8033",
            "value": "tokenizer_config.json: 100%"
          }
        },
        "6875073baada448ab290bebb46d84217": {
          "model_module": "@jupyter-widgets/controls",
          "model_name": "FloatProgressModel",
          "model_module_version": "1.5.0",
          "state": {
            "_dom_classes": [],
            "_model_module": "@jupyter-widgets/controls",
            "_model_module_version": "1.5.0",
            "_model_name": "FloatProgressModel",
            "_view_count": null,
            "_view_module": "@jupyter-widgets/controls",
            "_view_module_version": "1.5.0",
            "_view_name": "ProgressView",
            "bar_style": "success",
            "description": "",
            "description_tooltip": null,
            "layout": "IPY_MODEL_3ed345d8ed814055b6ac220953ba831a",
            "max": 28,
            "min": 0,
            "orientation": "horizontal",
            "style": "IPY_MODEL_98bbf2b1be144e3e8de73c2242191ee8",
            "value": 28
          }
        },
        "09d9a3050d32400fa425960fde92912d": {
          "model_module": "@jupyter-widgets/controls",
          "model_name": "HTMLModel",
          "model_module_version": "1.5.0",
          "state": {
            "_dom_classes": [],
            "_model_module": "@jupyter-widgets/controls",
            "_model_module_version": "1.5.0",
            "_model_name": "HTMLModel",
            "_view_count": null,
            "_view_module": "@jupyter-widgets/controls",
            "_view_module_version": "1.5.0",
            "_view_name": "HTMLView",
            "description": "",
            "description_tooltip": null,
            "layout": "IPY_MODEL_7deb751c917c443fb7e2c87d75bbfd1c",
            "placeholder": "​",
            "style": "IPY_MODEL_bba7d26a403146f7aff953a3d070e1f9",
            "value": " 28.0/28.0 [00:00&lt;00:00, 749B/s]"
          }
        },
        "c7caa6628184430e90848e3ce7f5d37c": {
          "model_module": "@jupyter-widgets/base",
          "model_name": "LayoutModel",
          "model_module_version": "1.2.0",
          "state": {
            "_model_module": "@jupyter-widgets/base",
            "_model_module_version": "1.2.0",
            "_model_name": "LayoutModel",
            "_view_count": null,
            "_view_module": "@jupyter-widgets/base",
            "_view_module_version": "1.2.0",
            "_view_name": "LayoutView",
            "align_content": null,
            "align_items": null,
            "align_self": null,
            "border": null,
            "bottom": null,
            "display": null,
            "flex": null,
            "flex_flow": null,
            "grid_area": null,
            "grid_auto_columns": null,
            "grid_auto_flow": null,
            "grid_auto_rows": null,
            "grid_column": null,
            "grid_gap": null,
            "grid_row": null,
            "grid_template_areas": null,
            "grid_template_columns": null,
            "grid_template_rows": null,
            "height": null,
            "justify_content": null,
            "justify_items": null,
            "left": null,
            "margin": null,
            "max_height": null,
            "max_width": null,
            "min_height": null,
            "min_width": null,
            "object_fit": null,
            "object_position": null,
            "order": null,
            "overflow": null,
            "overflow_x": null,
            "overflow_y": null,
            "padding": null,
            "right": null,
            "top": null,
            "visibility": null,
            "width": null
          }
        },
        "3da0cf65f81d4eb99eca118650a015ac": {
          "model_module": "@jupyter-widgets/base",
          "model_name": "LayoutModel",
          "model_module_version": "1.2.0",
          "state": {
            "_model_module": "@jupyter-widgets/base",
            "_model_module_version": "1.2.0",
            "_model_name": "LayoutModel",
            "_view_count": null,
            "_view_module": "@jupyter-widgets/base",
            "_view_module_version": "1.2.0",
            "_view_name": "LayoutView",
            "align_content": null,
            "align_items": null,
            "align_self": null,
            "border": null,
            "bottom": null,
            "display": null,
            "flex": null,
            "flex_flow": null,
            "grid_area": null,
            "grid_auto_columns": null,
            "grid_auto_flow": null,
            "grid_auto_rows": null,
            "grid_column": null,
            "grid_gap": null,
            "grid_row": null,
            "grid_template_areas": null,
            "grid_template_columns": null,
            "grid_template_rows": null,
            "height": null,
            "justify_content": null,
            "justify_items": null,
            "left": null,
            "margin": null,
            "max_height": null,
            "max_width": null,
            "min_height": null,
            "min_width": null,
            "object_fit": null,
            "object_position": null,
            "order": null,
            "overflow": null,
            "overflow_x": null,
            "overflow_y": null,
            "padding": null,
            "right": null,
            "top": null,
            "visibility": null,
            "width": null
          }
        },
        "24a893b448ee4da2b9a67a235a7b8033": {
          "model_module": "@jupyter-widgets/controls",
          "model_name": "DescriptionStyleModel",
          "model_module_version": "1.5.0",
          "state": {
            "_model_module": "@jupyter-widgets/controls",
            "_model_module_version": "1.5.0",
            "_model_name": "DescriptionStyleModel",
            "_view_count": null,
            "_view_module": "@jupyter-widgets/base",
            "_view_module_version": "1.2.0",
            "_view_name": "StyleView",
            "description_width": ""
          }
        },
        "3ed345d8ed814055b6ac220953ba831a": {
          "model_module": "@jupyter-widgets/base",
          "model_name": "LayoutModel",
          "model_module_version": "1.2.0",
          "state": {
            "_model_module": "@jupyter-widgets/base",
            "_model_module_version": "1.2.0",
            "_model_name": "LayoutModel",
            "_view_count": null,
            "_view_module": "@jupyter-widgets/base",
            "_view_module_version": "1.2.0",
            "_view_name": "LayoutView",
            "align_content": null,
            "align_items": null,
            "align_self": null,
            "border": null,
            "bottom": null,
            "display": null,
            "flex": null,
            "flex_flow": null,
            "grid_area": null,
            "grid_auto_columns": null,
            "grid_auto_flow": null,
            "grid_auto_rows": null,
            "grid_column": null,
            "grid_gap": null,
            "grid_row": null,
            "grid_template_areas": null,
            "grid_template_columns": null,
            "grid_template_rows": null,
            "height": null,
            "justify_content": null,
            "justify_items": null,
            "left": null,
            "margin": null,
            "max_height": null,
            "max_width": null,
            "min_height": null,
            "min_width": null,
            "object_fit": null,
            "object_position": null,
            "order": null,
            "overflow": null,
            "overflow_x": null,
            "overflow_y": null,
            "padding": null,
            "right": null,
            "top": null,
            "visibility": null,
            "width": null
          }
        },
        "98bbf2b1be144e3e8de73c2242191ee8": {
          "model_module": "@jupyter-widgets/controls",
          "model_name": "ProgressStyleModel",
          "model_module_version": "1.5.0",
          "state": {
            "_model_module": "@jupyter-widgets/controls",
            "_model_module_version": "1.5.0",
            "_model_name": "ProgressStyleModel",
            "_view_count": null,
            "_view_module": "@jupyter-widgets/base",
            "_view_module_version": "1.2.0",
            "_view_name": "StyleView",
            "bar_color": null,
            "description_width": ""
          }
        },
        "7deb751c917c443fb7e2c87d75bbfd1c": {
          "model_module": "@jupyter-widgets/base",
          "model_name": "LayoutModel",
          "model_module_version": "1.2.0",
          "state": {
            "_model_module": "@jupyter-widgets/base",
            "_model_module_version": "1.2.0",
            "_model_name": "LayoutModel",
            "_view_count": null,
            "_view_module": "@jupyter-widgets/base",
            "_view_module_version": "1.2.0",
            "_view_name": "LayoutView",
            "align_content": null,
            "align_items": null,
            "align_self": null,
            "border": null,
            "bottom": null,
            "display": null,
            "flex": null,
            "flex_flow": null,
            "grid_area": null,
            "grid_auto_columns": null,
            "grid_auto_flow": null,
            "grid_auto_rows": null,
            "grid_column": null,
            "grid_gap": null,
            "grid_row": null,
            "grid_template_areas": null,
            "grid_template_columns": null,
            "grid_template_rows": null,
            "height": null,
            "justify_content": null,
            "justify_items": null,
            "left": null,
            "margin": null,
            "max_height": null,
            "max_width": null,
            "min_height": null,
            "min_width": null,
            "object_fit": null,
            "object_position": null,
            "order": null,
            "overflow": null,
            "overflow_x": null,
            "overflow_y": null,
            "padding": null,
            "right": null,
            "top": null,
            "visibility": null,
            "width": null
          }
        },
        "bba7d26a403146f7aff953a3d070e1f9": {
          "model_module": "@jupyter-widgets/controls",
          "model_name": "DescriptionStyleModel",
          "model_module_version": "1.5.0",
          "state": {
            "_model_module": "@jupyter-widgets/controls",
            "_model_module_version": "1.5.0",
            "_model_name": "DescriptionStyleModel",
            "_view_count": null,
            "_view_module": "@jupyter-widgets/base",
            "_view_module_version": "1.2.0",
            "_view_name": "StyleView",
            "description_width": ""
          }
        },
        "3ef85d00e12d46df841aea035fede6d0": {
          "model_module": "@jupyter-widgets/controls",
          "model_name": "HBoxModel",
          "model_module_version": "1.5.0",
          "state": {
            "_dom_classes": [],
            "_model_module": "@jupyter-widgets/controls",
            "_model_module_version": "1.5.0",
            "_model_name": "HBoxModel",
            "_view_count": null,
            "_view_module": "@jupyter-widgets/controls",
            "_view_module_version": "1.5.0",
            "_view_name": "HBoxView",
            "box_style": "",
            "children": [
              "IPY_MODEL_af8636d3e7d64df5ad1a08b76d7d0c65",
              "IPY_MODEL_98bf7d83a9514039a31c05d3c8de14b2",
              "IPY_MODEL_87c28a78f36e4839b579c91a9875fa7e"
            ],
            "layout": "IPY_MODEL_db15e6ab185d46d0966eab99ec439a0a"
          }
        },
        "af8636d3e7d64df5ad1a08b76d7d0c65": {
          "model_module": "@jupyter-widgets/controls",
          "model_name": "HTMLModel",
          "model_module_version": "1.5.0",
          "state": {
            "_dom_classes": [],
            "_model_module": "@jupyter-widgets/controls",
            "_model_module_version": "1.5.0",
            "_model_name": "HTMLModel",
            "_view_count": null,
            "_view_module": "@jupyter-widgets/controls",
            "_view_module_version": "1.5.0",
            "_view_name": "HTMLView",
            "description": "",
            "description_tooltip": null,
            "layout": "IPY_MODEL_a3ad12acb3474dd78106b84d366aaef7",
            "placeholder": "​",
            "style": "IPY_MODEL_40f7d9f4cee448bba6c69012ad08efad",
            "value": "config.json: 100%"
          }
        },
        "98bf7d83a9514039a31c05d3c8de14b2": {
          "model_module": "@jupyter-widgets/controls",
          "model_name": "FloatProgressModel",
          "model_module_version": "1.5.0",
          "state": {
            "_dom_classes": [],
            "_model_module": "@jupyter-widgets/controls",
            "_model_module_version": "1.5.0",
            "_model_name": "FloatProgressModel",
            "_view_count": null,
            "_view_module": "@jupyter-widgets/controls",
            "_view_module_version": "1.5.0",
            "_view_name": "ProgressView",
            "bar_style": "success",
            "description": "",
            "description_tooltip": null,
            "layout": "IPY_MODEL_06c2c8ffdf664a7e99b3c5c6821b7296",
            "max": 483,
            "min": 0,
            "orientation": "horizontal",
            "style": "IPY_MODEL_9fe2092b43c24dc183a0953bf38450bf",
            "value": 483
          }
        },
        "87c28a78f36e4839b579c91a9875fa7e": {
          "model_module": "@jupyter-widgets/controls",
          "model_name": "HTMLModel",
          "model_module_version": "1.5.0",
          "state": {
            "_dom_classes": [],
            "_model_module": "@jupyter-widgets/controls",
            "_model_module_version": "1.5.0",
            "_model_name": "HTMLModel",
            "_view_count": null,
            "_view_module": "@jupyter-widgets/controls",
            "_view_module_version": "1.5.0",
            "_view_name": "HTMLView",
            "description": "",
            "description_tooltip": null,
            "layout": "IPY_MODEL_00b77d8850b546a18bc8b7414fa7fa33",
            "placeholder": "​",
            "style": "IPY_MODEL_93ad88eb228d4a65837fbaf73435eca2",
            "value": " 483/483 [00:00&lt;00:00, 9.70kB/s]"
          }
        },
        "db15e6ab185d46d0966eab99ec439a0a": {
          "model_module": "@jupyter-widgets/base",
          "model_name": "LayoutModel",
          "model_module_version": "1.2.0",
          "state": {
            "_model_module": "@jupyter-widgets/base",
            "_model_module_version": "1.2.0",
            "_model_name": "LayoutModel",
            "_view_count": null,
            "_view_module": "@jupyter-widgets/base",
            "_view_module_version": "1.2.0",
            "_view_name": "LayoutView",
            "align_content": null,
            "align_items": null,
            "align_self": null,
            "border": null,
            "bottom": null,
            "display": null,
            "flex": null,
            "flex_flow": null,
            "grid_area": null,
            "grid_auto_columns": null,
            "grid_auto_flow": null,
            "grid_auto_rows": null,
            "grid_column": null,
            "grid_gap": null,
            "grid_row": null,
            "grid_template_areas": null,
            "grid_template_columns": null,
            "grid_template_rows": null,
            "height": null,
            "justify_content": null,
            "justify_items": null,
            "left": null,
            "margin": null,
            "max_height": null,
            "max_width": null,
            "min_height": null,
            "min_width": null,
            "object_fit": null,
            "object_position": null,
            "order": null,
            "overflow": null,
            "overflow_x": null,
            "overflow_y": null,
            "padding": null,
            "right": null,
            "top": null,
            "visibility": null,
            "width": null
          }
        },
        "a3ad12acb3474dd78106b84d366aaef7": {
          "model_module": "@jupyter-widgets/base",
          "model_name": "LayoutModel",
          "model_module_version": "1.2.0",
          "state": {
            "_model_module": "@jupyter-widgets/base",
            "_model_module_version": "1.2.0",
            "_model_name": "LayoutModel",
            "_view_count": null,
            "_view_module": "@jupyter-widgets/base",
            "_view_module_version": "1.2.0",
            "_view_name": "LayoutView",
            "align_content": null,
            "align_items": null,
            "align_self": null,
            "border": null,
            "bottom": null,
            "display": null,
            "flex": null,
            "flex_flow": null,
            "grid_area": null,
            "grid_auto_columns": null,
            "grid_auto_flow": null,
            "grid_auto_rows": null,
            "grid_column": null,
            "grid_gap": null,
            "grid_row": null,
            "grid_template_areas": null,
            "grid_template_columns": null,
            "grid_template_rows": null,
            "height": null,
            "justify_content": null,
            "justify_items": null,
            "left": null,
            "margin": null,
            "max_height": null,
            "max_width": null,
            "min_height": null,
            "min_width": null,
            "object_fit": null,
            "object_position": null,
            "order": null,
            "overflow": null,
            "overflow_x": null,
            "overflow_y": null,
            "padding": null,
            "right": null,
            "top": null,
            "visibility": null,
            "width": null
          }
        },
        "40f7d9f4cee448bba6c69012ad08efad": {
          "model_module": "@jupyter-widgets/controls",
          "model_name": "DescriptionStyleModel",
          "model_module_version": "1.5.0",
          "state": {
            "_model_module": "@jupyter-widgets/controls",
            "_model_module_version": "1.5.0",
            "_model_name": "DescriptionStyleModel",
            "_view_count": null,
            "_view_module": "@jupyter-widgets/base",
            "_view_module_version": "1.2.0",
            "_view_name": "StyleView",
            "description_width": ""
          }
        },
        "06c2c8ffdf664a7e99b3c5c6821b7296": {
          "model_module": "@jupyter-widgets/base",
          "model_name": "LayoutModel",
          "model_module_version": "1.2.0",
          "state": {
            "_model_module": "@jupyter-widgets/base",
            "_model_module_version": "1.2.0",
            "_model_name": "LayoutModel",
            "_view_count": null,
            "_view_module": "@jupyter-widgets/base",
            "_view_module_version": "1.2.0",
            "_view_name": "LayoutView",
            "align_content": null,
            "align_items": null,
            "align_self": null,
            "border": null,
            "bottom": null,
            "display": null,
            "flex": null,
            "flex_flow": null,
            "grid_area": null,
            "grid_auto_columns": null,
            "grid_auto_flow": null,
            "grid_auto_rows": null,
            "grid_column": null,
            "grid_gap": null,
            "grid_row": null,
            "grid_template_areas": null,
            "grid_template_columns": null,
            "grid_template_rows": null,
            "height": null,
            "justify_content": null,
            "justify_items": null,
            "left": null,
            "margin": null,
            "max_height": null,
            "max_width": null,
            "min_height": null,
            "min_width": null,
            "object_fit": null,
            "object_position": null,
            "order": null,
            "overflow": null,
            "overflow_x": null,
            "overflow_y": null,
            "padding": null,
            "right": null,
            "top": null,
            "visibility": null,
            "width": null
          }
        },
        "9fe2092b43c24dc183a0953bf38450bf": {
          "model_module": "@jupyter-widgets/controls",
          "model_name": "ProgressStyleModel",
          "model_module_version": "1.5.0",
          "state": {
            "_model_module": "@jupyter-widgets/controls",
            "_model_module_version": "1.5.0",
            "_model_name": "ProgressStyleModel",
            "_view_count": null,
            "_view_module": "@jupyter-widgets/base",
            "_view_module_version": "1.2.0",
            "_view_name": "StyleView",
            "bar_color": null,
            "description_width": ""
          }
        },
        "00b77d8850b546a18bc8b7414fa7fa33": {
          "model_module": "@jupyter-widgets/base",
          "model_name": "LayoutModel",
          "model_module_version": "1.2.0",
          "state": {
            "_model_module": "@jupyter-widgets/base",
            "_model_module_version": "1.2.0",
            "_model_name": "LayoutModel",
            "_view_count": null,
            "_view_module": "@jupyter-widgets/base",
            "_view_module_version": "1.2.0",
            "_view_name": "LayoutView",
            "align_content": null,
            "align_items": null,
            "align_self": null,
            "border": null,
            "bottom": null,
            "display": null,
            "flex": null,
            "flex_flow": null,
            "grid_area": null,
            "grid_auto_columns": null,
            "grid_auto_flow": null,
            "grid_auto_rows": null,
            "grid_column": null,
            "grid_gap": null,
            "grid_row": null,
            "grid_template_areas": null,
            "grid_template_columns": null,
            "grid_template_rows": null,
            "height": null,
            "justify_content": null,
            "justify_items": null,
            "left": null,
            "margin": null,
            "max_height": null,
            "max_width": null,
            "min_height": null,
            "min_width": null,
            "object_fit": null,
            "object_position": null,
            "order": null,
            "overflow": null,
            "overflow_x": null,
            "overflow_y": null,
            "padding": null,
            "right": null,
            "top": null,
            "visibility": null,
            "width": null
          }
        },
        "93ad88eb228d4a65837fbaf73435eca2": {
          "model_module": "@jupyter-widgets/controls",
          "model_name": "DescriptionStyleModel",
          "model_module_version": "1.5.0",
          "state": {
            "_model_module": "@jupyter-widgets/controls",
            "_model_module_version": "1.5.0",
            "_model_name": "DescriptionStyleModel",
            "_view_count": null,
            "_view_module": "@jupyter-widgets/base",
            "_view_module_version": "1.2.0",
            "_view_name": "StyleView",
            "description_width": ""
          }
        },
        "66406339579a47e7ac30713e8d46c19e": {
          "model_module": "@jupyter-widgets/controls",
          "model_name": "HBoxModel",
          "model_module_version": "1.5.0",
          "state": {
            "_dom_classes": [],
            "_model_module": "@jupyter-widgets/controls",
            "_model_module_version": "1.5.0",
            "_model_name": "HBoxModel",
            "_view_count": null,
            "_view_module": "@jupyter-widgets/controls",
            "_view_module_version": "1.5.0",
            "_view_name": "HBoxView",
            "box_style": "",
            "children": [
              "IPY_MODEL_5de75900609f47608f0d1192ef4ce13e",
              "IPY_MODEL_46e1b630e1634e19a55b85eb34a66d54",
              "IPY_MODEL_e7bac3d794994c53b22277e10edb75ea"
            ],
            "layout": "IPY_MODEL_ae6e8db463d14c54bb045f722f9f92ee"
          }
        },
        "5de75900609f47608f0d1192ef4ce13e": {
          "model_module": "@jupyter-widgets/controls",
          "model_name": "HTMLModel",
          "model_module_version": "1.5.0",
          "state": {
            "_dom_classes": [],
            "_model_module": "@jupyter-widgets/controls",
            "_model_module_version": "1.5.0",
            "_model_name": "HTMLModel",
            "_view_count": null,
            "_view_module": "@jupyter-widgets/controls",
            "_view_module_version": "1.5.0",
            "_view_name": "HTMLView",
            "description": "",
            "description_tooltip": null,
            "layout": "IPY_MODEL_b475692efab94025bf92470d528bcba8",
            "placeholder": "​",
            "style": "IPY_MODEL_cd145ec3d7194ed1bb0b4602fd99aa0b",
            "value": "vocab.txt: 100%"
          }
        },
        "46e1b630e1634e19a55b85eb34a66d54": {
          "model_module": "@jupyter-widgets/controls",
          "model_name": "FloatProgressModel",
          "model_module_version": "1.5.0",
          "state": {
            "_dom_classes": [],
            "_model_module": "@jupyter-widgets/controls",
            "_model_module_version": "1.5.0",
            "_model_name": "FloatProgressModel",
            "_view_count": null,
            "_view_module": "@jupyter-widgets/controls",
            "_view_module_version": "1.5.0",
            "_view_name": "ProgressView",
            "bar_style": "success",
            "description": "",
            "description_tooltip": null,
            "layout": "IPY_MODEL_5328b84b1d3a4ad496c30b7435c8cf38",
            "max": 231508,
            "min": 0,
            "orientation": "horizontal",
            "style": "IPY_MODEL_9991e1cfe1184367ac6d7ae20db16bdb",
            "value": 231508
          }
        },
        "e7bac3d794994c53b22277e10edb75ea": {
          "model_module": "@jupyter-widgets/controls",
          "model_name": "HTMLModel",
          "model_module_version": "1.5.0",
          "state": {
            "_dom_classes": [],
            "_model_module": "@jupyter-widgets/controls",
            "_model_module_version": "1.5.0",
            "_model_name": "HTMLModel",
            "_view_count": null,
            "_view_module": "@jupyter-widgets/controls",
            "_view_module_version": "1.5.0",
            "_view_name": "HTMLView",
            "description": "",
            "description_tooltip": null,
            "layout": "IPY_MODEL_aaf9e569f05f43fd9619e085dbd38cd8",
            "placeholder": "​",
            "style": "IPY_MODEL_04ef06305074457d97da6e41d266963d",
            "value": " 232k/232k [00:00&lt;00:00, 2.83MB/s]"
          }
        },
        "ae6e8db463d14c54bb045f722f9f92ee": {
          "model_module": "@jupyter-widgets/base",
          "model_name": "LayoutModel",
          "model_module_version": "1.2.0",
          "state": {
            "_model_module": "@jupyter-widgets/base",
            "_model_module_version": "1.2.0",
            "_model_name": "LayoutModel",
            "_view_count": null,
            "_view_module": "@jupyter-widgets/base",
            "_view_module_version": "1.2.0",
            "_view_name": "LayoutView",
            "align_content": null,
            "align_items": null,
            "align_self": null,
            "border": null,
            "bottom": null,
            "display": null,
            "flex": null,
            "flex_flow": null,
            "grid_area": null,
            "grid_auto_columns": null,
            "grid_auto_flow": null,
            "grid_auto_rows": null,
            "grid_column": null,
            "grid_gap": null,
            "grid_row": null,
            "grid_template_areas": null,
            "grid_template_columns": null,
            "grid_template_rows": null,
            "height": null,
            "justify_content": null,
            "justify_items": null,
            "left": null,
            "margin": null,
            "max_height": null,
            "max_width": null,
            "min_height": null,
            "min_width": null,
            "object_fit": null,
            "object_position": null,
            "order": null,
            "overflow": null,
            "overflow_x": null,
            "overflow_y": null,
            "padding": null,
            "right": null,
            "top": null,
            "visibility": null,
            "width": null
          }
        },
        "b475692efab94025bf92470d528bcba8": {
          "model_module": "@jupyter-widgets/base",
          "model_name": "LayoutModel",
          "model_module_version": "1.2.0",
          "state": {
            "_model_module": "@jupyter-widgets/base",
            "_model_module_version": "1.2.0",
            "_model_name": "LayoutModel",
            "_view_count": null,
            "_view_module": "@jupyter-widgets/base",
            "_view_module_version": "1.2.0",
            "_view_name": "LayoutView",
            "align_content": null,
            "align_items": null,
            "align_self": null,
            "border": null,
            "bottom": null,
            "display": null,
            "flex": null,
            "flex_flow": null,
            "grid_area": null,
            "grid_auto_columns": null,
            "grid_auto_flow": null,
            "grid_auto_rows": null,
            "grid_column": null,
            "grid_gap": null,
            "grid_row": null,
            "grid_template_areas": null,
            "grid_template_columns": null,
            "grid_template_rows": null,
            "height": null,
            "justify_content": null,
            "justify_items": null,
            "left": null,
            "margin": null,
            "max_height": null,
            "max_width": null,
            "min_height": null,
            "min_width": null,
            "object_fit": null,
            "object_position": null,
            "order": null,
            "overflow": null,
            "overflow_x": null,
            "overflow_y": null,
            "padding": null,
            "right": null,
            "top": null,
            "visibility": null,
            "width": null
          }
        },
        "cd145ec3d7194ed1bb0b4602fd99aa0b": {
          "model_module": "@jupyter-widgets/controls",
          "model_name": "DescriptionStyleModel",
          "model_module_version": "1.5.0",
          "state": {
            "_model_module": "@jupyter-widgets/controls",
            "_model_module_version": "1.5.0",
            "_model_name": "DescriptionStyleModel",
            "_view_count": null,
            "_view_module": "@jupyter-widgets/base",
            "_view_module_version": "1.2.0",
            "_view_name": "StyleView",
            "description_width": ""
          }
        },
        "5328b84b1d3a4ad496c30b7435c8cf38": {
          "model_module": "@jupyter-widgets/base",
          "model_name": "LayoutModel",
          "model_module_version": "1.2.0",
          "state": {
            "_model_module": "@jupyter-widgets/base",
            "_model_module_version": "1.2.0",
            "_model_name": "LayoutModel",
            "_view_count": null,
            "_view_module": "@jupyter-widgets/base",
            "_view_module_version": "1.2.0",
            "_view_name": "LayoutView",
            "align_content": null,
            "align_items": null,
            "align_self": null,
            "border": null,
            "bottom": null,
            "display": null,
            "flex": null,
            "flex_flow": null,
            "grid_area": null,
            "grid_auto_columns": null,
            "grid_auto_flow": null,
            "grid_auto_rows": null,
            "grid_column": null,
            "grid_gap": null,
            "grid_row": null,
            "grid_template_areas": null,
            "grid_template_columns": null,
            "grid_template_rows": null,
            "height": null,
            "justify_content": null,
            "justify_items": null,
            "left": null,
            "margin": null,
            "max_height": null,
            "max_width": null,
            "min_height": null,
            "min_width": null,
            "object_fit": null,
            "object_position": null,
            "order": null,
            "overflow": null,
            "overflow_x": null,
            "overflow_y": null,
            "padding": null,
            "right": null,
            "top": null,
            "visibility": null,
            "width": null
          }
        },
        "9991e1cfe1184367ac6d7ae20db16bdb": {
          "model_module": "@jupyter-widgets/controls",
          "model_name": "ProgressStyleModel",
          "model_module_version": "1.5.0",
          "state": {
            "_model_module": "@jupyter-widgets/controls",
            "_model_module_version": "1.5.0",
            "_model_name": "ProgressStyleModel",
            "_view_count": null,
            "_view_module": "@jupyter-widgets/base",
            "_view_module_version": "1.2.0",
            "_view_name": "StyleView",
            "bar_color": null,
            "description_width": ""
          }
        },
        "aaf9e569f05f43fd9619e085dbd38cd8": {
          "model_module": "@jupyter-widgets/base",
          "model_name": "LayoutModel",
          "model_module_version": "1.2.0",
          "state": {
            "_model_module": "@jupyter-widgets/base",
            "_model_module_version": "1.2.0",
            "_model_name": "LayoutModel",
            "_view_count": null,
            "_view_module": "@jupyter-widgets/base",
            "_view_module_version": "1.2.0",
            "_view_name": "LayoutView",
            "align_content": null,
            "align_items": null,
            "align_self": null,
            "border": null,
            "bottom": null,
            "display": null,
            "flex": null,
            "flex_flow": null,
            "grid_area": null,
            "grid_auto_columns": null,
            "grid_auto_flow": null,
            "grid_auto_rows": null,
            "grid_column": null,
            "grid_gap": null,
            "grid_row": null,
            "grid_template_areas": null,
            "grid_template_columns": null,
            "grid_template_rows": null,
            "height": null,
            "justify_content": null,
            "justify_items": null,
            "left": null,
            "margin": null,
            "max_height": null,
            "max_width": null,
            "min_height": null,
            "min_width": null,
            "object_fit": null,
            "object_position": null,
            "order": null,
            "overflow": null,
            "overflow_x": null,
            "overflow_y": null,
            "padding": null,
            "right": null,
            "top": null,
            "visibility": null,
            "width": null
          }
        },
        "04ef06305074457d97da6e41d266963d": {
          "model_module": "@jupyter-widgets/controls",
          "model_name": "DescriptionStyleModel",
          "model_module_version": "1.5.0",
          "state": {
            "_model_module": "@jupyter-widgets/controls",
            "_model_module_version": "1.5.0",
            "_model_name": "DescriptionStyleModel",
            "_view_count": null,
            "_view_module": "@jupyter-widgets/base",
            "_view_module_version": "1.2.0",
            "_view_name": "StyleView",
            "description_width": ""
          }
        },
        "50453440d5e84db581db792acecd3a7e": {
          "model_module": "@jupyter-widgets/controls",
          "model_name": "HBoxModel",
          "model_module_version": "1.5.0",
          "state": {
            "_dom_classes": [],
            "_model_module": "@jupyter-widgets/controls",
            "_model_module_version": "1.5.0",
            "_model_name": "HBoxModel",
            "_view_count": null,
            "_view_module": "@jupyter-widgets/controls",
            "_view_module_version": "1.5.0",
            "_view_name": "HBoxView",
            "box_style": "",
            "children": [
              "IPY_MODEL_6984764a9749439984d1190e7cd63de0",
              "IPY_MODEL_96077a856abf481585bb8af5550327ea",
              "IPY_MODEL_28d6b68018c5440ea43f9310f216c6f1"
            ],
            "layout": "IPY_MODEL_15e045bb441d477181018870934f42f3"
          }
        },
        "6984764a9749439984d1190e7cd63de0": {
          "model_module": "@jupyter-widgets/controls",
          "model_name": "HTMLModel",
          "model_module_version": "1.5.0",
          "state": {
            "_dom_classes": [],
            "_model_module": "@jupyter-widgets/controls",
            "_model_module_version": "1.5.0",
            "_model_name": "HTMLModel",
            "_view_count": null,
            "_view_module": "@jupyter-widgets/controls",
            "_view_module_version": "1.5.0",
            "_view_name": "HTMLView",
            "description": "",
            "description_tooltip": null,
            "layout": "IPY_MODEL_814a3bbfc3814c96a1e9d2d976f4e520",
            "placeholder": "​",
            "style": "IPY_MODEL_879abfa95ada446988e4ece3797ec581",
            "value": "tokenizer.json: 100%"
          }
        },
        "96077a856abf481585bb8af5550327ea": {
          "model_module": "@jupyter-widgets/controls",
          "model_name": "FloatProgressModel",
          "model_module_version": "1.5.0",
          "state": {
            "_dom_classes": [],
            "_model_module": "@jupyter-widgets/controls",
            "_model_module_version": "1.5.0",
            "_model_name": "FloatProgressModel",
            "_view_count": null,
            "_view_module": "@jupyter-widgets/controls",
            "_view_module_version": "1.5.0",
            "_view_name": "ProgressView",
            "bar_style": "success",
            "description": "",
            "description_tooltip": null,
            "layout": "IPY_MODEL_978fdf963ab44c189b59e70b196eb159",
            "max": 466062,
            "min": 0,
            "orientation": "horizontal",
            "style": "IPY_MODEL_9475714d9a0c49f18b1b761191ffe752",
            "value": 466062
          }
        },
        "28d6b68018c5440ea43f9310f216c6f1": {
          "model_module": "@jupyter-widgets/controls",
          "model_name": "HTMLModel",
          "model_module_version": "1.5.0",
          "state": {
            "_dom_classes": [],
            "_model_module": "@jupyter-widgets/controls",
            "_model_module_version": "1.5.0",
            "_model_name": "HTMLModel",
            "_view_count": null,
            "_view_module": "@jupyter-widgets/controls",
            "_view_module_version": "1.5.0",
            "_view_name": "HTMLView",
            "description": "",
            "description_tooltip": null,
            "layout": "IPY_MODEL_051e20e3e01946bfbfcee1123ae43fb6",
            "placeholder": "​",
            "style": "IPY_MODEL_f698c076f8a1499480391aaaa1897919",
            "value": " 466k/466k [00:00&lt;00:00, 1.91MB/s]"
          }
        },
        "15e045bb441d477181018870934f42f3": {
          "model_module": "@jupyter-widgets/base",
          "model_name": "LayoutModel",
          "model_module_version": "1.2.0",
          "state": {
            "_model_module": "@jupyter-widgets/base",
            "_model_module_version": "1.2.0",
            "_model_name": "LayoutModel",
            "_view_count": null,
            "_view_module": "@jupyter-widgets/base",
            "_view_module_version": "1.2.0",
            "_view_name": "LayoutView",
            "align_content": null,
            "align_items": null,
            "align_self": null,
            "border": null,
            "bottom": null,
            "display": null,
            "flex": null,
            "flex_flow": null,
            "grid_area": null,
            "grid_auto_columns": null,
            "grid_auto_flow": null,
            "grid_auto_rows": null,
            "grid_column": null,
            "grid_gap": null,
            "grid_row": null,
            "grid_template_areas": null,
            "grid_template_columns": null,
            "grid_template_rows": null,
            "height": null,
            "justify_content": null,
            "justify_items": null,
            "left": null,
            "margin": null,
            "max_height": null,
            "max_width": null,
            "min_height": null,
            "min_width": null,
            "object_fit": null,
            "object_position": null,
            "order": null,
            "overflow": null,
            "overflow_x": null,
            "overflow_y": null,
            "padding": null,
            "right": null,
            "top": null,
            "visibility": null,
            "width": null
          }
        },
        "814a3bbfc3814c96a1e9d2d976f4e520": {
          "model_module": "@jupyter-widgets/base",
          "model_name": "LayoutModel",
          "model_module_version": "1.2.0",
          "state": {
            "_model_module": "@jupyter-widgets/base",
            "_model_module_version": "1.2.0",
            "_model_name": "LayoutModel",
            "_view_count": null,
            "_view_module": "@jupyter-widgets/base",
            "_view_module_version": "1.2.0",
            "_view_name": "LayoutView",
            "align_content": null,
            "align_items": null,
            "align_self": null,
            "border": null,
            "bottom": null,
            "display": null,
            "flex": null,
            "flex_flow": null,
            "grid_area": null,
            "grid_auto_columns": null,
            "grid_auto_flow": null,
            "grid_auto_rows": null,
            "grid_column": null,
            "grid_gap": null,
            "grid_row": null,
            "grid_template_areas": null,
            "grid_template_columns": null,
            "grid_template_rows": null,
            "height": null,
            "justify_content": null,
            "justify_items": null,
            "left": null,
            "margin": null,
            "max_height": null,
            "max_width": null,
            "min_height": null,
            "min_width": null,
            "object_fit": null,
            "object_position": null,
            "order": null,
            "overflow": null,
            "overflow_x": null,
            "overflow_y": null,
            "padding": null,
            "right": null,
            "top": null,
            "visibility": null,
            "width": null
          }
        },
        "879abfa95ada446988e4ece3797ec581": {
          "model_module": "@jupyter-widgets/controls",
          "model_name": "DescriptionStyleModel",
          "model_module_version": "1.5.0",
          "state": {
            "_model_module": "@jupyter-widgets/controls",
            "_model_module_version": "1.5.0",
            "_model_name": "DescriptionStyleModel",
            "_view_count": null,
            "_view_module": "@jupyter-widgets/base",
            "_view_module_version": "1.2.0",
            "_view_name": "StyleView",
            "description_width": ""
          }
        },
        "978fdf963ab44c189b59e70b196eb159": {
          "model_module": "@jupyter-widgets/base",
          "model_name": "LayoutModel",
          "model_module_version": "1.2.0",
          "state": {
            "_model_module": "@jupyter-widgets/base",
            "_model_module_version": "1.2.0",
            "_model_name": "LayoutModel",
            "_view_count": null,
            "_view_module": "@jupyter-widgets/base",
            "_view_module_version": "1.2.0",
            "_view_name": "LayoutView",
            "align_content": null,
            "align_items": null,
            "align_self": null,
            "border": null,
            "bottom": null,
            "display": null,
            "flex": null,
            "flex_flow": null,
            "grid_area": null,
            "grid_auto_columns": null,
            "grid_auto_flow": null,
            "grid_auto_rows": null,
            "grid_column": null,
            "grid_gap": null,
            "grid_row": null,
            "grid_template_areas": null,
            "grid_template_columns": null,
            "grid_template_rows": null,
            "height": null,
            "justify_content": null,
            "justify_items": null,
            "left": null,
            "margin": null,
            "max_height": null,
            "max_width": null,
            "min_height": null,
            "min_width": null,
            "object_fit": null,
            "object_position": null,
            "order": null,
            "overflow": null,
            "overflow_x": null,
            "overflow_y": null,
            "padding": null,
            "right": null,
            "top": null,
            "visibility": null,
            "width": null
          }
        },
        "9475714d9a0c49f18b1b761191ffe752": {
          "model_module": "@jupyter-widgets/controls",
          "model_name": "ProgressStyleModel",
          "model_module_version": "1.5.0",
          "state": {
            "_model_module": "@jupyter-widgets/controls",
            "_model_module_version": "1.5.0",
            "_model_name": "ProgressStyleModel",
            "_view_count": null,
            "_view_module": "@jupyter-widgets/base",
            "_view_module_version": "1.2.0",
            "_view_name": "StyleView",
            "bar_color": null,
            "description_width": ""
          }
        },
        "051e20e3e01946bfbfcee1123ae43fb6": {
          "model_module": "@jupyter-widgets/base",
          "model_name": "LayoutModel",
          "model_module_version": "1.2.0",
          "state": {
            "_model_module": "@jupyter-widgets/base",
            "_model_module_version": "1.2.0",
            "_model_name": "LayoutModel",
            "_view_count": null,
            "_view_module": "@jupyter-widgets/base",
            "_view_module_version": "1.2.0",
            "_view_name": "LayoutView",
            "align_content": null,
            "align_items": null,
            "align_self": null,
            "border": null,
            "bottom": null,
            "display": null,
            "flex": null,
            "flex_flow": null,
            "grid_area": null,
            "grid_auto_columns": null,
            "grid_auto_flow": null,
            "grid_auto_rows": null,
            "grid_column": null,
            "grid_gap": null,
            "grid_row": null,
            "grid_template_areas": null,
            "grid_template_columns": null,
            "grid_template_rows": null,
            "height": null,
            "justify_content": null,
            "justify_items": null,
            "left": null,
            "margin": null,
            "max_height": null,
            "max_width": null,
            "min_height": null,
            "min_width": null,
            "object_fit": null,
            "object_position": null,
            "order": null,
            "overflow": null,
            "overflow_x": null,
            "overflow_y": null,
            "padding": null,
            "right": null,
            "top": null,
            "visibility": null,
            "width": null
          }
        },
        "f698c076f8a1499480391aaaa1897919": {
          "model_module": "@jupyter-widgets/controls",
          "model_name": "DescriptionStyleModel",
          "model_module_version": "1.5.0",
          "state": {
            "_model_module": "@jupyter-widgets/controls",
            "_model_module_version": "1.5.0",
            "_model_name": "DescriptionStyleModel",
            "_view_count": null,
            "_view_module": "@jupyter-widgets/base",
            "_view_module_version": "1.2.0",
            "_view_name": "StyleView",
            "description_width": ""
          }
        },
        "3745adc0188e40578319d10d8423ec5b": {
          "model_module": "@jupyter-widgets/controls",
          "model_name": "HBoxModel",
          "model_module_version": "1.5.0",
          "state": {
            "_dom_classes": [],
            "_model_module": "@jupyter-widgets/controls",
            "_model_module_version": "1.5.0",
            "_model_name": "HBoxModel",
            "_view_count": null,
            "_view_module": "@jupyter-widgets/controls",
            "_view_module_version": "1.5.0",
            "_view_name": "HBoxView",
            "box_style": "",
            "children": [
              "IPY_MODEL_63db5b9f6e2d4770ac587bad551a35fc",
              "IPY_MODEL_44f670c7de064df78da1486f14d25579",
              "IPY_MODEL_a7ef3972841d4b7ab2b1f92fc0811d01"
            ],
            "layout": "IPY_MODEL_e535c51c6b434376afba7a83740db2a9"
          }
        },
        "63db5b9f6e2d4770ac587bad551a35fc": {
          "model_module": "@jupyter-widgets/controls",
          "model_name": "HTMLModel",
          "model_module_version": "1.5.0",
          "state": {
            "_dom_classes": [],
            "_model_module": "@jupyter-widgets/controls",
            "_model_module_version": "1.5.0",
            "_model_name": "HTMLModel",
            "_view_count": null,
            "_view_module": "@jupyter-widgets/controls",
            "_view_module_version": "1.5.0",
            "_view_name": "HTMLView",
            "description": "",
            "description_tooltip": null,
            "layout": "IPY_MODEL_1454d40db4c0480eb06cd752bce1161e",
            "placeholder": "​",
            "style": "IPY_MODEL_072d367eb771400e9d792da970b1b33d",
            "value": "model.safetensors: 100%"
          }
        },
        "44f670c7de064df78da1486f14d25579": {
          "model_module": "@jupyter-widgets/controls",
          "model_name": "FloatProgressModel",
          "model_module_version": "1.5.0",
          "state": {
            "_dom_classes": [],
            "_model_module": "@jupyter-widgets/controls",
            "_model_module_version": "1.5.0",
            "_model_name": "FloatProgressModel",
            "_view_count": null,
            "_view_module": "@jupyter-widgets/controls",
            "_view_module_version": "1.5.0",
            "_view_name": "ProgressView",
            "bar_style": "success",
            "description": "",
            "description_tooltip": null,
            "layout": "IPY_MODEL_59eb85080a4a4109a1e84275e380be86",
            "max": 267954768,
            "min": 0,
            "orientation": "horizontal",
            "style": "IPY_MODEL_7d2d4a718ab240b087a205be0de623f9",
            "value": 267954768
          }
        },
        "a7ef3972841d4b7ab2b1f92fc0811d01": {
          "model_module": "@jupyter-widgets/controls",
          "model_name": "HTMLModel",
          "model_module_version": "1.5.0",
          "state": {
            "_dom_classes": [],
            "_model_module": "@jupyter-widgets/controls",
            "_model_module_version": "1.5.0",
            "_model_name": "HTMLModel",
            "_view_count": null,
            "_view_module": "@jupyter-widgets/controls",
            "_view_module_version": "1.5.0",
            "_view_name": "HTMLView",
            "description": "",
            "description_tooltip": null,
            "layout": "IPY_MODEL_43180e0a838d4ad9a8e9df1d593b2cdf",
            "placeholder": "​",
            "style": "IPY_MODEL_11d836e5967f49e1b93cebfe54236909",
            "value": " 268M/268M [00:03&lt;00:00, 89.0MB/s]"
          }
        },
        "e535c51c6b434376afba7a83740db2a9": {
          "model_module": "@jupyter-widgets/base",
          "model_name": "LayoutModel",
          "model_module_version": "1.2.0",
          "state": {
            "_model_module": "@jupyter-widgets/base",
            "_model_module_version": "1.2.0",
            "_model_name": "LayoutModel",
            "_view_count": null,
            "_view_module": "@jupyter-widgets/base",
            "_view_module_version": "1.2.0",
            "_view_name": "LayoutView",
            "align_content": null,
            "align_items": null,
            "align_self": null,
            "border": null,
            "bottom": null,
            "display": null,
            "flex": null,
            "flex_flow": null,
            "grid_area": null,
            "grid_auto_columns": null,
            "grid_auto_flow": null,
            "grid_auto_rows": null,
            "grid_column": null,
            "grid_gap": null,
            "grid_row": null,
            "grid_template_areas": null,
            "grid_template_columns": null,
            "grid_template_rows": null,
            "height": null,
            "justify_content": null,
            "justify_items": null,
            "left": null,
            "margin": null,
            "max_height": null,
            "max_width": null,
            "min_height": null,
            "min_width": null,
            "object_fit": null,
            "object_position": null,
            "order": null,
            "overflow": null,
            "overflow_x": null,
            "overflow_y": null,
            "padding": null,
            "right": null,
            "top": null,
            "visibility": null,
            "width": null
          }
        },
        "1454d40db4c0480eb06cd752bce1161e": {
          "model_module": "@jupyter-widgets/base",
          "model_name": "LayoutModel",
          "model_module_version": "1.2.0",
          "state": {
            "_model_module": "@jupyter-widgets/base",
            "_model_module_version": "1.2.0",
            "_model_name": "LayoutModel",
            "_view_count": null,
            "_view_module": "@jupyter-widgets/base",
            "_view_module_version": "1.2.0",
            "_view_name": "LayoutView",
            "align_content": null,
            "align_items": null,
            "align_self": null,
            "border": null,
            "bottom": null,
            "display": null,
            "flex": null,
            "flex_flow": null,
            "grid_area": null,
            "grid_auto_columns": null,
            "grid_auto_flow": null,
            "grid_auto_rows": null,
            "grid_column": null,
            "grid_gap": null,
            "grid_row": null,
            "grid_template_areas": null,
            "grid_template_columns": null,
            "grid_template_rows": null,
            "height": null,
            "justify_content": null,
            "justify_items": null,
            "left": null,
            "margin": null,
            "max_height": null,
            "max_width": null,
            "min_height": null,
            "min_width": null,
            "object_fit": null,
            "object_position": null,
            "order": null,
            "overflow": null,
            "overflow_x": null,
            "overflow_y": null,
            "padding": null,
            "right": null,
            "top": null,
            "visibility": null,
            "width": null
          }
        },
        "072d367eb771400e9d792da970b1b33d": {
          "model_module": "@jupyter-widgets/controls",
          "model_name": "DescriptionStyleModel",
          "model_module_version": "1.5.0",
          "state": {
            "_model_module": "@jupyter-widgets/controls",
            "_model_module_version": "1.5.0",
            "_model_name": "DescriptionStyleModel",
            "_view_count": null,
            "_view_module": "@jupyter-widgets/base",
            "_view_module_version": "1.2.0",
            "_view_name": "StyleView",
            "description_width": ""
          }
        },
        "59eb85080a4a4109a1e84275e380be86": {
          "model_module": "@jupyter-widgets/base",
          "model_name": "LayoutModel",
          "model_module_version": "1.2.0",
          "state": {
            "_model_module": "@jupyter-widgets/base",
            "_model_module_version": "1.2.0",
            "_model_name": "LayoutModel",
            "_view_count": null,
            "_view_module": "@jupyter-widgets/base",
            "_view_module_version": "1.2.0",
            "_view_name": "LayoutView",
            "align_content": null,
            "align_items": null,
            "align_self": null,
            "border": null,
            "bottom": null,
            "display": null,
            "flex": null,
            "flex_flow": null,
            "grid_area": null,
            "grid_auto_columns": null,
            "grid_auto_flow": null,
            "grid_auto_rows": null,
            "grid_column": null,
            "grid_gap": null,
            "grid_row": null,
            "grid_template_areas": null,
            "grid_template_columns": null,
            "grid_template_rows": null,
            "height": null,
            "justify_content": null,
            "justify_items": null,
            "left": null,
            "margin": null,
            "max_height": null,
            "max_width": null,
            "min_height": null,
            "min_width": null,
            "object_fit": null,
            "object_position": null,
            "order": null,
            "overflow": null,
            "overflow_x": null,
            "overflow_y": null,
            "padding": null,
            "right": null,
            "top": null,
            "visibility": null,
            "width": null
          }
        },
        "7d2d4a718ab240b087a205be0de623f9": {
          "model_module": "@jupyter-widgets/controls",
          "model_name": "ProgressStyleModel",
          "model_module_version": "1.5.0",
          "state": {
            "_model_module": "@jupyter-widgets/controls",
            "_model_module_version": "1.5.0",
            "_model_name": "ProgressStyleModel",
            "_view_count": null,
            "_view_module": "@jupyter-widgets/base",
            "_view_module_version": "1.2.0",
            "_view_name": "StyleView",
            "bar_color": null,
            "description_width": ""
          }
        },
        "43180e0a838d4ad9a8e9df1d593b2cdf": {
          "model_module": "@jupyter-widgets/base",
          "model_name": "LayoutModel",
          "model_module_version": "1.2.0",
          "state": {
            "_model_module": "@jupyter-widgets/base",
            "_model_module_version": "1.2.0",
            "_model_name": "LayoutModel",
            "_view_count": null,
            "_view_module": "@jupyter-widgets/base",
            "_view_module_version": "1.2.0",
            "_view_name": "LayoutView",
            "align_content": null,
            "align_items": null,
            "align_self": null,
            "border": null,
            "bottom": null,
            "display": null,
            "flex": null,
            "flex_flow": null,
            "grid_area": null,
            "grid_auto_columns": null,
            "grid_auto_flow": null,
            "grid_auto_rows": null,
            "grid_column": null,
            "grid_gap": null,
            "grid_row": null,
            "grid_template_areas": null,
            "grid_template_columns": null,
            "grid_template_rows": null,
            "height": null,
            "justify_content": null,
            "justify_items": null,
            "left": null,
            "margin": null,
            "max_height": null,
            "max_width": null,
            "min_height": null,
            "min_width": null,
            "object_fit": null,
            "object_position": null,
            "order": null,
            "overflow": null,
            "overflow_x": null,
            "overflow_y": null,
            "padding": null,
            "right": null,
            "top": null,
            "visibility": null,
            "width": null
          }
        },
        "11d836e5967f49e1b93cebfe54236909": {
          "model_module": "@jupyter-widgets/controls",
          "model_name": "DescriptionStyleModel",
          "model_module_version": "1.5.0",
          "state": {
            "_model_module": "@jupyter-widgets/controls",
            "_model_module_version": "1.5.0",
            "_model_name": "DescriptionStyleModel",
            "_view_count": null,
            "_view_module": "@jupyter-widgets/base",
            "_view_module_version": "1.2.0",
            "_view_name": "StyleView",
            "description_width": ""
          }
        }
      }
    }
  },
  "nbformat": 4,
  "nbformat_minor": 0
}